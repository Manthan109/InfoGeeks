{
  "nbformat": 4,
  "nbformat_minor": 0,
  "metadata": {
    "colab": {
      "name": "pymp_merge_final.ipynb",
      "provenance": [],
      "collapsed_sections": []
    },
    "kernelspec": {
      "name": "python3",
      "display_name": "Python 3"
    },
    "language_info": {
      "name": "python"
    }
  },
  "cells": [
    {
      "cell_type": "code",
      "metadata": {
        "colab": {
          "base_uri": "https://localhost:8080/"
        },
        "id": "Mpl0Vw2JLjy7",
        "outputId": "f1f846c1-5156-4986-e305-8c6188efc668"
      },
      "source": [
        "!pip install pymp-pypi"
      ],
      "execution_count": 1,
      "outputs": [
        {
          "output_type": "stream",
          "text": [
            "Collecting pymp-pypi\n",
            "  Downloading https://files.pythonhosted.org/packages/e9/ff/8ec07d0c901d4161012ae505d47b459dd30d5112b8ba4abca33811e62243/pymp_pypi-0.4.3-py3-none-any.whl\n",
            "Installing collected packages: pymp-pypi\n",
            "Successfully installed pymp-pypi-0.4.3\n"
          ],
          "name": "stdout"
        }
      ]
    },
    {
      "cell_type": "code",
      "metadata": {
        "id": "arUUThXmNpRt"
      },
      "source": [
        "import pymp"
      ],
      "execution_count": 2,
      "outputs": []
    },
    {
      "cell_type": "code",
      "metadata": {
        "id": "fUJk-FbSL6XT"
      },
      "source": [
        "def add(a, result):\n",
        "  for i in range(1, 10):\n",
        "    result.append(i)\n",
        "\n",
        "def sub(a, result):\n",
        "  for i in range(1, 10):\n",
        "    result.append(i * i)\n",
        "\n",
        "def mult(a, result):\n",
        "  for i in range(1, 10):\n",
        "    result.append(i + 10)\n",
        "\n",
        "def div(a, result):\n",
        "  for i in range(1, 10):\n",
        "    result.append(i + 100)"
      ],
      "execution_count": 41,
      "outputs": []
    },
    {
      "cell_type": "code",
      "metadata": {
        "id": "3qqtQ-WDL1h0"
      },
      "source": [
        "functions = [mult, div, add, sub]"
      ],
      "execution_count": 19,
      "outputs": []
    },
    {
      "cell_type": "code",
      "metadata": {
        "id": "H8vgPGjVLnPL"
      },
      "source": [
        "a = 10\n",
        "results = [[] for i in range(4)]\n",
        "\n",
        "with pymp.Parallel() as p:\n",
        "  for i in p.range(len(functions)):\n",
        "    functions[i](a, results[i])"
      ],
      "execution_count": 15,
      "outputs": []
    },
    {
      "cell_type": "code",
      "metadata": {
        "colab": {
          "base_uri": "https://localhost:8080/"
        },
        "id": "f8sn_VnzcnLY",
        "outputId": "0dacbe82-44b7-4914-a149-04046d89f5f9"
      },
      "source": [
        "results"
      ],
      "execution_count": 20,
      "outputs": [
        {
          "output_type": "execute_result",
          "data": {
            "text/plain": [
              "[[11, 12, 13, 14, 15, 16, 17, 18, 19],\n",
              " [101, 102, 103, 104, 105, 106, 107, 108, 109],\n",
              " [],\n",
              " []]"
            ]
          },
          "metadata": {
            "tags": []
          },
          "execution_count": 20
        }
      ]
    },
    {
      "cell_type": "code",
      "metadata": {
        "id": "FXL3J9vfNHBs"
      },
      "source": [
        "# global shared variable\n",
        "result = pymp.shared.list([pymp.shared.list([]) for i in range(4)])"
      ],
      "execution_count": 24,
      "outputs": []
    },
    {
      "cell_type": "code",
      "metadata": {
        "id": "3gCenvQjOH6l"
      },
      "source": [
        "with pymp.Parallel() as p:\n",
        "  for i in p.range(len(functions)):\n",
        "    functions[i](a, results[i])"
      ],
      "execution_count": 25,
      "outputs": []
    },
    {
      "cell_type": "code",
      "metadata": {
        "id": "2rcFRLcOM1Nh"
      },
      "source": [
        "results"
      ],
      "execution_count": null,
      "outputs": []
    },
    {
      "cell_type": "code",
      "metadata": {
        "id": "vms_AgIOOT5X"
      },
      "source": [
        "# twittter-> tweets\n",
        "# github -> repo links\n",
        "# news links\n",
        "# summary--> non-parallel\n",
        "# youtube links --> parallel"
      ],
      "execution_count": null,
      "outputs": []
    },
    {
      "cell_type": "code",
      "metadata": {
        "id": "NktWuHyTboEL"
      },
      "source": [
        "# multiprocessing"
      ],
      "execution_count": null,
      "outputs": []
    },
    {
      "cell_type": "code",
      "metadata": {
        "id": "ZBjM1-eadnY4"
      },
      "source": [
        "a = 10\n",
        "results = [[] for i in range(4)]\n",
        "\n",
        "with pymp.Parallel() as p:\n",
        "  for i in p.range(len(functions)):\n",
        "    functions[i](a, results[i])"
      ],
      "execution_count": null,
      "outputs": []
    },
    {
      "cell_type": "code",
      "metadata": {
        "colab": {
          "base_uri": "https://localhost:8080/"
        },
        "id": "A0rZNgasduEb",
        "outputId": "cdfd0579-1a7f-4d77-aadb-e8ec2012a485"
      },
      "source": [
        "import os\n",
        "os.cpu_count()"
      ],
      "execution_count": 27,
      "outputs": [
        {
          "output_type": "execute_result",
          "data": {
            "text/plain": [
              "2"
            ]
          },
          "metadata": {
            "tags": []
          },
          "execution_count": 27
        }
      ]
    },
    {
      "cell_type": "code",
      "metadata": {
        "id": "WF-ShvhTdwOw"
      },
      "source": [
        "import multiprocessing\n",
        "global final_results\n",
        "final_results = []\n",
        "query = \"deep learning\"\n",
        "with multiprocessing.Manager() as manager:\n",
        "\n",
        "  processes = manager.list([manager.list() for i in range(4)])\n",
        "\n",
        "  p1 = multiprocessing.Process(target=add, args=(query, processes[0]))\n",
        "  p2 = multiprocessing.Process(target=sub, args=(query, processes[1]))\n",
        "  p3 = multiprocessing.Process(target=mult, args=(query, processes[2]))\n",
        "  p4 = multiprocessing.Process(target=div, args=(query, processes[3]))\n",
        "\n",
        "  p1.start()\n",
        "  p2.start()\n",
        "  p3.start()\n",
        "  p4.start()\n",
        "\n",
        "  p1.join()\n",
        "  p2.join()\n",
        "  p3.join()\n",
        "  p4.join()\n",
        "\n",
        "  # store the results in the global variable\n",
        "  for i in processes:\n",
        "    final_results.append(list(i))\n",
        "  "
      ],
      "execution_count": 93,
      "outputs": []
    },
    {
      "cell_type": "code",
      "metadata": {
        "colab": {
          "base_uri": "https://localhost:8080/"
        },
        "id": "sNkikgeFjfbm",
        "outputId": "e3402f92-a9b2-4707-b3e8-73c9a3c699c6"
      },
      "source": [
        "final_results"
      ],
      "execution_count": 94,
      "outputs": [
        {
          "output_type": "execute_result",
          "data": {
            "text/plain": [
              "[[1, 2, 3, 4, 5, 6, 7, 8, 9],\n",
              " [1, 4, 9, 16, 25, 36, 49, 64, 81],\n",
              " [11, 12, 13, 14, 15, 16, 17, 18, 19],\n",
              " [101, 102, 103, 104, 105, 106, 107, 108, 109]]"
            ]
          },
          "metadata": {
            "tags": []
          },
          "execution_count": 94
        }
      ]
    }
  ]
}
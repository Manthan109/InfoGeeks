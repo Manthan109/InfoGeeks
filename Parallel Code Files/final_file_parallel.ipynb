{
  "nbformat": 4,
  "nbformat_minor": 0,
  "metadata": {
    "colab": {
      "name": "final_file_parallel.ipynb",
      "provenance": [],
      "collapsed_sections": []
    },
    "kernelspec": {
      "name": "python3",
      "display_name": "Python 3"
    },
    "language_info": {
      "name": "python"
    }
  },
  "cells": [
    {
      "cell_type": "code",
      "metadata": {
        "id": "npBfOE4lgqRd",
        "colab": {
          "base_uri": "https://localhost:8080/"
        },
        "outputId": "23f0172a-c9f1-4150-d38d-9124f9a39ef6"
      },
      "source": [
        "#set up for selenium\n",
        "\n",
        "!pip install selenium\n",
        "!apt-get update # to update ubuntu to correctly run apt install\n",
        "!apt install chromium-chromedriver\n",
        "!cp /usr/lib/chromium-browser/chromedriver /usr/bin\n",
        "\n",
        "from selenium import webdriver\n",
        "from selenium.webdriver.common.keys import Keys\n",
        "\n",
        "# creating a chrome instance. \n",
        "chrome_options = webdriver.ChromeOptions()\n",
        "chrome_options.add_argument('--headless')\n",
        "chrome_options.add_argument('--no-sandbox')\n",
        "chrome_options.add_argument('--disable-dev-shm-usage')\n",
        "driver = webdriver.Chrome('chromedriver',chrome_options=chrome_options) # repalce the first argument with the path of your driver\n"
      ],
      "execution_count": 2,
      "outputs": [
        {
          "output_type": "stream",
          "text": [
            "Requirement already satisfied: selenium in /usr/local/lib/python3.7/dist-packages (3.141.0)\n",
            "Requirement already satisfied: urllib3 in /usr/local/lib/python3.7/dist-packages (from selenium) (1.24.3)\n",
            "Hit:1 http://security.ubuntu.com/ubuntu bionic-security InRelease\n",
            "Ign:2 https://developer.download.nvidia.com/compute/cuda/repos/ubuntu1804/x86_64  InRelease\n",
            "Hit:3 https://cloud.r-project.org/bin/linux/ubuntu bionic-cran40/ InRelease\n",
            "Ign:4 https://developer.download.nvidia.com/compute/machine-learning/repos/ubuntu1804/x86_64  InRelease\n",
            "Hit:5 https://developer.download.nvidia.com/compute/cuda/repos/ubuntu1804/x86_64  Release\n",
            "Hit:6 http://ppa.launchpad.net/c2d4u.team/c2d4u4.0+/ubuntu bionic InRelease\n",
            "Hit:7 http://archive.ubuntu.com/ubuntu bionic InRelease\n",
            "Hit:8 https://developer.download.nvidia.com/compute/machine-learning/repos/ubuntu1804/x86_64  Release\n",
            "Hit:9 http://archive.ubuntu.com/ubuntu bionic-updates InRelease\n",
            "Hit:10 http://ppa.launchpad.net/cran/libgit2/ubuntu bionic InRelease\n",
            "Hit:11 http://archive.ubuntu.com/ubuntu bionic-backports InRelease\n",
            "Hit:12 http://ppa.launchpad.net/deadsnakes/ppa/ubuntu bionic InRelease\n",
            "Hit:13 http://ppa.launchpad.net/graphics-drivers/ppa/ubuntu bionic InRelease\n",
            "Reading package lists... Done\n",
            "Reading package lists... Done\n",
            "Building dependency tree       \n",
            "Reading state information... Done\n",
            "chromium-chromedriver is already the newest version (90.0.4430.72-0ubuntu0.18.04.1).\n",
            "0 upgraded, 0 newly installed, 0 to remove and 79 not upgraded.\n",
            "cp: '/usr/lib/chromium-browser/chromedriver' and '/usr/bin/chromedriver' are the same file\n"
          ],
          "name": "stdout"
        },
        {
          "output_type": "stream",
          "text": [
            "/usr/local/lib/python3.7/dist-packages/ipykernel_launcher.py:16: DeprecationWarning: use options instead of chrome_options\n",
            "  app.launch_new_instance()\n"
          ],
          "name": "stderr"
        }
      ]
    },
    {
      "cell_type": "code",
      "metadata": {
        "id": "jt03sOLYh8v7",
        "colab": {
          "base_uri": "https://localhost:8080/"
        },
        "outputId": "a0a4e366-dea7-4cf5-e3c7-7a5fc8dd027b"
      },
      "source": [
        "# setup with tweets\n",
        "!pip install tweepy\n",
        "!pip install textblob"
      ],
      "execution_count": 8,
      "outputs": [
        {
          "output_type": "stream",
          "text": [
            "Requirement already satisfied: tweepy in /usr/local/lib/python3.7/dist-packages (3.10.0)\n",
            "Requirement already satisfied: six>=1.10.0 in /usr/local/lib/python3.7/dist-packages (from tweepy) (1.15.0)\n",
            "Requirement already satisfied: requests-oauthlib>=0.7.0 in /usr/local/lib/python3.7/dist-packages (from tweepy) (1.3.0)\n",
            "Requirement already satisfied: requests[socks]>=2.11.1 in /usr/local/lib/python3.7/dist-packages (from tweepy) (2.23.0)\n",
            "Requirement already satisfied: oauthlib>=3.0.0 in /usr/local/lib/python3.7/dist-packages (from requests-oauthlib>=0.7.0->tweepy) (3.1.0)\n",
            "Requirement already satisfied: certifi>=2017.4.17 in /usr/local/lib/python3.7/dist-packages (from requests[socks]>=2.11.1->tweepy) (2020.12.5)\n",
            "Requirement already satisfied: idna<3,>=2.5 in /usr/local/lib/python3.7/dist-packages (from requests[socks]>=2.11.1->tweepy) (2.10)\n",
            "Requirement already satisfied: chardet<4,>=3.0.2 in /usr/local/lib/python3.7/dist-packages (from requests[socks]>=2.11.1->tweepy) (3.0.4)\n",
            "Requirement already satisfied: urllib3!=1.25.0,!=1.25.1,<1.26,>=1.21.1 in /usr/local/lib/python3.7/dist-packages (from requests[socks]>=2.11.1->tweepy) (1.24.3)\n",
            "Requirement already satisfied: PySocks!=1.5.7,>=1.5.6; extra == \"socks\" in /usr/local/lib/python3.7/dist-packages (from requests[socks]>=2.11.1->tweepy) (1.7.1)\n",
            "Requirement already satisfied: textblob in /usr/local/lib/python3.7/dist-packages (0.15.3)\n",
            "Requirement already satisfied: nltk>=3.1 in /usr/local/lib/python3.7/dist-packages (from textblob) (3.2.5)\n",
            "Requirement already satisfied: six in /usr/local/lib/python3.7/dist-packages (from nltk>=3.1->textblob) (1.15.0)\n"
          ],
          "name": "stdout"
        }
      ]
    },
    {
      "cell_type": "code",
      "metadata": {
        "id": "JTns8bMDiDqZ",
        "colab": {
          "base_uri": "https://localhost:8080/"
        },
        "outputId": "59c6970a-ba5c-4dfe-a4ca-6aa9371502ba"
      },
      "source": [
        "!pip install PyGithub"
      ],
      "execution_count": 7,
      "outputs": [
        {
          "output_type": "stream",
          "text": [
            "Collecting PyGithub\n",
            "\u001b[?25l  Downloading https://files.pythonhosted.org/packages/18/44/df78514f2b5f5abaec330596e0fa3273824238399a964d1a7e82fd39990d/PyGithub-1.54.1-py3-none-any.whl (289kB)\n",
            "\r\u001b[K     |█▏                              | 10kB 12.5MB/s eta 0:00:01\r\u001b[K     |██▎                             | 20kB 10.9MB/s eta 0:00:01\r\u001b[K     |███▍                            | 30kB 7.5MB/s eta 0:00:01\r\u001b[K     |████▌                           | 40kB 6.8MB/s eta 0:00:01\r\u001b[K     |█████▊                          | 51kB 3.8MB/s eta 0:00:01\r\u001b[K     |██████▉                         | 61kB 4.4MB/s eta 0:00:01\r\u001b[K     |████████                        | 71kB 4.6MB/s eta 0:00:01\r\u001b[K     |█████████                       | 81kB 4.5MB/s eta 0:00:01\r\u001b[K     |██████████▏                     | 92kB 4.9MB/s eta 0:00:01\r\u001b[K     |███████████▍                    | 102kB 5.2MB/s eta 0:00:01\r\u001b[K     |████████████▌                   | 112kB 5.2MB/s eta 0:00:01\r\u001b[K     |█████████████▋                  | 122kB 5.2MB/s eta 0:00:01\r\u001b[K     |██████████████▊                 | 133kB 5.2MB/s eta 0:00:01\r\u001b[K     |███████████████▉                | 143kB 5.2MB/s eta 0:00:01\r\u001b[K     |█████████████████               | 153kB 5.2MB/s eta 0:00:01\r\u001b[K     |██████████████████▏             | 163kB 5.2MB/s eta 0:00:01\r\u001b[K     |███████████████████▎            | 174kB 5.2MB/s eta 0:00:01\r\u001b[K     |████████████████████▍           | 184kB 5.2MB/s eta 0:00:01\r\u001b[K     |█████████████████████▌          | 194kB 5.2MB/s eta 0:00:01\r\u001b[K     |██████████████████████▊         | 204kB 5.2MB/s eta 0:00:01\r\u001b[K     |███████████████████████▉        | 215kB 5.2MB/s eta 0:00:01\r\u001b[K     |█████████████████████████       | 225kB 5.2MB/s eta 0:00:01\r\u001b[K     |██████████████████████████      | 235kB 5.2MB/s eta 0:00:01\r\u001b[K     |███████████████████████████▏    | 245kB 5.2MB/s eta 0:00:01\r\u001b[K     |████████████████████████████▍   | 256kB 5.2MB/s eta 0:00:01\r\u001b[K     |█████████████████████████████▌  | 266kB 5.2MB/s eta 0:00:01\r\u001b[K     |██████████████████████████████▋ | 276kB 5.2MB/s eta 0:00:01\r\u001b[K     |███████████████████████████████▊| 286kB 5.2MB/s eta 0:00:01\r\u001b[K     |████████████████████████████████| 296kB 5.2MB/s \n",
            "\u001b[?25hCollecting pyjwt<2.0\n",
            "  Downloading https://files.pythonhosted.org/packages/87/8b/6a9f14b5f781697e51259d81657e6048fd31a113229cf346880bb7545565/PyJWT-1.7.1-py2.py3-none-any.whl\n",
            "Collecting deprecated\n",
            "  Downloading https://files.pythonhosted.org/packages/fb/73/994edfcba74443146c84b91921fcc269374354118d4f452fb0c54c1cbb12/Deprecated-1.2.12-py2.py3-none-any.whl\n",
            "Requirement already satisfied: requests>=2.14.0 in /usr/local/lib/python3.7/dist-packages (from PyGithub) (2.23.0)\n",
            "Requirement already satisfied: wrapt<2,>=1.10 in /usr/local/lib/python3.7/dist-packages (from deprecated->PyGithub) (1.12.1)\n",
            "Requirement already satisfied: urllib3!=1.25.0,!=1.25.1,<1.26,>=1.21.1 in /usr/local/lib/python3.7/dist-packages (from requests>=2.14.0->PyGithub) (1.24.3)\n",
            "Requirement already satisfied: idna<3,>=2.5 in /usr/local/lib/python3.7/dist-packages (from requests>=2.14.0->PyGithub) (2.10)\n",
            "Requirement already satisfied: certifi>=2017.4.17 in /usr/local/lib/python3.7/dist-packages (from requests>=2.14.0->PyGithub) (2020.12.5)\n",
            "Requirement already satisfied: chardet<4,>=3.0.2 in /usr/local/lib/python3.7/dist-packages (from requests>=2.14.0->PyGithub) (3.0.4)\n",
            "Installing collected packages: pyjwt, deprecated, PyGithub\n",
            "Successfully installed PyGithub-1.54.1 deprecated-1.2.12 pyjwt-1.7.1\n"
          ],
          "name": "stdout"
        }
      ]
    },
    {
      "cell_type": "code",
      "metadata": {
        "id": "gXqfHsDFsyNA",
        "colab": {
          "base_uri": "https://localhost:8080/"
        },
        "outputId": "51937588-1f31-4628-bbc4-4f64a38964b4"
      },
      "source": [
        "!pip install pymp-pypi"
      ],
      "execution_count": 6,
      "outputs": [
        {
          "output_type": "stream",
          "text": [
            "Collecting pymp-pypi\n",
            "  Downloading https://files.pythonhosted.org/packages/e9/ff/8ec07d0c901d4161012ae505d47b459dd30d5112b8ba4abca33811e62243/pymp_pypi-0.4.3-py3-none-any.whl\n",
            "Installing collected packages: pymp-pypi\n",
            "Successfully installed pymp-pypi-0.4.3\n"
          ],
          "name": "stdout"
        }
      ]
    },
    {
      "cell_type": "code",
      "metadata": {
        "id": "sYKu4wtOrLh5"
      },
      "source": [
        "from selenium import webdriver\n",
        "from selenium.webdriver.common.keys import Keys\n",
        "from bs4 import BeautifulSoup\n",
        "import time"
      ],
      "execution_count": 1,
      "outputs": []
    },
    {
      "cell_type": "code",
      "metadata": {
        "colab": {
          "base_uri": "https://localhost:8080/"
        },
        "id": "kujjdO-9rUQX",
        "outputId": "190f7642-0ed4-434f-ae97-870222d26774"
      },
      "source": [
        "# redirecting to google.com \n",
        "chrome_options = webdriver.ChromeOptions()\n",
        "chrome_options.add_argument('--headless')\n",
        "chrome_options.add_argument('--no-sandbox')\n",
        "chrome_options.add_argument('--disable-dev-shm-usage')\n",
        "driver = webdriver.Chrome('chromedriver',chrome_options=chrome_options) # repalce the first argument with the path of your driver\n",
        "\n",
        "\n",
        "# function for getting links from the specified category\n",
        "def link_from_category(category_link, category, n_pages):\n",
        "  class_from_categ = {\"News\":\"dbsr\", \"Videos\":\"yuRUbf\"} #class tag for categories\n",
        "  class_tag = \"\"\n",
        "  class_tag = class_from_categ[category]\n",
        "\n",
        "  results = [] # list for storing all the links\n",
        "\n",
        "\n",
        "  for page in range(1, n_pages):\n",
        "    url = category_link +  str((page - 1) * 10) \n",
        "    driver.get(url)\n",
        "\n",
        "    soup = BeautifulSoup(driver.page_source, 'html.parser')\n",
        "    search = soup.find_all('div', class_=class_tag )\n",
        "\n",
        "    for h in search:\n",
        "        results.append(h.a.get('href'))\n",
        "\n",
        "    \n",
        "  return results\n",
        "\n",
        "def links_for_search(query, n_pages=10):\n",
        "  newslinks_results = []\n",
        "  driver.get(\"https://www.google.com\")\n",
        "  # accessing the search bar and searching the specified query\n",
        "  search_bar = driver.find_element_by_name(\"q\")\n",
        "  search_bar.clear()\n",
        "  search_bar.send_keys(query)\n",
        "  search_bar.send_keys(Keys.RETURN)\n",
        "\n",
        "  # fetching the news and videos links for the specified query\n",
        "  category_list = [\"News\"]\n",
        "  category_link = []\n",
        "  for i in category_list:\n",
        "    category_link.append(driver.find_element_by_link_text(i).get_attribute('href'))\n",
        "\n",
        "\n",
        "  # fetching all the links for news articles\n",
        "  newslinks_results.append(link_from_category(category_link[0], \"News\",n_pages))\n",
        "\n",
        "  return newslinks_results"
      ],
      "execution_count": 2,
      "outputs": [
        {
          "output_type": "stream",
          "text": [
            "/usr/local/lib/python3.7/dist-packages/ipykernel_launcher.py:6: DeprecationWarning: use options instead of chrome_options\n",
            "  \n"
          ],
          "name": "stderr"
        }
      ]
    },
    {
      "cell_type": "code",
      "metadata": {
        "id": "6VVPKkAlimWI"
      },
      "source": [
        "from extract_Videos import extractYoutubeVideos\n",
        "from extractrepos import extract_repos\n",
        "from sentiment_analysis_twitter import get_tweets_main"
      ],
      "execution_count": 3,
      "outputs": []
    },
    {
      "cell_type": "code",
      "metadata": {
        "id": "-PSlVf8qir-8",
        "colab": {
          "base_uri": "https://localhost:8080/"
        },
        "outputId": "f89afe10-b796-466e-8be1-432cb2e58d3f"
      },
      "source": [
        "# serial implementation\n",
        "start_time = time.time()\n",
        "\n",
        "videos_links = extractYoutubeVideos(\"deep learning\")\n",
        "\n",
        "repo_links = []\n",
        "repo_links = extract_repos(\"deep learning\")\n",
        "\n",
        "tweets = get_tweets_main(\"deep learning\")\n",
        "\n",
        "news_links = links_for_search(\"deep learning\")\n",
        "\n",
        "print(\"Time for serial implementation:\",time.time()-start_time)"
      ],
      "execution_count": 4,
      "outputs": [
        {
          "output_type": "stream",
          "text": [
            "Time for serial implementation: 9.156496286392212\n"
          ],
          "name": "stdout"
        }
      ]
    },
    {
      "cell_type": "code",
      "metadata": {
        "colab": {
          "base_uri": "https://localhost:8080/"
        },
        "id": "CV6fwT--1U6F",
        "outputId": "91cffb32-efbf-47e1-885d-602edc276f90"
      },
      "source": [
        "tweets"
      ],
      "execution_count": 5,
      "outputs": [
        {
          "output_type": "execute_result",
          "data": {
            "text/plain": [
              "[{'sentiment': 'positive',\n",
              "  'text': 'RT @restbethankful: @ACEAwareNation @UK_ACEs @AcesScotland  another good article on impact of ACEs.\\n\\nFor me - the single biggest shift has…'},\n",
              " {'sentiment': 'neutral',\n",
              "  'text': 'RT @MemeComicIndo: RA Kartini dihidupkan kembali dengan teknologi deep learning https://t.co/ZLpnVxLzRJ'},\n",
              " {'sentiment': 'neutral',\n",
              "  'text': 'RT @MarcoPark21: MIM Software Inc. Receives CE Mark Approval for Deep Learning Auto-Contouring Software - https://t.co/kf4wxsgDxF\\n\\nRead mor…'},\n",
              " {'sentiment': 'neutral',\n",
              "  'text': 'By combining #computervision and deep-learning #AI, robotics researchers are developing exoskeletons and prosthetic… https://t.co/8RXJCyfXIl'},\n",
              " {'sentiment': 'positive',\n",
              "  'text': 'RT @J3nTyrell: Deep Learning in Machine Vision Market SWOT Analysis of Top Key Player &amp; Forecasts To 2027 – KSU | The Sentinel Newspaper -…'},\n",
              " {'sentiment': 'positive',\n",
              "  'text': 'RT @morelli1__: Schools in Beoga are paralyzed &amp; they no longer have learning activities. Teachers &amp; civilians experienced deep trauma &amp; we…'},\n",
              " {'sentiment': 'positive',\n",
              "  'text': 'RT @J3nTyrell: Deep Learning Market Statistics, Trends, Analysis Size and Growth Factors by 2025 – NeighborWebSJ - NeighborWebSJ\\n\\nRead more…'},\n",
              " {'sentiment': 'neutral',\n",
              "  'text': 'RT @IainLJBrown: Deep Learning AI Improves Breast Lesion Classification on Ultrasound #ArtificialIntelligence #AI #DataScience #100DaysOfCo…'},\n",
              " {'sentiment': 'negative',\n",
              "  'text': 'Beauty is only skin deep, but ugly goes clean to the remote learning.'},\n",
              " {'sentiment': 'positive',\n",
              "  'text': 'RT @MarcoPark21: Nvidia’s GTC will feature deep learning cabal of LeCun, Hinton, Bengio - ZDNet\\n\\nRead more here: https://t.co/ftMwTXahcl\\n\\n#…'},\n",
              " {'sentiment': 'neutral',\n",
              "  'text': 'RT @TensorFlowTurk: Deep Learning for Computer Vision etkinliğimizde konuşmacılardan Ecem Deniz Babaoğlan, Tensorflow ile Öğrenme Aktarımı…'},\n",
              " {'sentiment': 'positive',\n",
              "  'text': 'RT @InduforGroup: Indufor Asia Pacific introduces a deep learning pipeline that extracts information from high-resolution aerial data. The…'},\n",
              " {'sentiment': 'positive',\n",
              "  'text': 'RT @MarcoPark21: Intel hooks up with Deci for deep learning - Electronics Weekly\\n\\nRead more here: https://t.co/oIdAbee722\\n\\n#ArtificialIntel…'},\n",
              " {'sentiment': 'neutral',\n",
              "  'text': 'Definition of Confusion Matrix https://t.co/8b3KzZiE6c #MachineLearning #ConfusionMatrix'},\n",
              " {'sentiment': 'neutral',\n",
              "  'text': 'RT @meisshaily: https://t.co/yCvXMpI7Jf\\nDeep Learning vs. Machine Learning: Explained CC @into_AI @JoyJenn1 \\n#DigitalTransformation #Machin…'},\n",
              " {'sentiment': 'positive',\n",
              "  'text': \"RT @alex_avoigt: @WR4NYGov Today internet revenue will in the future be partly consumed by deep learning - a factor most don't think about\"},\n",
              " {'sentiment': 'positive',\n",
              "  'text': 'We do love a deep delve into history. It’s not just fascinating to see how things are different, but it’s informati… https://t.co/WHXy0Adn41'},\n",
              " {'sentiment': 'neutral',\n",
              "  'text': 'BrainChip Holdings Deep Learning with Launch of MetaTF - BrainChip Holdings https://t.co/nFvoYRiOJm #deeplearning #intoAInews'},\n",
              " {'sentiment': 'neutral',\n",
              "  'text': 'By 2025, Deep Learning Chipset Market Revenue to Reach USD 5831.7 Million - Global Deep https://t.co/Gz5mG8qUNv #deeplearning #intoAInews'},\n",
              " {'sentiment': 'positive',\n",
              "  'text': \"Deep learning isn't new but there continues to be confusion around the difference between it and machine learning.… https://t.co/4S1U7bqgHJ\"},\n",
              " {'sentiment': 'positive',\n",
              "  'text': '21 Will Reflect Significant Growth in Future with Size, Share … -  https://t.co/jXA6ngbCS1 #deeplearning #intoAInews'},\n",
              " {'sentiment': 'neutral',\n",
              "  'text': 'RT @FabienBrodie: A comparative study of machine learning and deep learning algorithms to classify cancer types based on microarray gene ex…'},\n",
              " {'sentiment': 'positive',\n",
              "  'text': 'In this blog, we’ll provide you with three easy ways #datascience teams can get started with GPUs for powering… https://t.co/ewCdd7APiv'},\n",
              " {'sentiment': 'neutral',\n",
              "  'text': 'If you are looking for predictive analytical tools for your business - look no further. We supply visualization and… https://t.co/6u0cl9CVuS'},\n",
              " {'sentiment': 'positive',\n",
              "  'text': 'RT @J3nTyrell: Intel hooks up with Deci for deep learning - Electronics Weekly\\n\\nRead more here: https://t.co/qHNrVpu4LF\\n\\n#ArtificialIntelli…'},\n",
              " {'sentiment': 'positive',\n",
              "  'text': 'PROSOPAGNOSIA: La petite mort, de Joan Fontcuberta y Pilar Rosado, forma parte de la exposición New(ego). Retratos… https://t.co/JrhYZAT1kF'},\n",
              " {'sentiment': 'positive',\n",
              "  'text': \"Deep dive into dysbiosis 📈 Causes, corrections and how to tell what's going on in your gut right now:… https://t.co/aIkHO9dqmj\"},\n",
              " {'sentiment': 'positive',\n",
              "  'text': \"Galileo sunspot sketches versus modern 'deep learning' AI https://t.co/fH7yB37mI6 https://t.co/o06EcWHmwV\"},\n",
              " {'sentiment': 'positive',\n",
              "  'text': 'RT @J3nTyrell: Deep learning among top in demand skills of 2020 in India - DTNext\\n\\nRead more here: https://t.co/AM9fHld9v3\\n\\n#ArtificialInte…'},\n",
              " {'sentiment': 'neutral',\n",
              "  'text': 'RT @msjoding: 1/ Our deep learning model to detect findings of ARDS on chest x-rays, now in Lancet Digital Health\\nhttps://t.co/TNCXWkp9Tc h…'},\n",
              " {'sentiment': 'neutral',\n",
              "  'text': 'RT @machinelearnflx: Deep Learning with Python and Keras https://t.co/uA9RFaDTDj  #machinelearning #ad'},\n",
              " {'sentiment': 'neutral',\n",
              "  'text': 'RT @MITDeepLearning: 💥💥 Do you know when you can #trust your deep learning model? 🤔\\n\\nLecture 7 by @xanamini on Uncertainty Estimation in #D…'},\n",
              " {'sentiment': 'positive',\n",
              "  'text': 'RT @MarcoPark21: Deep Learning Market 2021 Disclosing Latest Trends and Advancement Outlook 2025 – Microsoft Corporation, Intel Corporation…'},\n",
              " {'sentiment': 'neutral',\n",
              "  'text': 'RT @J3nTyrell: North America Deep Learning In Machine Vision Market In-Depth Profiling Of Key Players, Geographical Outlook, Industry Size…'},\n",
              " {'sentiment': 'positive',\n",
              "  'text': \"RT @PTenigma: 85,721 MRI scans from 50,876 people (!) used to create deep learning method to detect Alzheimer's disease. In a quite large s…\"},\n",
              " {'sentiment': 'positive',\n",
              "  'text': 'RT @DeepLearningAI_: We’re thrilled to announce that Sequence Models - course 5 in the Deep Learning Specialization - has been updated to r…'},\n",
              " {'sentiment': 'neutral',\n",
              "  'text': 'RT @andi_staub: Disentangling #AI, #MachineLearning, and #DeepLearning\\n\\n#algorithms #bigdata #fintech #datascience @WhiteheartVic @MariaFar…'},\n",
              " {'sentiment': 'neutral',\n",
              "  'text': 'A Deep Learning-based approach for forecasting off-gas production and consumption in the blast furnace - PubMed… https://t.co/vrsRSxu8E5'},\n",
              " {'sentiment': 'neutral',\n",
              "  'text': 'RT @mvollmer1: What is #DeepLearning? Diving into “what is deep learning” while providing an introduction how it wo… https://t.co/1iGIDd9xlb'},\n",
              " {'sentiment': 'neutral',\n",
              "  'text': 'RT @Ritmonegro: What is a GPU? Are GPUs Needed for Deep Learning? | Medium https://t.co/zmPPE4DrXe'}]"
            ]
          },
          "metadata": {
            "tags": []
          },
          "execution_count": 5
        }
      ]
    },
    {
      "cell_type": "code",
      "metadata": {
        "colab": {
          "base_uri": "https://localhost:8080/"
        },
        "id": "1ZZ7JvmDxvLv",
        "outputId": "4dac712d-4ba2-446c-a1a8-8306bd01fd4b"
      },
      "source": [
        "repo_links"
      ],
      "execution_count": 6,
      "outputs": [
        {
          "output_type": "execute_result",
          "data": {
            "text/plain": [
              "[('https://github.com/scutan90/DeepLearning-500-questions', 44315),\n",
              " ('https://github.com/keras-team/keras', 51054),\n",
              " ('https://github.com/Mikoto10032/DeepLearning', 4999),\n",
              " ('https://github.com/exacity/deeplearningbook-chinese', 31012),\n",
              " ('https://github.com/ChristosChristofidis/awesome-deep-learning', 16997),\n",
              " ('https://github.com/mbadry1/DeepLearning.ai-Summary', 4291),\n",
              " ('https://github.com/yenchenlin/DeepLearningFlappyBird', 6045)]"
            ]
          },
          "metadata": {
            "tags": []
          },
          "execution_count": 6
        }
      ]
    },
    {
      "cell_type": "code",
      "metadata": {
        "colab": {
          "base_uri": "https://localhost:8080/"
        },
        "id": "vDASZV2RzDaa",
        "outputId": "9daa1aa3-b046-42f2-b1db-e97d0bb636f8"
      },
      "source": [
        "videos_links"
      ],
      "execution_count": 7,
      "outputs": [
        {
          "output_type": "execute_result",
          "data": {
            "text/plain": [
              "['https://www.youtube.com/watch?v=5tvmMX8r_OM',\n",
              " 'https://www.youtube.com/watch?v=6M5VXKLf4D4',\n",
              " 'https://www.youtube.com/watch?v=aircAruvnKk',\n",
              " 'https://www.youtube.com/watch?v=5tvmMX8r_OM',\n",
              " 'https://www.youtube.com/watch?v=5tvmMX8r_OM',\n",
              " 'https://www.youtube.com/watch?v=qjrad0V0uJE',\n",
              " 'https://www.youtube.com/watch?v=DooxDIRAkPA',\n",
              " 'https://www.youtube.com/watch?v=VyWAvY2CF9c',\n",
              " 'https://www.youtube.com/watch?v=njKP3FqW3Sk',\n",
              " 'https://www.youtube.com/watch?v=IHZwWFHWa-w',\n",
              " 'https://www.youtube.com/watch?v=9jA0KjS7V_c',\n",
              " 'https://www.youtube.com/watch?v=9jA0KjS7V_c',\n",
              " 'https://www.youtube.com/watch?v=DKSZHN7jftI',\n",
              " 'https://www.youtube.com/watch?v=O5xeyoRL95U',\n",
              " 'https://www.youtube.com/watch?v=qFJeN9V1ZsI',\n",
              " 'https://www.youtube.com/watch?v=0VH1Lim8gL8',\n",
              " 'https://www.youtube.com/watch?v=1OTbhtQE_Fc',\n",
              " 'https://www.youtube.com/watch?v=reY50t2hbuM',\n",
              " 'https://www.youtube.com/watch?v=M2ySRYpo9S0',\n",
              " 'https://www.youtube.com/watch?v=Zn_f6el0TKw',\n",
              " 'https://www.youtube.com/watch?v=IUHkhB366tE',\n",
              " 'https://www.youtube.com/watch?v=JIcP6SSZg2o',\n",
              " 'https://www.youtube.com/watch?v=-q3d3lD0fFM',\n",
              " 'https://www.youtube.com/watch?v=0jspaMLxBig',\n",
              " 'https://www.youtube.com/watch?v=yN7ypxC7838',\n",
              " 'https://www.youtube.com/watch?v=xxpc-HPKN28',\n",
              " 'https://www.youtube.com/watch?v=AhE8RhPGH1A',\n",
              " 'https://www.youtube.com/watch?v=-SgkLEuhfbg',\n",
              " 'https://www.youtube.com/watch?v=oJNHXPs0XDk',\n",
              " 'https://www.youtube.com/watch?v=aircAruvnKk',\n",
              " 'https://www.youtube.com/watch?v=aircAruvnKk',\n",
              " 'https://www.youtube.com/watch?v=njKP3FqW3Sk',\n",
              " 'https://www.youtube.com/watch?v=0oyCUWLL_fU',\n",
              " 'https://www.youtube.com/watch?v=GIsg-ZUy0MY',\n",
              " 'https://www.youtube.com/watch?v=3cSjsTKtN9M',\n",
              " 'https://www.youtube.com/watch?v=tXVNS-V39A0']"
            ]
          },
          "metadata": {
            "tags": []
          },
          "execution_count": 7
        }
      ]
    },
    {
      "cell_type": "code",
      "metadata": {
        "colab": {
          "base_uri": "https://localhost:8080/"
        },
        "id": "XNXPzJJw1OeS",
        "outputId": "63e541da-5828-47f0-842c-6c264d058e18"
      },
      "source": [
        "news_links"
      ],
      "execution_count": 8,
      "outputs": [
        {
          "output_type": "execute_result",
          "data": {
            "text/plain": [
              "[['https://www.globenewswire.com/news-release/2021/04/20/2213379/0/en/Nano-Dimension-Acquires-Machine-Learning-Deep-Learning-Leader-DeepCube-Ltd.html',\n",
              "  'https://www.thelancet.com/journals/landig/article/PIIS2589-7500(21)00056-X/fulltext',\n",
              "  'https://techxplore.com/news/2021-04-3d-deep-neural-network-precisely.html',\n",
              "  'https://en.globes.co.il/en/article-nano-dimension-buys-israeli-machine-learning-co-deepcube-1001368238',\n",
              "  'https://zeenews.india.com/india/deep-neural-networks-see-same-things-but-differently-from-humans-study-2356469.html',\n",
              "  'https://techxplore.com/news/2021-04-deep-networks-humans.html',\n",
              "  'https://finance.yahoo.com/news/nano-dimension-acquires-machine-learning-130000612.html',\n",
              "  'https://www.marktechpost.com/2021/04/10/computer-scientists-from-rice-university-display-cpu-algorithm-that-trains-deep-neural-networks-15-times-faster-than-gpu/',\n",
              "  'https://physicsworld.com/deep-learning-teases-apart-abdominal-ecg-signals/',\n",
              "  'https://scitechdaily.com/new-deep-learning-ai-tool-can-revolutionize-microscopy/',\n",
              "  'https://www.globenewswire.com/news-release/2021/04/20/2213379/0/en/Nano-Dimension-Acquires-Machine-Learning-Deep-Learning-Leader-DeepCube-Ltd.html',\n",
              "  'https://www.thelancet.com/journals/landig/article/PIIS2589-7500(21)00056-X/fulltext',\n",
              "  'https://techxplore.com/news/2021-04-3d-deep-neural-network-precisely.html',\n",
              "  'https://en.globes.co.il/en/article-nano-dimension-buys-israeli-machine-learning-co-deepcube-1001368238',\n",
              "  'https://zeenews.india.com/india/deep-neural-networks-see-same-things-but-differently-from-humans-study-2356469.html',\n",
              "  'https://techxplore.com/news/2021-04-deep-networks-humans.html',\n",
              "  'https://finance.yahoo.com/news/nano-dimension-acquires-machine-learning-130000612.html',\n",
              "  'https://www.marktechpost.com/2021/04/10/computer-scientists-from-rice-university-display-cpu-algorithm-that-trains-deep-neural-networks-15-times-faster-than-gpu/',\n",
              "  'https://physicsworld.com/deep-learning-teases-apart-abdominal-ecg-signals/',\n",
              "  'https://scitechdaily.com/new-deep-learning-ai-tool-can-revolutionize-microscopy/',\n",
              "  'https://www.globenewswire.com/news-release/2021/04/20/2213379/0/en/Nano-Dimension-Acquires-Machine-Learning-Deep-Learning-Leader-DeepCube-Ltd.html',\n",
              "  'https://www.thelancet.com/journals/landig/article/PIIS2589-7500(21)00056-X/fulltext',\n",
              "  'https://techxplore.com/news/2021-04-3d-deep-neural-network-precisely.html',\n",
              "  'https://en.globes.co.il/en/article-nano-dimension-buys-israeli-machine-learning-co-deepcube-1001368238',\n",
              "  'https://zeenews.india.com/india/deep-neural-networks-see-same-things-but-differently-from-humans-study-2356469.html',\n",
              "  'https://techxplore.com/news/2021-04-deep-networks-humans.html',\n",
              "  'https://finance.yahoo.com/news/nano-dimension-acquires-machine-learning-130000612.html',\n",
              "  'https://www.marktechpost.com/2021/04/10/computer-scientists-from-rice-university-display-cpu-algorithm-that-trains-deep-neural-networks-15-times-faster-than-gpu/',\n",
              "  'https://physicsworld.com/deep-learning-teases-apart-abdominal-ecg-signals/',\n",
              "  'https://scitechdaily.com/new-deep-learning-ai-tool-can-revolutionize-microscopy/',\n",
              "  'https://www.globenewswire.com/news-release/2021/04/20/2213379/0/en/Nano-Dimension-Acquires-Machine-Learning-Deep-Learning-Leader-DeepCube-Ltd.html',\n",
              "  'https://www.thelancet.com/journals/landig/article/PIIS2589-7500(21)00056-X/fulltext',\n",
              "  'https://techxplore.com/news/2021-04-3d-deep-neural-network-precisely.html',\n",
              "  'https://en.globes.co.il/en/article-nano-dimension-buys-israeli-machine-learning-co-deepcube-1001368238',\n",
              "  'https://zeenews.india.com/india/deep-neural-networks-see-same-things-but-differently-from-humans-study-2356469.html',\n",
              "  'https://techxplore.com/news/2021-04-deep-networks-humans.html',\n",
              "  'https://finance.yahoo.com/news/nano-dimension-acquires-machine-learning-130000612.html',\n",
              "  'https://www.marktechpost.com/2021/04/10/computer-scientists-from-rice-university-display-cpu-algorithm-that-trains-deep-neural-networks-15-times-faster-than-gpu/',\n",
              "  'https://physicsworld.com/deep-learning-teases-apart-abdominal-ecg-signals/',\n",
              "  'https://scitechdaily.com/new-deep-learning-ai-tool-can-revolutionize-microscopy/',\n",
              "  'https://www.globenewswire.com/news-release/2021/04/20/2213379/0/en/Nano-Dimension-Acquires-Machine-Learning-Deep-Learning-Leader-DeepCube-Ltd.html',\n",
              "  'https://www.thelancet.com/journals/landig/article/PIIS2589-7500(21)00056-X/fulltext',\n",
              "  'https://techxplore.com/news/2021-04-3d-deep-neural-network-precisely.html',\n",
              "  'https://en.globes.co.il/en/article-nano-dimension-buys-israeli-machine-learning-co-deepcube-1001368238',\n",
              "  'https://zeenews.india.com/india/deep-neural-networks-see-same-things-but-differently-from-humans-study-2356469.html',\n",
              "  'https://techxplore.com/news/2021-04-deep-networks-humans.html',\n",
              "  'https://finance.yahoo.com/news/nano-dimension-acquires-machine-learning-130000612.html',\n",
              "  'https://www.marktechpost.com/2021/04/10/computer-scientists-from-rice-university-display-cpu-algorithm-that-trains-deep-neural-networks-15-times-faster-than-gpu/',\n",
              "  'https://physicsworld.com/deep-learning-teases-apart-abdominal-ecg-signals/',\n",
              "  'https://scitechdaily.com/new-deep-learning-ai-tool-can-revolutionize-microscopy/',\n",
              "  'https://www.globenewswire.com/news-release/2021/04/20/2213379/0/en/Nano-Dimension-Acquires-Machine-Learning-Deep-Learning-Leader-DeepCube-Ltd.html',\n",
              "  'https://www.thelancet.com/journals/landig/article/PIIS2589-7500(21)00056-X/fulltext',\n",
              "  'https://techxplore.com/news/2021-04-3d-deep-neural-network-precisely.html',\n",
              "  'https://en.globes.co.il/en/article-nano-dimension-buys-israeli-machine-learning-co-deepcube-1001368238',\n",
              "  'https://zeenews.india.com/india/deep-neural-networks-see-same-things-but-differently-from-humans-study-2356469.html',\n",
              "  'https://techxplore.com/news/2021-04-deep-networks-humans.html',\n",
              "  'https://finance.yahoo.com/news/nano-dimension-acquires-machine-learning-130000612.html',\n",
              "  'https://www.marktechpost.com/2021/04/10/computer-scientists-from-rice-university-display-cpu-algorithm-that-trains-deep-neural-networks-15-times-faster-than-gpu/',\n",
              "  'https://physicsworld.com/deep-learning-teases-apart-abdominal-ecg-signals/',\n",
              "  'https://scitechdaily.com/new-deep-learning-ai-tool-can-revolutionize-microscopy/',\n",
              "  'https://www.globenewswire.com/news-release/2021/04/20/2213379/0/en/Nano-Dimension-Acquires-Machine-Learning-Deep-Learning-Leader-DeepCube-Ltd.html',\n",
              "  'https://www.thelancet.com/journals/landig/article/PIIS2589-7500(21)00056-X/fulltext',\n",
              "  'https://techxplore.com/news/2021-04-3d-deep-neural-network-precisely.html',\n",
              "  'https://en.globes.co.il/en/article-nano-dimension-buys-israeli-machine-learning-co-deepcube-1001368238',\n",
              "  'https://zeenews.india.com/india/deep-neural-networks-see-same-things-but-differently-from-humans-study-2356469.html',\n",
              "  'https://techxplore.com/news/2021-04-deep-networks-humans.html',\n",
              "  'https://finance.yahoo.com/news/nano-dimension-acquires-machine-learning-130000612.html',\n",
              "  'https://www.marktechpost.com/2021/04/10/computer-scientists-from-rice-university-display-cpu-algorithm-that-trains-deep-neural-networks-15-times-faster-than-gpu/',\n",
              "  'https://physicsworld.com/deep-learning-teases-apart-abdominal-ecg-signals/',\n",
              "  'https://scitechdaily.com/new-deep-learning-ai-tool-can-revolutionize-microscopy/',\n",
              "  'https://www.globenewswire.com/news-release/2021/04/20/2213379/0/en/Nano-Dimension-Acquires-Machine-Learning-Deep-Learning-Leader-DeepCube-Ltd.html',\n",
              "  'https://www.thelancet.com/journals/landig/article/PIIS2589-7500(21)00056-X/fulltext',\n",
              "  'https://techxplore.com/news/2021-04-3d-deep-neural-network-precisely.html',\n",
              "  'https://en.globes.co.il/en/article-nano-dimension-buys-israeli-machine-learning-co-deepcube-1001368238',\n",
              "  'https://zeenews.india.com/india/deep-neural-networks-see-same-things-but-differently-from-humans-study-2356469.html',\n",
              "  'https://techxplore.com/news/2021-04-deep-networks-humans.html',\n",
              "  'https://finance.yahoo.com/news/nano-dimension-acquires-machine-learning-130000612.html',\n",
              "  'https://www.marktechpost.com/2021/04/10/computer-scientists-from-rice-university-display-cpu-algorithm-that-trains-deep-neural-networks-15-times-faster-than-gpu/',\n",
              "  'https://physicsworld.com/deep-learning-teases-apart-abdominal-ecg-signals/',\n",
              "  'https://scitechdaily.com/new-deep-learning-ai-tool-can-revolutionize-microscopy/',\n",
              "  'https://www.globenewswire.com/news-release/2021/04/20/2213379/0/en/Nano-Dimension-Acquires-Machine-Learning-Deep-Learning-Leader-DeepCube-Ltd.html',\n",
              "  'https://www.thelancet.com/journals/landig/article/PIIS2589-7500(21)00056-X/fulltext',\n",
              "  'https://techxplore.com/news/2021-04-3d-deep-neural-network-precisely.html',\n",
              "  'https://en.globes.co.il/en/article-nano-dimension-buys-israeli-machine-learning-co-deepcube-1001368238',\n",
              "  'https://zeenews.india.com/india/deep-neural-networks-see-same-things-but-differently-from-humans-study-2356469.html',\n",
              "  'https://techxplore.com/news/2021-04-deep-networks-humans.html',\n",
              "  'https://finance.yahoo.com/news/nano-dimension-acquires-machine-learning-130000612.html',\n",
              "  'https://www.marktechpost.com/2021/04/10/computer-scientists-from-rice-university-display-cpu-algorithm-that-trains-deep-neural-networks-15-times-faster-than-gpu/',\n",
              "  'https://physicsworld.com/deep-learning-teases-apart-abdominal-ecg-signals/',\n",
              "  'https://scitechdaily.com/new-deep-learning-ai-tool-can-revolutionize-microscopy/']]"
            ]
          },
          "metadata": {
            "tags": []
          },
          "execution_count": 8
        }
      ]
    },
    {
      "cell_type": "code",
      "metadata": {
        "colab": {
          "base_uri": "https://localhost:8080/"
        },
        "id": "Zz72l-rk4327",
        "outputId": "c600f08e-8bb0-46ce-8fb2-9eff2a44747b"
      },
      "source": [
        "# redirecting to google.com \n",
        "chrome_options = webdriver.ChromeOptions()\n",
        "chrome_options.add_argument('--headless')\n",
        "chrome_options.add_argument('--no-sandbox')\n",
        "chrome_options.add_argument('--disable-dev-shm-usage')\n",
        "driver = webdriver.Chrome('chromedriver',chrome_options=chrome_options) # repalce the first argument with the path of your driver\n",
        "\n",
        "\n",
        "# function for getting links from the specified category\n",
        "def link_from_category(category_link, category, n_pages):\n",
        "  class_from_categ = {\"News\":\"dbsr\", \"Videos\":\"yuRUbf\"} #class tag for categories\n",
        "  class_tag = \"\"\n",
        "  class_tag = class_from_categ[category]\n",
        "\n",
        "  results = [] # list for storing all the links\n",
        "\n",
        "  for page in range(1, n_pages):\n",
        "    url = category_link +  str((page - 1) * 10) \n",
        "    driver.get(url)\n",
        "\n",
        "    soup = BeautifulSoup(driver.page_source, 'html.parser')\n",
        "    search = soup.find_all('div', class_=class_tag )\n",
        "\n",
        "    for h in search:\n",
        "        results.append(h.a.get('href'))\n",
        "\n",
        "    \n",
        "  return results\n",
        "\n",
        "def links_for_search_parallel(query, newslinks_results, n_pages=10):\n",
        "  driver.get(\"https://www.google.com\")\n",
        "  # accessing the search bar and searching the specified query\n",
        "  search_bar = driver.find_element_by_name(\"q\")\n",
        "  search_bar.clear()\n",
        "  search_bar.send_keys(query)\n",
        "  search_bar.send_keys(Keys.RETURN)\n",
        "\n",
        "  # fetching the news and videos links for the specified query\n",
        "  category_list = [\"News\"]\n",
        "  category_link = []\n",
        "  for i in category_list:\n",
        "    category_link.append(driver.find_element_by_link_text(i).get_attribute('href'))\n",
        "\n",
        "\n",
        "  # fetching all the links for news articles\n",
        "  newslinks_results.append(link_from_category(category_link[0], \"News\",n_pages))"
      ],
      "execution_count": 9,
      "outputs": [
        {
          "output_type": "stream",
          "text": [
            "/usr/local/lib/python3.7/dist-packages/ipykernel_launcher.py:6: DeprecationWarning: use options instead of chrome_options\n",
            "  \n"
          ],
          "name": "stderr"
        }
      ]
    },
    {
      "cell_type": "code",
      "metadata": {
        "id": "-uHf0waq3C4c"
      },
      "source": [
        "from extract_Videos_parallel import extractYoutubeVideos\n",
        "from extractrepos_parallel import extract_repos\n",
        "from sentiment_analysis_twitter_parallel import get_tweets_main"
      ],
      "execution_count": 10,
      "outputs": []
    },
    {
      "cell_type": "code",
      "metadata": {
        "colab": {
          "base_uri": "https://localhost:8080/"
        },
        "id": "ndShlqVZpnNX",
        "outputId": "04ec3aae-a4a3-4921-fbaf-c33a566833a6"
      },
      "source": [
        "# sanity check\n",
        "tweet_results = []\n",
        "get_tweets_main(\"deep learning\", tweet_results)\n",
        "tweet_results"
      ],
      "execution_count": 11,
      "outputs": [
        {
          "output_type": "execute_result",
          "data": {
            "text/plain": [
              "[[{'sentiment': 'positive',\n",
              "   'text': 'RT @restbethankful: @ACEAwareNation @UK_ACEs @AcesScotland  another good article on impact of ACEs.\\n\\nFor me - the single biggest shift has…'},\n",
              "  {'sentiment': 'neutral',\n",
              "   'text': 'RT @MemeComicIndo: RA Kartini dihidupkan kembali dengan teknologi deep learning https://t.co/ZLpnVxLzRJ'},\n",
              "  {'sentiment': 'neutral',\n",
              "   'text': 'RT @MarcoPark21: MIM Software Inc. Receives CE Mark Approval for Deep Learning Auto-Contouring Software - https://t.co/kf4wxsgDxF\\n\\nRead mor…'},\n",
              "  {'sentiment': 'neutral',\n",
              "   'text': 'By combining #computervision and deep-learning #AI, robotics researchers are developing exoskeletons and prosthetic… https://t.co/8RXJCyfXIl'},\n",
              "  {'sentiment': 'positive',\n",
              "   'text': 'RT @J3nTyrell: Deep Learning in Machine Vision Market SWOT Analysis of Top Key Player &amp; Forecasts To 2027 – KSU | The Sentinel Newspaper -…'},\n",
              "  {'sentiment': 'positive',\n",
              "   'text': 'RT @morelli1__: Schools in Beoga are paralyzed &amp; they no longer have learning activities. Teachers &amp; civilians experienced deep trauma &amp; we…'},\n",
              "  {'sentiment': 'positive',\n",
              "   'text': 'RT @J3nTyrell: Deep Learning Market Statistics, Trends, Analysis Size and Growth Factors by 2025 – NeighborWebSJ - NeighborWebSJ\\n\\nRead more…'},\n",
              "  {'sentiment': 'neutral',\n",
              "   'text': 'RT @IainLJBrown: Deep Learning AI Improves Breast Lesion Classification on Ultrasound #ArtificialIntelligence #AI #DataScience #100DaysOfCo…'},\n",
              "  {'sentiment': 'negative',\n",
              "   'text': 'Beauty is only skin deep, but ugly goes clean to the remote learning.'},\n",
              "  {'sentiment': 'positive',\n",
              "   'text': 'RT @MarcoPark21: Nvidia’s GTC will feature deep learning cabal of LeCun, Hinton, Bengio - ZDNet\\n\\nRead more here: https://t.co/ftMwTXahcl\\n\\n#…'},\n",
              "  {'sentiment': 'neutral',\n",
              "   'text': 'RT @TensorFlowTurk: Deep Learning for Computer Vision etkinliğimizde konuşmacılardan Ecem Deniz Babaoğlan, Tensorflow ile Öğrenme Aktarımı…'},\n",
              "  {'sentiment': 'positive',\n",
              "   'text': 'RT @InduforGroup: Indufor Asia Pacific introduces a deep learning pipeline that extracts information from high-resolution aerial data. The…'},\n",
              "  {'sentiment': 'positive',\n",
              "   'text': 'RT @MarcoPark21: Intel hooks up with Deci for deep learning - Electronics Weekly\\n\\nRead more here: https://t.co/oIdAbee722\\n\\n#ArtificialIntel…'},\n",
              "  {'sentiment': 'neutral',\n",
              "   'text': 'Definition of Confusion Matrix https://t.co/8b3KzZiE6c #MachineLearning #ConfusionMatrix'},\n",
              "  {'sentiment': 'neutral',\n",
              "   'text': 'RT @meisshaily: https://t.co/yCvXMpI7Jf\\nDeep Learning vs. Machine Learning: Explained CC @into_AI @JoyJenn1 \\n#DigitalTransformation #Machin…'},\n",
              "  {'sentiment': 'positive',\n",
              "   'text': \"RT @alex_avoigt: @WR4NYGov Today internet revenue will in the future be partly consumed by deep learning - a factor most don't think about\"},\n",
              "  {'sentiment': 'positive',\n",
              "   'text': 'We do love a deep delve into history. It’s not just fascinating to see how things are different, but it’s informati… https://t.co/WHXy0Adn41'},\n",
              "  {'sentiment': 'neutral',\n",
              "   'text': 'BrainChip Holdings Deep Learning with Launch of MetaTF - BrainChip Holdings https://t.co/nFvoYRiOJm #deeplearning #intoAInews'},\n",
              "  {'sentiment': 'neutral',\n",
              "   'text': 'By 2025, Deep Learning Chipset Market Revenue to Reach USD 5831.7 Million - Global Deep https://t.co/Gz5mG8qUNv #deeplearning #intoAInews'},\n",
              "  {'sentiment': 'positive',\n",
              "   'text': \"Deep learning isn't new but there continues to be confusion around the difference between it and machine learning.… https://t.co/4S1U7bqgHJ\"},\n",
              "  {'sentiment': 'positive',\n",
              "   'text': '21 Will Reflect Significant Growth in Future with Size, Share … -  https://t.co/jXA6ngbCS1 #deeplearning #intoAInews'},\n",
              "  {'sentiment': 'neutral',\n",
              "   'text': 'RT @FabienBrodie: A comparative study of machine learning and deep learning algorithms to classify cancer types based on microarray gene ex…'},\n",
              "  {'sentiment': 'positive',\n",
              "   'text': 'In this blog, we’ll provide you with three easy ways #datascience teams can get started with GPUs for powering… https://t.co/ewCdd7APiv'},\n",
              "  {'sentiment': 'neutral',\n",
              "   'text': 'If you are looking for predictive analytical tools for your business - look no further. We supply visualization and… https://t.co/6u0cl9CVuS'},\n",
              "  {'sentiment': 'positive',\n",
              "   'text': 'RT @J3nTyrell: Intel hooks up with Deci for deep learning - Electronics Weekly\\n\\nRead more here: https://t.co/qHNrVpu4LF\\n\\n#ArtificialIntelli…'},\n",
              "  {'sentiment': 'positive',\n",
              "   'text': 'PROSOPAGNOSIA: La petite mort, de Joan Fontcuberta y Pilar Rosado, forma parte de la exposición New(ego). Retratos… https://t.co/JrhYZAT1kF'},\n",
              "  {'sentiment': 'positive',\n",
              "   'text': \"Deep dive into dysbiosis 📈 Causes, corrections and how to tell what's going on in your gut right now:… https://t.co/aIkHO9dqmj\"},\n",
              "  {'sentiment': 'positive',\n",
              "   'text': \"Galileo sunspot sketches versus modern 'deep learning' AI https://t.co/fH7yB37mI6 https://t.co/o06EcWHmwV\"},\n",
              "  {'sentiment': 'positive',\n",
              "   'text': 'RT @J3nTyrell: Deep learning among top in demand skills of 2020 in India - DTNext\\n\\nRead more here: https://t.co/AM9fHld9v3\\n\\n#ArtificialInte…'},\n",
              "  {'sentiment': 'neutral',\n",
              "   'text': 'RT @msjoding: 1/ Our deep learning model to detect findings of ARDS on chest x-rays, now in Lancet Digital Health\\nhttps://t.co/TNCXWkp9Tc h…'},\n",
              "  {'sentiment': 'neutral',\n",
              "   'text': 'RT @machinelearnflx: Deep Learning with Python and Keras https://t.co/uA9RFaDTDj  #machinelearning #ad'},\n",
              "  {'sentiment': 'neutral',\n",
              "   'text': 'RT @MITDeepLearning: 💥💥 Do you know when you can #trust your deep learning model? 🤔\\n\\nLecture 7 by @xanamini on Uncertainty Estimation in #D…'},\n",
              "  {'sentiment': 'positive',\n",
              "   'text': 'RT @MarcoPark21: Deep Learning Market 2021 Disclosing Latest Trends and Advancement Outlook 2025 – Microsoft Corporation, Intel Corporation…'},\n",
              "  {'sentiment': 'neutral',\n",
              "   'text': 'RT @J3nTyrell: North America Deep Learning In Machine Vision Market In-Depth Profiling Of Key Players, Geographical Outlook, Industry Size…'},\n",
              "  {'sentiment': 'positive',\n",
              "   'text': \"RT @PTenigma: 85,721 MRI scans from 50,876 people (!) used to create deep learning method to detect Alzheimer's disease. In a quite large s…\"},\n",
              "  {'sentiment': 'positive',\n",
              "   'text': 'RT @DeepLearningAI_: We’re thrilled to announce that Sequence Models - course 5 in the Deep Learning Specialization - has been updated to r…'},\n",
              "  {'sentiment': 'neutral',\n",
              "   'text': 'RT @andi_staub: Disentangling #AI, #MachineLearning, and #DeepLearning\\n\\n#algorithms #bigdata #fintech #datascience @WhiteheartVic @MariaFar…'},\n",
              "  {'sentiment': 'neutral',\n",
              "   'text': 'A Deep Learning-based approach for forecasting off-gas production and consumption in the blast furnace - PubMed… https://t.co/vrsRSxu8E5'},\n",
              "  {'sentiment': 'neutral',\n",
              "   'text': 'RT @mvollmer1: What is #DeepLearning? Diving into “what is deep learning” while providing an introduction how it wo… https://t.co/1iGIDd9xlb'},\n",
              "  {'sentiment': 'neutral',\n",
              "   'text': 'RT @Ritmonegro: What is a GPU? Are GPUs Needed for Deep Learning? | Medium https://t.co/zmPPE4DrXe'}]]"
            ]
          },
          "metadata": {
            "tags": []
          },
          "execution_count": 11
        }
      ]
    },
    {
      "cell_type": "code",
      "metadata": {
        "colab": {
          "base_uri": "https://localhost:8080/"
        },
        "id": "pQL8ygXDo1X0",
        "outputId": "0346c81e-b5ef-4e6c-8f84-edd091493a6e"
      },
      "source": [
        "import multiprocessing\n",
        "\n",
        "final_results = []\n",
        "\n",
        "query = input(\"What do you want to search? \")\n",
        "start_time = time.time()\n",
        "with multiprocessing.Manager() as manager:\n",
        "  processes = manager.list([manager.list() for i in range(4)])\n",
        "\n",
        "  p1 = multiprocessing.Process(target=extractYoutubeVideos, args=(query, processes[0]))\n",
        "  p2 = multiprocessing.Process(target=extract_repos, args=(query, processes[1]))\n",
        "  p3 = multiprocessing.Process(target=get_tweets_main, args=(query, processes[2]))\n",
        "  p4 = multiprocessing.Process(target=links_for_search_parallel, args=(query, processes[3]))\n",
        "\n",
        "  p1.start()\n",
        "  p2.start()\n",
        "  p3.start()\n",
        "  p4.start()\n",
        "\n",
        "  p1.join()\n",
        "  p2.join()\n",
        "  p3.join()\n",
        "  p4.join()\n",
        "\n",
        "  # store the results in the global variable\n",
        "  for i in processes:\n",
        "    final_results.append(list(i))\n",
        "\n",
        "print(\"Time for parallel implementation:\",time.time()- start_time)"
      ],
      "execution_count": 23,
      "outputs": [
        {
          "output_type": "stream",
          "text": [
            "What do you want to search? deep learning\n",
            "Time for parallel implementation: 6.63540506362915\n"
          ],
          "name": "stdout"
        }
      ]
    },
    {
      "cell_type": "code",
      "metadata": {
        "id": "Rtl9thfuq7Gv"
      },
      "source": [
        "# output lists containing the results: to be fetched from the backend\n",
        "youTube_results, github_results, tweet_results, news_results = [], [], [], []"
      ],
      "execution_count": 24,
      "outputs": []
    },
    {
      "cell_type": "code",
      "metadata": {
        "id": "n7EsBHUW_aYn",
        "colab": {
          "base_uri": "https://localhost:8080/"
        },
        "outputId": "51d6fa13-bdf5-4e74-d21a-ae427bdd4cc8"
      },
      "source": [
        "# sanity check\n",
        "youTube_results = final_results[0]\n",
        "youTube_results"
      ],
      "execution_count": 25,
      "outputs": [
        {
          "output_type": "execute_result",
          "data": {
            "text/plain": [
              "['https://www.youtube.com/watch?v=6M5VXKLf4D4',\n",
              " 'https://www.youtube.com/watch?v=aircAruvnKk',\n",
              " 'https://www.youtube.com/watch?v=DooxDIRAkPA',\n",
              " 'https://www.youtube.com/watch?v=5tvmMX8r_OM',\n",
              " 'https://www.youtube.com/watch?v=5tvmMX8r_OM',\n",
              " 'https://www.youtube.com/watch?v=qjrad0V0uJE',\n",
              " 'https://www.youtube.com/watch?v=VyWAvY2CF9c',\n",
              " 'https://www.youtube.com/watch?v=5tvmMX8r_OM',\n",
              " 'https://www.youtube.com/watch?v=9jA0KjS7V_c',\n",
              " 'https://www.youtube.com/watch?v=9jA0KjS7V_c',\n",
              " 'https://www.youtube.com/watch?v=DKSZHN7jftI',\n",
              " 'https://www.youtube.com/watch?v=O5xeyoRL95U',\n",
              " 'https://www.youtube.com/watch?v=njKP3FqW3Sk',\n",
              " 'https://www.youtube.com/watch?v=AhE8RhPGH1A',\n",
              " 'https://www.youtube.com/watch?v=0VH1Lim8gL8',\n",
              " 'https://www.youtube.com/watch?v=-SgkLEuhfbg',\n",
              " 'https://www.youtube.com/watch?v=1OTbhtQE_Fc',\n",
              " 'https://www.youtube.com/watch?v=reY50t2hbuM',\n",
              " 'https://www.youtube.com/watch?v=M2ySRYpo9S0',\n",
              " 'https://www.youtube.com/watch?v=IUHkhB366tE',\n",
              " 'https://www.youtube.com/watch?v=Zn_f6el0TKw',\n",
              " 'https://www.youtube.com/watch?v=JIcP6SSZg2o',\n",
              " 'https://www.youtube.com/watch?v=-q3d3lD0fFM',\n",
              " 'https://www.youtube.com/watch?v=0jspaMLxBig',\n",
              " 'https://www.youtube.com/watch?v=yN7ypxC7838',\n",
              " 'https://www.youtube.com/watch?v=xxpc-HPKN28',\n",
              " 'https://www.youtube.com/watch?v=IHZwWFHWa-w',\n",
              " 'https://www.youtube.com/watch?v=oJNHXPs0XDk',\n",
              " 'https://www.youtube.com/watch?v=aircAruvnKk',\n",
              " 'https://www.youtube.com/watch?v=aircAruvnKk',\n",
              " 'https://www.youtube.com/watch?v=njKP3FqW3Sk',\n",
              " 'https://www.youtube.com/watch?v=GIsg-ZUy0MY',\n",
              " 'https://www.youtube.com/watch?v=qFJeN9V1ZsI',\n",
              " 'https://www.youtube.com/watch?v=0oyCUWLL_fU',\n",
              " 'https://www.youtube.com/watch?v=tpCFfeUEGs8']"
            ]
          },
          "metadata": {
            "tags": []
          },
          "execution_count": 25
        }
      ]
    },
    {
      "cell_type": "code",
      "metadata": {
        "colab": {
          "base_uri": "https://localhost:8080/"
        },
        "id": "MUHO3tlloAeE",
        "outputId": "536eac58-7ff9-459b-c242-b263e2f5eb5d"
      },
      "source": [
        "github_results = final_results[1]\n",
        "github_results"
      ],
      "execution_count": 26,
      "outputs": [
        {
          "output_type": "execute_result",
          "data": {
            "text/plain": [
              "[('https://github.com/scutan90/DeepLearning-500-questions', 44315),\n",
              " ('https://github.com/keras-team/keras', 51054),\n",
              " ('https://github.com/Mikoto10032/DeepLearning', 4999),\n",
              " ('https://github.com/exacity/deeplearningbook-chinese', 31012),\n",
              " ('https://github.com/ChristosChristofidis/awesome-deep-learning', 16997),\n",
              " ('https://github.com/mbadry1/DeepLearning.ai-Summary', 4291),\n",
              " ('https://github.com/terryum/awesome-deep-learning-papers', 22802)]"
            ]
          },
          "metadata": {
            "tags": []
          },
          "execution_count": 26
        }
      ]
    },
    {
      "cell_type": "code",
      "metadata": {
        "colab": {
          "base_uri": "https://localhost:8080/"
        },
        "id": "VDq10t5FoFAI",
        "outputId": "6e3a4243-1688-4b05-fa2d-2381b20606d8"
      },
      "source": [
        "tweet_results = final_results[2][0]\n",
        "tweet_results"
      ],
      "execution_count": 27,
      "outputs": [
        {
          "output_type": "execute_result",
          "data": {
            "text/plain": [
              "[{'sentiment': 'positive',\n",
              "  'text': 'RT @byLilyV: #FEATURED #COURSES\\n\\nMachine Learning, Data Science and Deep Learning with Python\\n\\nComplete hands-on #machine #learning tutoria…'},\n",
              " {'sentiment': 'positive',\n",
              "  'text': 'RT @restbethankful: @ACEAwareNation @UK_ACEs @AcesScotland  another good article on impact of ACEs.\\n\\nFor me - the single biggest shift has…'},\n",
              " {'sentiment': 'neutral',\n",
              "  'text': 'RT @MemeComicIndo: RA Kartini dihidupkan kembali dengan teknologi deep learning https://t.co/ZLpnVxLzRJ'},\n",
              " {'sentiment': 'neutral',\n",
              "  'text': 'RT @MarcoPark21: MIM Software Inc. Receives CE Mark Approval for Deep Learning Auto-Contouring Software - https://t.co/kf4wxsgDxF\\n\\nRead mor…'},\n",
              " {'sentiment': 'neutral',\n",
              "  'text': 'By combining #computervision and deep-learning #AI, robotics researchers are developing exoskeletons and prosthetic… https://t.co/8RXJCyfXIl'},\n",
              " {'sentiment': 'positive',\n",
              "  'text': 'RT @J3nTyrell: Deep Learning in Machine Vision Market SWOT Analysis of Top Key Player &amp; Forecasts To 2027 – KSU | The Sentinel Newspaper -…'},\n",
              " {'sentiment': 'positive',\n",
              "  'text': 'RT @morelli1__: Schools in Beoga are paralyzed &amp; they no longer have learning activities. Teachers &amp; civilians experienced deep trauma &amp; we…'},\n",
              " {'sentiment': 'positive',\n",
              "  'text': 'RT @J3nTyrell: Deep Learning Market Statistics, Trends, Analysis Size and Growth Factors by 2025 – NeighborWebSJ - NeighborWebSJ\\n\\nRead more…'},\n",
              " {'sentiment': 'neutral',\n",
              "  'text': 'RT @IainLJBrown: Deep Learning AI Improves Breast Lesion Classification on Ultrasound #ArtificialIntelligence #AI #DataScience #100DaysOfCo…'},\n",
              " {'sentiment': 'negative',\n",
              "  'text': 'Beauty is only skin deep, but ugly goes clean to the remote learning.'},\n",
              " {'sentiment': 'positive',\n",
              "  'text': 'RT @MarcoPark21: Nvidia’s GTC will feature deep learning cabal of LeCun, Hinton, Bengio - ZDNet\\n\\nRead more here: https://t.co/ftMwTXahcl\\n\\n#…'},\n",
              " {'sentiment': 'neutral',\n",
              "  'text': 'RT @TensorFlowTurk: Deep Learning for Computer Vision etkinliğimizde konuşmacılardan Ecem Deniz Babaoğlan, Tensorflow ile Öğrenme Aktarımı…'},\n",
              " {'sentiment': 'positive',\n",
              "  'text': 'RT @InduforGroup: Indufor Asia Pacific introduces a deep learning pipeline that extracts information from high-resolution aerial data. The…'},\n",
              " {'sentiment': 'positive',\n",
              "  'text': 'RT @MarcoPark21: Intel hooks up with Deci for deep learning - Electronics Weekly\\n\\nRead more here: https://t.co/oIdAbee722\\n\\n#ArtificialIntel…'},\n",
              " {'sentiment': 'neutral',\n",
              "  'text': 'Definition of Confusion Matrix https://t.co/8b3KzZiE6c #MachineLearning #ConfusionMatrix'},\n",
              " {'sentiment': 'neutral',\n",
              "  'text': 'RT @meisshaily: https://t.co/yCvXMpI7Jf\\nDeep Learning vs. Machine Learning: Explained CC @into_AI @JoyJenn1 \\n#DigitalTransformation #Machin…'},\n",
              " {'sentiment': 'positive',\n",
              "  'text': \"RT @alex_avoigt: @WR4NYGov Today internet revenue will in the future be partly consumed by deep learning - a factor most don't think about\"},\n",
              " {'sentiment': 'positive',\n",
              "  'text': 'We do love a deep delve into history. It’s not just fascinating to see how things are different, but it’s informati… https://t.co/WHXy0Adn41'},\n",
              " {'sentiment': 'neutral',\n",
              "  'text': 'BrainChip Holdings Deep Learning with Launch of MetaTF - BrainChip Holdings https://t.co/nFvoYRiOJm #deeplearning #intoAInews'},\n",
              " {'sentiment': 'neutral',\n",
              "  'text': 'By 2025, Deep Learning Chipset Market Revenue to Reach USD 5831.7 Million - Global Deep https://t.co/Gz5mG8qUNv #deeplearning #intoAInews'},\n",
              " {'sentiment': 'positive',\n",
              "  'text': \"Deep learning isn't new but there continues to be confusion around the difference between it and machine learning.… https://t.co/4S1U7bqgHJ\"},\n",
              " {'sentiment': 'positive',\n",
              "  'text': '21 Will Reflect Significant Growth in Future with Size, Share … -  https://t.co/jXA6ngbCS1 #deeplearning #intoAInews'},\n",
              " {'sentiment': 'neutral',\n",
              "  'text': 'RT @FabienBrodie: A comparative study of machine learning and deep learning algorithms to classify cancer types based on microarray gene ex…'},\n",
              " {'sentiment': 'positive',\n",
              "  'text': 'In this blog, we’ll provide you with three easy ways #datascience teams can get started with GPUs for powering… https://t.co/ewCdd7APiv'},\n",
              " {'sentiment': 'neutral',\n",
              "  'text': 'If you are looking for predictive analytical tools for your business - look no further. We supply visualization and… https://t.co/6u0cl9CVuS'},\n",
              " {'sentiment': 'positive',\n",
              "  'text': 'RT @J3nTyrell: Intel hooks up with Deci for deep learning - Electronics Weekly\\n\\nRead more here: https://t.co/qHNrVpu4LF\\n\\n#ArtificialIntelli…'},\n",
              " {'sentiment': 'positive',\n",
              "  'text': 'PROSOPAGNOSIA: La petite mort, de Joan Fontcuberta y Pilar Rosado, forma parte de la exposición New(ego). Retratos… https://t.co/JrhYZAT1kF'},\n",
              " {'sentiment': 'positive',\n",
              "  'text': \"Deep dive into dysbiosis 📈 Causes, corrections and how to tell what's going on in your gut right now:… https://t.co/aIkHO9dqmj\"},\n",
              " {'sentiment': 'positive',\n",
              "  'text': \"Galileo sunspot sketches versus modern 'deep learning' AI https://t.co/fH7yB37mI6 https://t.co/o06EcWHmwV\"},\n",
              " {'sentiment': 'positive',\n",
              "  'text': 'RT @J3nTyrell: Deep learning among top in demand skills of 2020 in India - DTNext\\n\\nRead more here: https://t.co/AM9fHld9v3\\n\\n#ArtificialInte…'},\n",
              " {'sentiment': 'neutral',\n",
              "  'text': 'RT @msjoding: 1/ Our deep learning model to detect findings of ARDS on chest x-rays, now in Lancet Digital Health\\nhttps://t.co/TNCXWkp9Tc h…'},\n",
              " {'sentiment': 'neutral',\n",
              "  'text': 'RT @machinelearnflx: Deep Learning with Python and Keras https://t.co/uA9RFaDTDj  #machinelearning #ad'},\n",
              " {'sentiment': 'neutral',\n",
              "  'text': 'RT @MITDeepLearning: 💥💥 Do you know when you can #trust your deep learning model? 🤔\\n\\nLecture 7 by @xanamini on Uncertainty Estimation in #D…'},\n",
              " {'sentiment': 'positive',\n",
              "  'text': 'RT @MarcoPark21: Deep Learning Market 2021 Disclosing Latest Trends and Advancement Outlook 2025 – Microsoft Corporation, Intel Corporation…'},\n",
              " {'sentiment': 'neutral',\n",
              "  'text': 'RT @J3nTyrell: North America Deep Learning In Machine Vision Market In-Depth Profiling Of Key Players, Geographical Outlook, Industry Size…'},\n",
              " {'sentiment': 'positive',\n",
              "  'text': \"RT @PTenigma: 85,721 MRI scans from 50,876 people (!) used to create deep learning method to detect Alzheimer's disease. In a quite large s…\"}]"
            ]
          },
          "metadata": {
            "tags": []
          },
          "execution_count": 27
        }
      ]
    },
    {
      "cell_type": "code",
      "metadata": {
        "colab": {
          "base_uri": "https://localhost:8080/"
        },
        "id": "GeY1F-kcoGYQ",
        "outputId": "bbba7aee-64bf-4403-d853-9a4a1f9291df"
      },
      "source": [
        "news_results = final_results[3]\n",
        "news_results"
      ],
      "execution_count": 28,
      "outputs": [
        {
          "output_type": "execute_result",
          "data": {
            "text/plain": [
              "[['https://www.globenewswire.com/news-release/2021/04/20/2213379/0/en/Nano-Dimension-Acquires-Machine-Learning-Deep-Learning-Leader-DeepCube-Ltd.html',\n",
              "  'https://www.thelancet.com/journals/landig/article/PIIS2589-7500(21)00056-X/fulltext',\n",
              "  'https://techxplore.com/news/2021-04-3d-deep-neural-network-precisely.html',\n",
              "  'https://en.globes.co.il/en/article-nano-dimension-buys-israeli-machine-learning-co-deepcube-1001368238',\n",
              "  'https://zeenews.india.com/india/deep-neural-networks-see-same-things-but-differently-from-humans-study-2356469.html',\n",
              "  'https://techxplore.com/news/2021-04-deep-networks-humans.html',\n",
              "  'https://finance.yahoo.com/news/nano-dimension-acquires-machine-learning-130000612.html',\n",
              "  'https://www.marktechpost.com/2021/04/10/computer-scientists-from-rice-university-display-cpu-algorithm-that-trains-deep-neural-networks-15-times-faster-than-gpu/',\n",
              "  'https://physicsworld.com/deep-learning-teases-apart-abdominal-ecg-signals/',\n",
              "  'https://scitechdaily.com/new-deep-learning-ai-tool-can-revolutionize-microscopy/',\n",
              "  'https://www.globenewswire.com/news-release/2021/04/20/2213379/0/en/Nano-Dimension-Acquires-Machine-Learning-Deep-Learning-Leader-DeepCube-Ltd.html',\n",
              "  'https://www.thelancet.com/journals/landig/article/PIIS2589-7500(21)00056-X/fulltext',\n",
              "  'https://techxplore.com/news/2021-04-3d-deep-neural-network-precisely.html',\n",
              "  'https://en.globes.co.il/en/article-nano-dimension-buys-israeli-machine-learning-co-deepcube-1001368238',\n",
              "  'https://zeenews.india.com/india/deep-neural-networks-see-same-things-but-differently-from-humans-study-2356469.html',\n",
              "  'https://techxplore.com/news/2021-04-deep-networks-humans.html',\n",
              "  'https://finance.yahoo.com/news/nano-dimension-acquires-machine-learning-130000612.html',\n",
              "  'https://www.marktechpost.com/2021/04/10/computer-scientists-from-rice-university-display-cpu-algorithm-that-trains-deep-neural-networks-15-times-faster-than-gpu/',\n",
              "  'https://physicsworld.com/deep-learning-teases-apart-abdominal-ecg-signals/',\n",
              "  'https://scitechdaily.com/new-deep-learning-ai-tool-can-revolutionize-microscopy/',\n",
              "  'https://www.globenewswire.com/news-release/2021/04/20/2213379/0/en/Nano-Dimension-Acquires-Machine-Learning-Deep-Learning-Leader-DeepCube-Ltd.html',\n",
              "  'https://www.thelancet.com/journals/landig/article/PIIS2589-7500(21)00056-X/fulltext',\n",
              "  'https://techxplore.com/news/2021-04-3d-deep-neural-network-precisely.html',\n",
              "  'https://en.globes.co.il/en/article-nano-dimension-buys-israeli-machine-learning-co-deepcube-1001368238',\n",
              "  'https://zeenews.india.com/india/deep-neural-networks-see-same-things-but-differently-from-humans-study-2356469.html',\n",
              "  'https://techxplore.com/news/2021-04-deep-networks-humans.html',\n",
              "  'https://finance.yahoo.com/news/nano-dimension-acquires-machine-learning-130000612.html',\n",
              "  'https://www.marktechpost.com/2021/04/10/computer-scientists-from-rice-university-display-cpu-algorithm-that-trains-deep-neural-networks-15-times-faster-than-gpu/',\n",
              "  'https://physicsworld.com/deep-learning-teases-apart-abdominal-ecg-signals/',\n",
              "  'https://scitechdaily.com/new-deep-learning-ai-tool-can-revolutionize-microscopy/',\n",
              "  'https://www.globenewswire.com/news-release/2021/04/20/2213379/0/en/Nano-Dimension-Acquires-Machine-Learning-Deep-Learning-Leader-DeepCube-Ltd.html',\n",
              "  'https://www.thelancet.com/journals/landig/article/PIIS2589-7500(21)00056-X/fulltext',\n",
              "  'https://techxplore.com/news/2021-04-3d-deep-neural-network-precisely.html',\n",
              "  'https://en.globes.co.il/en/article-nano-dimension-buys-israeli-machine-learning-co-deepcube-1001368238',\n",
              "  'https://zeenews.india.com/india/deep-neural-networks-see-same-things-but-differently-from-humans-study-2356469.html',\n",
              "  'https://techxplore.com/news/2021-04-deep-networks-humans.html',\n",
              "  'https://finance.yahoo.com/news/nano-dimension-acquires-machine-learning-130000612.html',\n",
              "  'https://www.marktechpost.com/2021/04/10/computer-scientists-from-rice-university-display-cpu-algorithm-that-trains-deep-neural-networks-15-times-faster-than-gpu/',\n",
              "  'https://physicsworld.com/deep-learning-teases-apart-abdominal-ecg-signals/',\n",
              "  'https://scitechdaily.com/new-deep-learning-ai-tool-can-revolutionize-microscopy/',\n",
              "  'https://www.globenewswire.com/news-release/2021/04/20/2213379/0/en/Nano-Dimension-Acquires-Machine-Learning-Deep-Learning-Leader-DeepCube-Ltd.html',\n",
              "  'https://www.thelancet.com/journals/landig/article/PIIS2589-7500(21)00056-X/fulltext',\n",
              "  'https://techxplore.com/news/2021-04-3d-deep-neural-network-precisely.html',\n",
              "  'https://en.globes.co.il/en/article-nano-dimension-buys-israeli-machine-learning-co-deepcube-1001368238',\n",
              "  'https://zeenews.india.com/india/deep-neural-networks-see-same-things-but-differently-from-humans-study-2356469.html',\n",
              "  'https://techxplore.com/news/2021-04-deep-networks-humans.html',\n",
              "  'https://finance.yahoo.com/news/nano-dimension-acquires-machine-learning-130000612.html',\n",
              "  'https://www.marktechpost.com/2021/04/10/computer-scientists-from-rice-university-display-cpu-algorithm-that-trains-deep-neural-networks-15-times-faster-than-gpu/',\n",
              "  'https://physicsworld.com/deep-learning-teases-apart-abdominal-ecg-signals/',\n",
              "  'https://scitechdaily.com/new-deep-learning-ai-tool-can-revolutionize-microscopy/',\n",
              "  'https://www.globenewswire.com/news-release/2021/04/20/2213379/0/en/Nano-Dimension-Acquires-Machine-Learning-Deep-Learning-Leader-DeepCube-Ltd.html',\n",
              "  'https://www.thelancet.com/journals/landig/article/PIIS2589-7500(21)00056-X/fulltext',\n",
              "  'https://techxplore.com/news/2021-04-3d-deep-neural-network-precisely.html',\n",
              "  'https://en.globes.co.il/en/article-nano-dimension-buys-israeli-machine-learning-co-deepcube-1001368238',\n",
              "  'https://zeenews.india.com/india/deep-neural-networks-see-same-things-but-differently-from-humans-study-2356469.html',\n",
              "  'https://techxplore.com/news/2021-04-deep-networks-humans.html',\n",
              "  'https://finance.yahoo.com/news/nano-dimension-acquires-machine-learning-130000612.html',\n",
              "  'https://www.marktechpost.com/2021/04/10/computer-scientists-from-rice-university-display-cpu-algorithm-that-trains-deep-neural-networks-15-times-faster-than-gpu/',\n",
              "  'https://physicsworld.com/deep-learning-teases-apart-abdominal-ecg-signals/',\n",
              "  'https://scitechdaily.com/new-deep-learning-ai-tool-can-revolutionize-microscopy/',\n",
              "  'https://www.globenewswire.com/news-release/2021/04/20/2213379/0/en/Nano-Dimension-Acquires-Machine-Learning-Deep-Learning-Leader-DeepCube-Ltd.html',\n",
              "  'https://www.thelancet.com/journals/landig/article/PIIS2589-7500(21)00056-X/fulltext',\n",
              "  'https://techxplore.com/news/2021-04-3d-deep-neural-network-precisely.html',\n",
              "  'https://en.globes.co.il/en/article-nano-dimension-buys-israeli-machine-learning-co-deepcube-1001368238',\n",
              "  'https://zeenews.india.com/india/deep-neural-networks-see-same-things-but-differently-from-humans-study-2356469.html',\n",
              "  'https://techxplore.com/news/2021-04-deep-networks-humans.html',\n",
              "  'https://finance.yahoo.com/news/nano-dimension-acquires-machine-learning-130000612.html',\n",
              "  'https://www.marktechpost.com/2021/04/10/computer-scientists-from-rice-university-display-cpu-algorithm-that-trains-deep-neural-networks-15-times-faster-than-gpu/',\n",
              "  'https://physicsworld.com/deep-learning-teases-apart-abdominal-ecg-signals/',\n",
              "  'https://scitechdaily.com/new-deep-learning-ai-tool-can-revolutionize-microscopy/',\n",
              "  'https://www.globenewswire.com/news-release/2021/04/20/2213379/0/en/Nano-Dimension-Acquires-Machine-Learning-Deep-Learning-Leader-DeepCube-Ltd.html',\n",
              "  'https://www.thelancet.com/journals/landig/article/PIIS2589-7500(21)00056-X/fulltext',\n",
              "  'https://techxplore.com/news/2021-04-3d-deep-neural-network-precisely.html',\n",
              "  'https://en.globes.co.il/en/article-nano-dimension-buys-israeli-machine-learning-co-deepcube-1001368238',\n",
              "  'https://zeenews.india.com/india/deep-neural-networks-see-same-things-but-differently-from-humans-study-2356469.html',\n",
              "  'https://techxplore.com/news/2021-04-deep-networks-humans.html',\n",
              "  'https://finance.yahoo.com/news/nano-dimension-acquires-machine-learning-130000612.html',\n",
              "  'https://www.marktechpost.com/2021/04/10/computer-scientists-from-rice-university-display-cpu-algorithm-that-trains-deep-neural-networks-15-times-faster-than-gpu/',\n",
              "  'https://physicsworld.com/deep-learning-teases-apart-abdominal-ecg-signals/',\n",
              "  'https://scitechdaily.com/new-deep-learning-ai-tool-can-revolutionize-microscopy/',\n",
              "  'https://www.globenewswire.com/news-release/2021/04/20/2213379/0/en/Nano-Dimension-Acquires-Machine-Learning-Deep-Learning-Leader-DeepCube-Ltd.html',\n",
              "  'https://www.thelancet.com/journals/landig/article/PIIS2589-7500(21)00056-X/fulltext',\n",
              "  'https://techxplore.com/news/2021-04-3d-deep-neural-network-precisely.html',\n",
              "  'https://en.globes.co.il/en/article-nano-dimension-buys-israeli-machine-learning-co-deepcube-1001368238',\n",
              "  'https://zeenews.india.com/india/deep-neural-networks-see-same-things-but-differently-from-humans-study-2356469.html',\n",
              "  'https://techxplore.com/news/2021-04-deep-networks-humans.html',\n",
              "  'https://finance.yahoo.com/news/nano-dimension-acquires-machine-learning-130000612.html',\n",
              "  'https://www.marktechpost.com/2021/04/10/computer-scientists-from-rice-university-display-cpu-algorithm-that-trains-deep-neural-networks-15-times-faster-than-gpu/',\n",
              "  'https://physicsworld.com/deep-learning-teases-apart-abdominal-ecg-signals/',\n",
              "  'https://scitechdaily.com/new-deep-learning-ai-tool-can-revolutionize-microscopy/']]"
            ]
          },
          "metadata": {
            "tags": []
          },
          "execution_count": 28
        }
      ]
    },
    {
      "cell_type": "code",
      "metadata": {
        "id": "GNDcGMWboIcY"
      },
      "source": [
        ""
      ],
      "execution_count": null,
      "outputs": []
    }
  ]
}
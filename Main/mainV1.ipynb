{
  "nbformat": 4,
  "nbformat_minor": 0,
  "metadata": {
    "colab": {
      "name": "mainV1.ipynb",
      "provenance": [],
      "collapsed_sections": []
    },
    "kernelspec": {
      "name": "python3",
      "display_name": "Python 3"
    },
    "language_info": {
      "name": "python"
    }
  },
  "cells": [
    {
      "cell_type": "code",
      "metadata": {
        "colab": {
          "base_uri": "https://localhost:8080/"
        },
        "id": "npBfOE4lgqRd",
        "outputId": "350f86a3-bb15-47fe-cd2d-26ef285f0d74"
      },
      "source": [
        "#set up for selenium\n",
        "\n",
        "!pip install selenium\n",
        "!apt-get update # to update ubuntu to correctly run apt install\n",
        "!apt install chromium-chromedriver\n",
        "!cp /usr/lib/chromium-browser/chromedriver /usr/bin\n",
        "\n",
        "from selenium import webdriver\n",
        "from selenium.webdriver.common.keys import Keys\n",
        "\n",
        "# creating a chrome instance. \n",
        "chrome_options = webdriver.ChromeOptions()\n",
        "chrome_options.add_argument('--headless')\n",
        "chrome_options.add_argument('--no-sandbox')\n",
        "chrome_options.add_argument('--disable-dev-shm-usage')\n",
        "driver = webdriver.Chrome('chromedriver',chrome_options=chrome_options) # repalce the first argument with the path of your driver\n"
      ],
      "execution_count": 3,
      "outputs": [
        {
          "output_type": "stream",
          "text": [
            "Requirement already satisfied: selenium in /usr/local/lib/python3.7/dist-packages (3.141.0)\n",
            "Requirement already satisfied: urllib3 in /usr/local/lib/python3.7/dist-packages (from selenium) (1.24.3)\n",
            "Hit:1 http://security.ubuntu.com/ubuntu bionic-security InRelease\n",
            "Ign:2 https://developer.download.nvidia.com/compute/cuda/repos/ubuntu1804/x86_64  InRelease\n",
            "Hit:3 https://cloud.r-project.org/bin/linux/ubuntu bionic-cran40/ InRelease\n",
            "Hit:4 http://ppa.launchpad.net/c2d4u.team/c2d4u4.0+/ubuntu bionic InRelease\n",
            "Hit:5 http://archive.ubuntu.com/ubuntu bionic InRelease\n",
            "Ign:6 https://developer.download.nvidia.com/compute/machine-learning/repos/ubuntu1804/x86_64  InRelease\n",
            "Hit:7 https://developer.download.nvidia.com/compute/cuda/repos/ubuntu1804/x86_64  Release\n",
            "Hit:8 https://developer.download.nvidia.com/compute/machine-learning/repos/ubuntu1804/x86_64  Release\n",
            "Hit:9 http://archive.ubuntu.com/ubuntu bionic-updates InRelease\n",
            "Hit:10 http://ppa.launchpad.net/cran/libgit2/ubuntu bionic InRelease\n",
            "Hit:11 http://archive.ubuntu.com/ubuntu bionic-backports InRelease\n",
            "Hit:12 http://ppa.launchpad.net/deadsnakes/ppa/ubuntu bionic InRelease\n",
            "Hit:13 http://ppa.launchpad.net/graphics-drivers/ppa/ubuntu bionic InRelease\n",
            "Reading package lists... Done\n",
            "Reading package lists... Done\n",
            "Building dependency tree       \n",
            "Reading state information... Done\n",
            "chromium-chromedriver is already the newest version (89.0.4389.90-0ubuntu0.18.04.2).\n",
            "0 upgraded, 0 newly installed, 0 to remove and 46 not upgraded.\n",
            "cp: '/usr/lib/chromium-browser/chromedriver' and '/usr/bin/chromedriver' are the same file\n"
          ],
          "name": "stdout"
        },
        {
          "output_type": "stream",
          "text": [
            "/usr/local/lib/python3.7/dist-packages/ipykernel_launcher.py:16: DeprecationWarning: use options instead of chrome_options\n",
            "  app.launch_new_instance()\n"
          ],
          "name": "stderr"
        }
      ]
    },
    {
      "cell_type": "code",
      "metadata": {
        "colab": {
          "base_uri": "https://localhost:8080/"
        },
        "id": "jt03sOLYh8v7",
        "outputId": "47ea57f0-5a5a-4d1c-f90a-f7d3868e8cd0"
      },
      "source": [
        "# setup with tweets\n",
        "!pip install tweepy\n",
        "!pip install textblob"
      ],
      "execution_count": 2,
      "outputs": [
        {
          "output_type": "stream",
          "text": [
            "Requirement already satisfied: tweepy in /usr/local/lib/python3.7/dist-packages (3.10.0)\n",
            "Requirement already satisfied: six>=1.10.0 in /usr/local/lib/python3.7/dist-packages (from tweepy) (1.15.0)\n",
            "Requirement already satisfied: requests[socks]>=2.11.1 in /usr/local/lib/python3.7/dist-packages (from tweepy) (2.23.0)\n",
            "Requirement already satisfied: requests-oauthlib>=0.7.0 in /usr/local/lib/python3.7/dist-packages (from tweepy) (1.3.0)\n",
            "Requirement already satisfied: idna<3,>=2.5 in /usr/local/lib/python3.7/dist-packages (from requests[socks]>=2.11.1->tweepy) (2.10)\n",
            "Requirement already satisfied: chardet<4,>=3.0.2 in /usr/local/lib/python3.7/dist-packages (from requests[socks]>=2.11.1->tweepy) (3.0.4)\n",
            "Requirement already satisfied: urllib3!=1.25.0,!=1.25.1,<1.26,>=1.21.1 in /usr/local/lib/python3.7/dist-packages (from requests[socks]>=2.11.1->tweepy) (1.24.3)\n",
            "Requirement already satisfied: certifi>=2017.4.17 in /usr/local/lib/python3.7/dist-packages (from requests[socks]>=2.11.1->tweepy) (2020.12.5)\n",
            "Requirement already satisfied: PySocks!=1.5.7,>=1.5.6; extra == \"socks\" in /usr/local/lib/python3.7/dist-packages (from requests[socks]>=2.11.1->tweepy) (1.7.1)\n",
            "Requirement already satisfied: oauthlib>=3.0.0 in /usr/local/lib/python3.7/dist-packages (from requests-oauthlib>=0.7.0->tweepy) (3.1.0)\n",
            "Requirement already satisfied: textblob in /usr/local/lib/python3.7/dist-packages (0.15.3)\n",
            "Requirement already satisfied: nltk>=3.1 in /usr/local/lib/python3.7/dist-packages (from textblob) (3.2.5)\n",
            "Requirement already satisfied: six in /usr/local/lib/python3.7/dist-packages (from nltk>=3.1->textblob) (1.15.0)\n"
          ],
          "name": "stdout"
        }
      ]
    },
    {
      "cell_type": "code",
      "metadata": {
        "colab": {
          "base_uri": "https://localhost:8080/"
        },
        "id": "JTns8bMDiDqZ",
        "outputId": "fa4a0493-12ef-47e4-fdd9-b5e8f955729f"
      },
      "source": [
        "!pip install PyGithub"
      ],
      "execution_count": 4,
      "outputs": [
        {
          "output_type": "stream",
          "text": [
            "Collecting PyGithub\n",
            "\u001b[?25l  Downloading https://files.pythonhosted.org/packages/18/44/df78514f2b5f5abaec330596e0fa3273824238399a964d1a7e82fd39990d/PyGithub-1.54.1-py3-none-any.whl (289kB)\n",
            "\r\u001b[K     |█▏                              | 10kB 10.7MB/s eta 0:00:01\r\u001b[K     |██▎                             | 20kB 12.2MB/s eta 0:00:01\r\u001b[K     |███▍                            | 30kB 8.7MB/s eta 0:00:01\r\u001b[K     |████▌                           | 40kB 7.2MB/s eta 0:00:01\r\u001b[K     |█████▊                          | 51kB 4.6MB/s eta 0:00:01\r\u001b[K     |██████▉                         | 61kB 4.3MB/s eta 0:00:01\r\u001b[K     |████████                        | 71kB 4.7MB/s eta 0:00:01\r\u001b[K     |█████████                       | 81kB 5.0MB/s eta 0:00:01\r\u001b[K     |██████████▏                     | 92kB 5.2MB/s eta 0:00:01\r\u001b[K     |███████████▍                    | 102kB 4.4MB/s eta 0:00:01\r\u001b[K     |████████████▌                   | 112kB 4.4MB/s eta 0:00:01\r\u001b[K     |█████████████▋                  | 122kB 4.4MB/s eta 0:00:01\r\u001b[K     |██████████████▊                 | 133kB 4.4MB/s eta 0:00:01\r\u001b[K     |███████████████▉                | 143kB 4.4MB/s eta 0:00:01\r\u001b[K     |█████████████████               | 153kB 4.4MB/s eta 0:00:01\r\u001b[K     |██████████████████▏             | 163kB 4.4MB/s eta 0:00:01\r\u001b[K     |███████████████████▎            | 174kB 4.4MB/s eta 0:00:01\r\u001b[K     |████████████████████▍           | 184kB 4.4MB/s eta 0:00:01\r\u001b[K     |█████████████████████▌          | 194kB 4.4MB/s eta 0:00:01\r\u001b[K     |██████████████████████▊         | 204kB 4.4MB/s eta 0:00:01\r\u001b[K     |███████████████████████▉        | 215kB 4.4MB/s eta 0:00:01\r\u001b[K     |█████████████████████████       | 225kB 4.4MB/s eta 0:00:01\r\u001b[K     |██████████████████████████      | 235kB 4.4MB/s eta 0:00:01\r\u001b[K     |███████████████████████████▏    | 245kB 4.4MB/s eta 0:00:01\r\u001b[K     |████████████████████████████▍   | 256kB 4.4MB/s eta 0:00:01\r\u001b[K     |█████████████████████████████▌  | 266kB 4.4MB/s eta 0:00:01\r\u001b[K     |██████████████████████████████▋ | 276kB 4.4MB/s eta 0:00:01\r\u001b[K     |███████████████████████████████▊| 286kB 4.4MB/s eta 0:00:01\r\u001b[K     |████████████████████████████████| 296kB 4.4MB/s \n",
            "\u001b[?25hRequirement already satisfied: requests>=2.14.0 in /usr/local/lib/python3.7/dist-packages (from PyGithub) (2.23.0)\n",
            "Collecting pyjwt<2.0\n",
            "  Downloading https://files.pythonhosted.org/packages/87/8b/6a9f14b5f781697e51259d81657e6048fd31a113229cf346880bb7545565/PyJWT-1.7.1-py2.py3-none-any.whl\n",
            "Collecting deprecated\n",
            "  Downloading https://files.pythonhosted.org/packages/fb/73/994edfcba74443146c84b91921fcc269374354118d4f452fb0c54c1cbb12/Deprecated-1.2.12-py2.py3-none-any.whl\n",
            "Requirement already satisfied: urllib3!=1.25.0,!=1.25.1,<1.26,>=1.21.1 in /usr/local/lib/python3.7/dist-packages (from requests>=2.14.0->PyGithub) (1.24.3)\n",
            "Requirement already satisfied: chardet<4,>=3.0.2 in /usr/local/lib/python3.7/dist-packages (from requests>=2.14.0->PyGithub) (3.0.4)\n",
            "Requirement already satisfied: certifi>=2017.4.17 in /usr/local/lib/python3.7/dist-packages (from requests>=2.14.0->PyGithub) (2020.12.5)\n",
            "Requirement already satisfied: idna<3,>=2.5 in /usr/local/lib/python3.7/dist-packages (from requests>=2.14.0->PyGithub) (2.10)\n",
            "Requirement already satisfied: wrapt<2,>=1.10 in /usr/local/lib/python3.7/dist-packages (from deprecated->PyGithub) (1.12.1)\n",
            "Installing collected packages: pyjwt, deprecated, PyGithub\n",
            "Successfully installed PyGithub-1.54.1 deprecated-1.2.12 pyjwt-1.7.1\n"
          ],
          "name": "stdout"
        }
      ]
    },
    {
      "cell_type": "code",
      "metadata": {
        "colab": {
          "base_uri": "https://localhost:8080/"
        },
        "id": "gXqfHsDFsyNA",
        "outputId": "c4d4671f-4535-4646-9169-5d22ad7234e1"
      },
      "source": [
        "!pip install pymp-pypi"
      ],
      "execution_count": 40,
      "outputs": [
        {
          "output_type": "stream",
          "text": [
            "Collecting pymp-pypi\n",
            "  Downloading https://files.pythonhosted.org/packages/e9/ff/8ec07d0c901d4161012ae505d47b459dd30d5112b8ba4abca33811e62243/pymp_pypi-0.4.3-py3-none-any.whl\n",
            "Installing collected packages: pymp-pypi\n",
            "Successfully installed pymp-pypi-0.4.3\n"
          ],
          "name": "stdout"
        }
      ]
    },
    {
      "cell_type": "code",
      "metadata": {
        "id": "sYKu4wtOrLh5"
      },
      "source": [
        "from selenium import webdriver\n",
        "from selenium.webdriver.common.keys import Keys\n",
        "from bs4 import BeautifulSoup\n",
        "import time"
      ],
      "execution_count": 33,
      "outputs": []
    },
    {
      "cell_type": "code",
      "metadata": {
        "colab": {
          "base_uri": "https://localhost:8080/"
        },
        "id": "kujjdO-9rUQX",
        "outputId": "b95c3880-8a5b-4032-ab29-dde3c39bb1f5"
      },
      "source": [
        "# redirecting to google.com \n",
        "chrome_options = webdriver.ChromeOptions()\n",
        "chrome_options.add_argument('--headless')\n",
        "chrome_options.add_argument('--no-sandbox')\n",
        "chrome_options.add_argument('--disable-dev-shm-usage')\n",
        "driver = webdriver.Chrome('chromedriver',chrome_options=chrome_options) # repalce the first argument with the path of your driver\n",
        "\n",
        "\n",
        "# function for getting links from the specified category\n",
        "def link_from_category(category_link, category, n_pages):\n",
        "  class_from_categ = {\"News\":\"dbsr\", \"Videos\":\"yuRUbf\"} #class tag for categories\n",
        "  class_tag = \"\"\n",
        "  class_tag = class_from_categ[category]\n",
        "\n",
        "  results = [] # list for storing all the links\n",
        "\n",
        "\n",
        "  for page in range(1, n_pages):\n",
        "    url = category_link +  str((page - 1) * 10) \n",
        "    driver.get(url)\n",
        "\n",
        "    soup = BeautifulSoup(driver.page_source, 'html.parser')\n",
        "    search = soup.find_all('div', class_=class_tag )\n",
        "\n",
        "    for h in search:\n",
        "        results.append(h.a.get('href'))\n",
        "\n",
        "    \n",
        "  return results\n",
        "\n",
        "def links_for_search(query, newslinks_results, n_pages=10):\n",
        "  newslinks_results = list(newslinks_results)\n",
        "\n",
        "  driver.get(\"https://www.google.com\")\n",
        "\n",
        "  # accessing the search bar and searching the specified query\n",
        "  search_bar = driver.find_element_by_name(\"q\")\n",
        "  search_bar.clear()\n",
        "  search_bar.send_keys(query)\n",
        "  search_bar.send_keys(Keys.RETURN)\n",
        "\n",
        "  # fetching the news and videos links for the specified query\n",
        "  category_list = [\"News\"]\n",
        "  category_link = []\n",
        "  for i in category_list:\n",
        "    category_link.append(driver.find_element_by_link_text(i).get_attribute('href'))\n",
        "\n",
        "\n",
        "  # fetching all the links for news articles\n",
        "  newslinks_results.append(link_from_category(category_link[0], \"News\",n_pages))"
      ],
      "execution_count": 50,
      "outputs": [
        {
          "output_type": "stream",
          "text": [
            "/usr/local/lib/python3.7/dist-packages/ipykernel_launcher.py:6: DeprecationWarning: use options instead of chrome_options\n",
            "  \n"
          ],
          "name": "stderr"
        }
      ]
    },
    {
      "cell_type": "code",
      "metadata": {
        "id": "6VVPKkAlimWI"
      },
      "source": [
        "from extract_Videos import extractYoutubeVideos\n",
        "from extractrepos import extract_repos\n",
        "from sentiment_analysis_twitter import get_tweets_main"
      ],
      "execution_count": 45,
      "outputs": []
    },
    {
      "cell_type": "code",
      "metadata": {
        "colab": {
          "base_uri": "https://localhost:8080/"
        },
        "id": "-PSlVf8qir-8",
        "outputId": "7d564ce6-7cf5-42d6-a51b-8a25d3b78699"
      },
      "source": [
        "start_time = time.time()\n",
        "\n",
        "videos_links = []\n",
        "extractYoutubeVideos(\"deep learning\",videos_links)\n",
        "\n",
        "repo_links = []\n",
        "extract_repos(\"deep learning\", repo_links)\n",
        "\n",
        "tweets = []\n",
        "get_tweets_main = get_tweets_main(\"deep learning\", tweets)\n",
        "\n",
        "news_links = []\n",
        "links_for_search(\"deep learning\", news_links)\n",
        "\n",
        "print(\"Time for serial implementation:\",time.time()-start_time)"
      ],
      "execution_count": 46,
      "outputs": [
        {
          "output_type": "stream",
          "text": [
            "Time for serial implementation: 8.893930673599243\n"
          ],
          "name": "stdout"
        }
      ]
    },
    {
      "cell_type": "code",
      "metadata": {
        "colab": {
          "base_uri": "https://localhost:8080/"
        },
        "id": "pQL8ygXDo1X0",
        "outputId": "4ea2733c-0e1b-469f-ae3e-95ef29878528"
      },
      "source": [
        "from multiprocessing import Process\n",
        "\n",
        "query = input(\"What do you want to search? \")\n",
        "\n",
        "\n",
        "start_time = time.time()\n",
        "\n",
        "results = [ [] for i in range(4) ]\n",
        "\n",
        "p1 = multiprocessing.Process(target=extractYoutubeVideos, args=(query, results[0]))\n",
        "p2 = multiprocessing.Process(target=extract_repos, args=(query, results[1]))\n",
        "p3 = multiprocessing.Process(target=get_tweets_main, args=(query, results[2]))\n",
        "p4 = multiprocessing.Process(target=links_for_search, args=(query, results[3]))\n",
        "\n",
        "p1.start()\n",
        "p2.start()\n",
        "p3.start()\n",
        "p4.start()\n",
        "\n",
        "p1.join()\n",
        "p2.join()\n",
        "p3.join()\n",
        "p4.join()\n",
        "\n",
        "print(\"Time for parallel implementation:\",time.time()-start_time)"
      ],
      "execution_count": 64,
      "outputs": [
        {
          "output_type": "stream",
          "text": [
            "What do you want to search? Data Science\n",
            "Time for parallel implementation: 7.725021600723267\n"
          ],
          "name": "stdout"
        }
      ]
    },
    {
      "cell_type": "code",
      "metadata": {
        "id": "entL97bojT5-"
      },
      "source": [
        ""
      ],
      "execution_count": null,
      "outputs": []
    },
    {
      "cell_type": "code",
      "metadata": {
        "id": "wyY34r1ZisE0"
      },
      "source": [
        ""
      ],
      "execution_count": null,
      "outputs": []
    }
  ]
}
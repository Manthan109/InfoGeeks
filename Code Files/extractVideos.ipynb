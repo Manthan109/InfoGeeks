{
  "nbformat": 4,
  "nbformat_minor": 0,
  "metadata": {
    "colab": {
      "name": "extractVideos.ipynb",
      "provenance": []
    },
    "kernelspec": {
      "name": "python3",
      "display_name": "Python 3"
    },
    "language_info": {
      "name": "python"
    }
  },
  "cells": [
    {
      "cell_type": "code",
      "metadata": {
        "id": "Ns_WyVjLlWra"
      },
      "source": [
        "import urllib.request\n",
        "import re"
      ],
      "execution_count": 1,
      "outputs": []
    },
    {
      "cell_type": "code",
      "metadata": {
        "id": "vGf984mIli1Q"
      },
      "source": [
        "def extractYoutubeVideos(query):\n",
        "  temp='+'\n",
        "  formatted_query = query.lower().split()\n",
        "  query = temp.join(formatted_query)\n",
        "  html = urllib.request.urlopen(\"https://www.youtube.com/results?search_query=\"+query)\n",
        "  video_ids = re.findall(r\"watch\\?v=(\\S{11})\",html.read().decode())\n",
        "  for i in video_ids:\n",
        "    print(\"https://www.youtube.com/watch?v=\"+i)"
      ],
      "execution_count": 7,
      "outputs": []
    },
    {
      "cell_type": "code",
      "metadata": {
        "colab": {
          "base_uri": "https://localhost:8080/"
        },
        "id": "DpCyQYOGmapp",
        "outputId": "6125142b-4fb4-45a0-8a87-fd9a3d0410d2"
      },
      "source": [
        "extractYoutubeVideos(\"Tanmay Bhatt\")"
      ],
      "execution_count": 8,
      "outputs": [
        {
          "output_type": "stream",
          "text": [
            "https://www.youtube.com/watch?v=SyFO118fY7k\n",
            "https://www.youtube.com/watch?v=YMfeueEN3Q8\n",
            "https://www.youtube.com/watch?v=LfzbWz_Gi5Y\n",
            "https://www.youtube.com/watch?v=dfWhP1St3Oc\n",
            "https://www.youtube.com/watch?v=Af0OF5fqirM\n",
            "https://www.youtube.com/watch?v=xBveDyt72Z4\n",
            "https://www.youtube.com/watch?v=xnS1pTidhrM\n",
            "https://www.youtube.com/watch?v=d8tF5XrEXyo\n",
            "https://www.youtube.com/watch?v=Y65-aoSuGMc\n",
            "https://www.youtube.com/watch?v=usx9q_HC_ho\n",
            "https://www.youtube.com/watch?v=CMCb85DMsq0\n",
            "https://www.youtube.com/watch?v=Af0OF5fqirM\n",
            "https://www.youtube.com/watch?v=SfRKGZm5nIs\n",
            "https://www.youtube.com/watch?v=OOObTf5XTMQ\n",
            "https://www.youtube.com/watch?v=a1iH_f1AHao\n",
            "https://www.youtube.com/watch?v=R-ltPVPLbLk\n",
            "https://www.youtube.com/watch?v=2ez8LuqNibg\n",
            "https://www.youtube.com/watch?v=3X0zYbFiAZk\n",
            "https://www.youtube.com/watch?v=M0myBYgYjzw\n",
            "https://www.youtube.com/watch?v=uSpouJ2cKlM\n",
            "https://www.youtube.com/watch?v=Pv5BlKDN1jY\n",
            "https://www.youtube.com/watch?v=v6fWU3uy-eU\n",
            "https://www.youtube.com/watch?v=-JvmKoChWUY\n",
            "https://www.youtube.com/watch?v=ttLbEzjRa08\n",
            "https://www.youtube.com/watch?v=TLUU6FZK540\n",
            "https://www.youtube.com/watch?v=2UDczkt_vaI\n",
            "https://www.youtube.com/watch?v=j0an9SsFUVk\n",
            "https://www.youtube.com/watch?v=yiKLziH_UTQ\n",
            "https://www.youtube.com/watch?v=Af0OF5fqirM\n",
            "https://www.youtube.com/watch?v=Af0OF5fqirM\n",
            "https://www.youtube.com/watch?v=LfzbWz_Gi5Y\n",
            "https://www.youtube.com/watch?v=fUxFxv9d5fY\n",
            "https://www.youtube.com/watch?v=xBveDyt72Z4\n",
            "https://www.youtube.com/watch?v=dydU7-Dwe48\n",
            "https://www.youtube.com/watch?v=BTOHpoC-XsE\n",
            "https://www.youtube.com/watch?v=H-9XpJJcQOA\n",
            "https://www.youtube.com/watch?v=9xksXQyKYWg\n",
            "https://www.youtube.com/watch?v=dfWhP1St3Oc\n",
            "https://www.youtube.com/watch?v=DGNqoIsKaTc\n",
            "https://www.youtube.com/watch?v=Le3Tg25i-AM\n"
          ],
          "name": "stdout"
        }
      ]
    },
    {
      "cell_type": "code",
      "metadata": {
        "id": "EGDQnxTCmgfi"
      },
      "source": [
        ""
      ],
      "execution_count": null,
      "outputs": []
    }
  ]
}
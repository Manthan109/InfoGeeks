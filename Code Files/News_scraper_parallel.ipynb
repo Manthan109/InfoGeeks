{
  "nbformat": 4,
  "nbformat_minor": 0,
  "metadata": {
    "colab": {
      "name": "News_scraper.ipynb",
      "provenance": [],
      "collapsed_sections": []
    },
    "kernelspec": {
      "display_name": "Python 3",
      "language": "python",
      "name": "python3"
    },
    "language_info": {
      "codemirror_mode": {
        "name": "ipython",
        "version": 3
      },
      "file_extension": ".py",
      "mimetype": "text/x-python",
      "name": "python",
      "nbconvert_exporter": "python",
      "pygments_lexer": "ipython3",
      "version": "3.8.3"
    }
  },
  "cells": [
    {
      "cell_type": "markdown",
      "metadata": {
        "id": "0d2s0X3Pp9-x"
      },
      "source": [
        "## NewsAPI"
      ]
    },
    {
      "cell_type": "code",
      "metadata": {
        "id": "KUi6ucexo6du"
      },
      "source": [
        "import requests\n",
        "from bs4 import BeautifulSoup\n",
        "import pprint\n",
        "import pandas as pd\n",
        "import numpy as np"
      ],
      "execution_count": 2,
      "outputs": []
    },
    {
      "cell_type": "code",
      "metadata": {
        "id": "qX-mfM7KqJNm"
      },
      "source": [
        "url = \"https://newsapi.org/v2/everything\"\n",
        "api_key = \"ee93b76bdcf94864a2bb399229216d88\""
      ],
      "execution_count": 4,
      "outputs": []
    },
    {
      "cell_type": "code",
      "metadata": {
        "colab": {
          "base_uri": "https://localhost:8080/"
        },
        "id": "tBSy-yxvrXBW",
        "outputId": "588fee8d-5d31-4bc6-84ae-8fc43da5bd46"
      },
      "source": [
        "search_term = input(\"Enter a search keyword: \")"
      ],
      "execution_count": 3,
      "outputs": [
        {
          "output_type": "stream",
          "text": [
            "Enter a search keyword: covid\n"
          ],
          "name": "stdout"
        }
      ]
    },
    {
      "cell_type": "code",
      "metadata": {
        "id": "Spaxscgnqiuu"
      },
      "source": [
        "params = {\n",
        "    'q': search_term,\n",
        "    'pageSize': 25,\n",
        "    'apiKey': api_key,\n",
        "    'from': '2021-03-15'\n",
        "}\n",
        "\n",
        "response = requests.get(url, params = params)\n",
        "response_json = response.json()"
      ],
      "execution_count": 5,
      "outputs": []
    },
    {
      "cell_type": "code",
      "metadata": {
        "id": "lzZNrPOXq6-6",
        "colab": {
          "base_uri": "https://localhost:8080/"
        },
        "outputId": "eec4d031-2ecc-479a-9639-18e17534c5a1"
      },
      "source": [
        "response_json"
      ],
      "execution_count": 6,
      "outputs": [
        {
          "output_type": "execute_result",
          "data": {
            "text/plain": [
              "{'articles': [{'author': 'https://www.engadget.com/about/editors/igor-bonifacic',\n",
              "   'content': 'Since the start of the coronavirus pandemic, DoorDash has expanded its delivery options to include everyday essentials and items from convenience stores. Now you can add COVID-19 testing kits to that… [+1449 chars]',\n",
              "   'description': 'DoorDash is partnering with two digital health companies to allow people to order COVID-19 tests directly from its app.',\n",
              "   'publishedAt': '2021-03-22T17:22:07Z',\n",
              "   'source': {'id': 'engadget', 'name': 'Engadget'},\n",
              "   'title': 'DoorDash now delivers COVID-19 testing kits',\n",
              "   'url': 'https://www.engadget.com/doordash-covid-19-testing-kits-172207743.html',\n",
              "   'urlToImage': 'https://s.yimg.com/os/creatr-uploaded-images/2021-03/d0a932e0-8b31-11eb-aff7-254e04feac09'},\n",
              "  {'author': 'Elizabeth Yuko',\n",
              "   'content': 'We did it: we made it through the long COVID winter. And now that COVID spring is here, were starting to see some changes. Its getting a little warmer outside, spring flowers are starting to bloom, a… [+5192 chars]',\n",
              "   'description': 'We did it: we made it through the long COVID winter. And now that COVID spring is here, we’re starting to see some changes. It’s getting a little warmer outside, spring flowers are starting to bloom, and fire ant season is upon us. Along with the fall, spring…',\n",
              "   'publishedAt': '2021-03-20T13:00:00Z',\n",
              "   'source': {'id': None, 'name': 'Lifehacker.com'},\n",
              "   'title': 'How to Keep Fire Ants Away From You and Your Home',\n",
              "   'url': 'https://lifehacker.com/how-to-keep-fire-ants-away-from-you-and-your-home-1846516729',\n",
              "   'urlToImage': 'https://i.kinja-img.com/gawker-media/image/upload/c_fill,f_auto,fl_progressive,g_center,h_675,pg_1,q_80,w_1200/j0xyxh7t0rsjmt0mzanz.jpg'},\n",
              "  {'author': 'https://www.engadget.com/about/editors/kris-holt',\n",
              "   'content': 'Uber\\r\\n has teamed up with PayPal\\r\\n and Walgreens\\r\\n to create a Vaccine Access Fund\\r\\n with the aim of covering the cost of trips to COVID-19 vaccination sites, especially for people in underserved com… [+1471 chars]',\n",
              "   'description': 'Anyone can donate and help to cover the cost of rides to COVID-19 vaccination sites.',\n",
              "   'publishedAt': '2021-04-12T15:00:56Z',\n",
              "   'source': {'id': 'engadget', 'name': 'Engadget'},\n",
              "   'title': 'Uber, PayPal and Walgreens set up a Vaccine Access Fund',\n",
              "   'url': 'https://www.engadget.com/uber-paypal-walgreens-vaccine-access-fund-donations-150056875.html',\n",
              "   'urlToImage': 'https://s.yimg.com/os/creatr-uploaded-images/2021-04/6031a890-9b9d-11eb-93bf-f9d0aa515883'},\n",
              "  {'author': 'David Murphy',\n",
              "   'content': 'While we cant help you find a vaccination appointmentgood luck, given how terribly weve orchestrated the process and turned it into a kind of free-for-all reminiscent of buying concert tickets, shoes… [+1671 chars]',\n",
              "   'description': 'While we can’t help you find a vaccination appointment—good luck, given how terribly we’ve orchestrated the process and turned it into a kind of free-for-all reminiscent of buying concert tickets, shoes, or GeForce 3080 cards—we can at least give you a useful…',\n",
              "   'publishedAt': '2021-03-18T13:30:00Z',\n",
              "   'source': {'id': None, 'name': 'Lifehacker.com'},\n",
              "   'title': 'How to Find COVID Vaccination Sites in Apple Maps',\n",
              "   'url': 'https://lifehacker.com/how-to-find-covid-vaccination-sites-in-apple-maps-1846497197',\n",
              "   'urlToImage': 'https://i.kinja-img.com/gawker-media/image/upload/c_fill,f_auto,fl_progressive,g_center,h_675,pg_1,q_80,w_1200/jg1ccu0ovwdk1wmzcleb.jpg'},\n",
              "  {'author': 'Beth Skwarecki on Vitals, shared by Beth Skwarecki to Lifehacker',\n",
              "   'content': 'Pfizer and BioNTech announced today that they have completed a phase 3 trial of their COVID-19 vaccine in children aged 12 to 15, and that so far it seems to be 100% effective in that age group. If t… [+1806 chars]',\n",
              "   'description': 'Pfizer and BioNTech announced today that they have completed a phase 3 trial of their COVID-19 vaccine in children aged 12 to 15, and that so far it seems to be 100% effective in that age group. If the FDA agrees that the vaccine is safe and effective, it mig…',\n",
              "   'publishedAt': '2021-03-31T18:45:00Z',\n",
              "   'source': {'id': None, 'name': 'Lifehacker.com'},\n",
              "   'title': 'How Effective Is the COVID Vaccine on Kids?',\n",
              "   'url': 'https://vitals.lifehacker.com/how-effective-is-the-covid-vaccine-on-kids-1846592096',\n",
              "   'urlToImage': 'https://i.kinja-img.com/gawker-media/image/upload/c_fill,f_auto,fl_progressive,g_center,h_675,pg_1,q_80,w_1200/bvnushgtunsvrpbmabyc.jpg'},\n",
              "  {'author': 'Kait Sanchez',\n",
              "   'content': 'Facebook and Google are also expanding vaccination information\\r\\nIllustration by Alex Castro / The Verge\\r\\nApple announced today that Apple Maps has been updated with vaccine locations from VaccineFind… [+1837 chars]',\n",
              "   'description': 'Apple has added COVID-19 vaccination locations to Apple Maps. Facebook is expanding its COVID Information Center with locations from VaccineFinder, and Google has added a way to message some local pharmacies about vaccines.',\n",
              "   'publishedAt': '2021-03-16T21:16:08Z',\n",
              "   'source': {'id': 'the-verge', 'name': 'The Verge'},\n",
              "   'title': 'Apple Maps now shows COVID-19 vaccination locations',\n",
              "   'url': 'https://www.theverge.com/2021/3/16/22334609/apple-maps-facebook-google-covid-19-vaccine-locations',\n",
              "   'urlToImage': 'https://cdn.vox-cdn.com/thumbor/Dxk2Ku0txURewDi3EaKqi3X7JL0=/0x146:2040x1214/fit-in/1200x630/cdn.vox-cdn.com/uploads/chorus_asset/file/22357720/acastro_210309_1777_vaccine_0004.jpg'},\n",
              "  {'author': 'https://www.engadget.com/about/editors/jon-fingas',\n",
              "   'content': \"Facebook is holding more political leaders accountable for spreading COVID-19 misinformation. Reuterslearned that Facebook has frozen the page for Venezulan President Nicolas Maduro's page for 30 day… [+1024 chars]\",\n",
              "   'description': 'Facebook has frozen the page of Venezuela president Maduro for a month for posting COVID-19 misinformation.',\n",
              "   'publishedAt': '2021-03-27T16:05:17Z',\n",
              "   'source': {'id': 'engadget', 'name': 'Engadget'},\n",
              "   'title': \"Facebook freezes Venezuela president's page over false COVID-19 claims\",\n",
              "   'url': 'https://www.engadget.com/facebook-freezes-venezuela-president-maduro-page-160517623.html',\n",
              "   'urlToImage': 'https://s.yimg.com/os/creatr-uploaded-images/2021-03/586ab910-8f10-11eb-9bdc-a21265f3cc9d'},\n",
              "  {'author': 'https://www.engadget.com/about/editors/igor-bonifacic',\n",
              "   'content': 'Starting today, people in the US can use Apple Maps to find nearby COVID-19 vaccination sites. You can find the locations by tapping on the search bar and then the COVID-19 Vaccines icon under the \"F… [+1000 chars]',\n",
              "   'description': 'Starting today, people in the US can use Apple Maps to find nearby COVID-19 vaccination sites.',\n",
              "   'publishedAt': '2021-03-16T23:06:38Z',\n",
              "   'source': {'id': 'engadget', 'name': 'Engadget'},\n",
              "   'title': 'Now Apple Maps can help you find COVID-19 vaccination sites',\n",
              "   'url': 'https://www.engadget.com/apple-maps-covid-19-locations-230638436.html',\n",
              "   'urlToImage': 'https://s.yimg.com/os/creatr-uploaded-images/2021-03/bab967c0-86a9-11eb-bff9-2ad6c11278a5'},\n",
              "  {'author': 'https://www.engadget.com/about/editors/igor-bonifacic',\n",
              "   'content': 'After successfully trialing it on an international flight between Singapore and London earlier this month, the IATA says it will release its Travel Pass app in mid-April. The software allows airline … [+1361 chars]',\n",
              "   'description': 'The software allows airline travelers to store verified COVID-19 test results and vaccination certificates on their phones.',\n",
              "   'publishedAt': '2021-03-31T18:35:50Z',\n",
              "   'source': {'id': 'engadget', 'name': 'Engadget'},\n",
              "   'title': 'The airline industry will release a COVID-19 passport for your iPhone next month',\n",
              "   'url': 'https://www.engadget.com/iata-travel-pass-183550833.html',\n",
              "   'urlToImage': 'https://s.yimg.com/os/creatr-uploaded-images/2021-03/3a8a6ea0-924d-11eb-bd9c-4e823b2855b5'},\n",
              "  {'author': 'https://www.engadget.com/about/editors/igor-bonifacic',\n",
              "   'content': 'Apple is adding a small but handy feature for those who need to travel during the pandemic (via The Verge). The next time you search for an airport on Apple Maps, its place card will include a summar… [+750 chars]',\n",
              "   'description': 'Apple is adding a small but handy feature for those who need to travel during the pandemic.',\n",
              "   'publishedAt': '2021-03-31T02:08:03Z',\n",
              "   'source': {'id': 'engadget', 'name': 'Engadget'},\n",
              "   'title': 'Apple Maps adds information on COVID-19 measures at airports',\n",
              "   'url': 'https://www.engadget.com/apple-maps-travel-guidance-airports-020803104.html',\n",
              "   'urlToImage': 'https://s.yimg.com/os/creatr-uploaded-images/2021-03/74ec7650-91a4-11eb-afbe-d7f1e74391f0'},\n",
              "  {'author': 'David Leonhardt',\n",
              "   'content': 'Testing is a major pillar of the presidents strategy, Carole Johnson, the White Houses testing coordinator, told me yesterday. We think its really important.\\r\\nSo what will it take for the U.S. to do … [+1659 chars]',\n",
              "   'description': 'Covid-19 testing is on the decline. That’s a problem.',\n",
              "   'publishedAt': '2021-03-26T10:20:30Z',\n",
              "   'source': {'id': None, 'name': 'New York Times'},\n",
              "   'title': 'The Covid Testing Slump',\n",
              "   'url': 'https://www.nytimes.com/2021/03/26/briefing/jessica-walter-suez-canal-usc-gynecologist.html',\n",
              "   'urlToImage': 'https://static01.nyt.com/images/2021/03/26/lens/26ambriefing-promo/merlin_184505529_8784a035-a12e-4015-9196-b9e84cfda44a-facebookJumbo.jpg'},\n",
              "  {'author': 'Gregory Barber',\n",
              "   'content': 'In mid-February, three travelers were stopped at the airport in Luanda, Angola. Even during the pandemic, the country, a hub for the oil industry, had seen plenty of passengers from Europe and South … [+4242 chars]',\n",
              "   'description': 'In countries without much sequencing, new versions of the Covid virus can go unnoticed. Scientists across Africa are collaborating to track them down.',\n",
              "   'publishedAt': '2021-04-09T11:00:00Z',\n",
              "   'source': {'id': 'wired', 'name': 'Wired'},\n",
              "   'title': 'Variant Hunters Race to Find New Strains Where Testing Lags',\n",
              "   'url': 'https://www.wired.com/story/variant-hunters-race-to-find-new-strains-where-testing-lags/',\n",
              "   'urlToImage': 'https://media.wired.com/photos/606fbf39b5c90ecdb84fc7f2/191:100/w_1280,c_limit/Science-variants-1243363094.jpg'},\n",
              "  {'author': 'Maryn McKenna',\n",
              "   'content': 'By then, five more European Union nations, plus Canada, had also recorded cases on mink farmsbut they were no longer the only places affected. In August, the coronavirus was identified in minks on fu… [+3622 chars]',\n",
              "   'description': 'Bats likely gave it to a mystery animal that then gave it to people. We passed it on to minks. Where does it go from there—and could it come back to us?',\n",
              "   'publishedAt': '2021-03-22T11:00:00Z',\n",
              "   'source': {'id': 'wired', 'name': 'Wired'},\n",
              "   'title': 'Covid Spilled From Animals to Humans. Now It’s Spilling Back',\n",
              "   'url': 'https://www.wired.com/story/covid-spilled-from-animals-to-humans-now-its-spilling-back/',\n",
              "   'urlToImage': 'https://media.wired.com/photos/6054c55ffe20326fb03e5f03/191:100/w_1280,c_limit/Science_climatedesk_474930962.jpg'},\n",
              "  {'author': 'Nicole Wetsman',\n",
              "   'content': 'Photo by Angela Weiss / AFP via Getty Images\\r\\n\\n \\n\\n The first person I knew personally who got their COVID-19 vaccine was my grandma, and the news that a shot was officially in her arm was the best th… [+2120 chars]',\n",
              "   'description': 'People are leaving Google reviews for COVID-19 vaccination sites, and they are very earnest and heartwarming.',\n",
              "   'publishedAt': '2021-03-21T15:00:00Z',\n",
              "   'source': {'id': 'the-verge', 'name': 'The Verge'},\n",
              "   'title': 'I love the earnest Google reviews of vaccination sites',\n",
              "   'url': 'https://www.theverge.com/2021/3/21/22339747/covid-vaccine-site-reviews-coronavirus-google',\n",
              "   'urlToImage': 'https://cdn.vox-cdn.com/thumbor/AMikrrsvsSRmubIG3TRFAWVi3s4=/0x364:4706x2828/fit-in/1200x630/cdn.vox-cdn.com/uploads/chorus_asset/file/22382613/1230841242.jpg'},\n",
              "  {'author': 'Nicole Wetsman',\n",
              "   'content': 'Federal officials publicly rebuked the company earlier this week\\r\\nIllustration by Alex Castro / The Verge\\r\\nAstraZeneca released updated data on its COVID-19 vaccine, saying a more recent analysis sho… [+2413 chars]',\n",
              "   'description': 'AstraZeneca released new data on its COVID-19 vaccine after US health officials rebuked its first press release. The company released incomplete data. The vaccine appears effective.',\n",
              "   'publishedAt': '2021-03-25T12:35:54Z',\n",
              "   'source': {'id': 'the-verge', 'name': 'The Verge'},\n",
              "   'title': 'Adjusted AstraZeneca data shows COVID-19 vaccine 76 percent effective',\n",
              "   'url': 'https://www.theverge.com/2021/3/25/22346706/covid-vaccine-astrazeneca-data-niaid-effective',\n",
              "   'urlToImage': 'https://cdn.vox-cdn.com/thumbor/jfkZWS8mK3qGxWf2P0wPVG6r_hQ=/0x146:2040x1214/fit-in/1200x630/cdn.vox-cdn.com/uploads/chorus_asset/file/22357718/acastro_210309_1777_vaccine_0002.jpg'},\n",
              "  {'author': 'Ronda Kaysen',\n",
              "   'content': 'Normally, Proctor Academy in Andover, N.H., starts the school year with a five-day orientation in the White Mountains. The weather can be miserable, but the students come away a close-knit group. Thi… [+1536 chars]',\n",
              "   'description': 'Screen-fatigued parents have been considering an education option that once seemed possible only for those in rarefied circles.',\n",
              "   'publishedAt': '2021-03-29T09:00:19Z',\n",
              "   'source': {'id': None, 'name': 'New York Times'},\n",
              "   'title': 'Boarding School During Covid',\n",
              "   'url': 'https://www.nytimes.com/2021/03/29/style/boarding-school-covid.html',\n",
              "   'urlToImage': 'https://static01.nyt.com/images/2021/03/29/fashion/29BOARDINGSCHOOLBOOM3/29BOARDINGSCHOOLBOOM3-facebookJumbo.jpg'},\n",
              "  {'author': 'A.A. Newton on Vitals, shared by A.A. Newton to Lifehacker',\n",
              "   'content': 'If youre one of the millions of adults who avoid needles at all costs, you might be straight-up dreading your first COVID vaccine. Unfortunately, the best plan of action is to get it over with. It wo… [+2913 chars]',\n",
              "   'description': 'If you’re one of the millions of adults who avoid needles at all costs, you might be straight-up dreading your first COVID vaccine. Unfortunately, the best plan of action is to get it over with. It won’t be fun or even painless, but with a little preparation,…',\n",
              "   'publishedAt': '2021-04-09T13:30:00Z',\n",
              "   'source': {'id': None, 'name': 'Lifehacker.com'},\n",
              "   'title': 'How to Get Through Your COVID Shot If You Really Hate Needles',\n",
              "   'url': 'https://vitals.lifehacker.com/how-to-get-through-your-covid-shot-if-you-really-hate-n-1846646055',\n",
              "   'urlToImage': 'https://i.kinja-img.com/gawker-media/image/upload/c_fill,f_auto,fl_progressive,g_center,h_675,pg_1,q_80,w_1200/xvrrf9skjsk9yrb1z0bq.jpg'},\n",
              "  {'author': 'Mary Beth Griggs',\n",
              "   'content': 'Antivirus: a weekly digest of COVID-19 research and development\\r\\nA vaccine site that opened in Louisville, Kentucky on April 2, 2021, as cases rose in the state.\\r\\nPhoto by Jon Cherry/Getty Images\\r\\nTh… [+5496 chars]',\n",
              "   'description': 'In the US, great joy co-exists with deep worries about the current state of the COVID-19 pandemic, as vaccinations increase, and case counts rise.',\n",
              "   'publishedAt': '2021-04-03T14:00:00Z',\n",
              "   'source': {'id': 'the-verge', 'name': 'The Verge'},\n",
              "   'title': 'We’re on the knife’s edge of the pandemic',\n",
              "   'url': 'https://www.theverge.com/2021/4/3/22364637/pandemic-edge-fear-hope-vaccines-surge-antivirus-newsletter',\n",
              "   'urlToImage': 'https://cdn.vox-cdn.com/thumbor/MnxxYSNK68UfpBoeAai-rBPZN2I=/0x434:6063x3608/fit-in/1200x630/cdn.vox-cdn.com/uploads/chorus_asset/file/22417342/1232071704.jpg'},\n",
              "  {'author': 'Justine Calma',\n",
              "   'content': 'Theyll still need to wear masks and physically distance from other travelers\\r\\nTravelers wearing protective masks walk past a sign pointing towards a Covid-19 testing location in Terminal 5 at John F.… [+2130 chars]',\n",
              "   'description': 'The CDC issued new guidance to travelers who have been fully vaccinated. They can safely travel within the US without self-quarantining or taking COVID-19 tests.',\n",
              "   'publishedAt': '2021-04-02T17:05:08Z',\n",
              "   'source': {'id': 'the-verge', 'name': 'The Verge'},\n",
              "   'title': 'CDC says fully vaccinated people can travel safely in the US',\n",
              "   'url': 'https://www.theverge.com/2021/4/2/22364102/cdc-fully-vaccinated-people-travel-guidelines',\n",
              "   'urlToImage': 'https://cdn.vox-cdn.com/thumbor/m3E6tidHv5y77-JTz_Tb-qSMUhs=/0x359:5000x2977/fit-in/1200x630/cdn.vox-cdn.com/uploads/chorus_asset/file/22416352/1231950033.jpg'},\n",
              "  {'author': 'Nicole Wetsman',\n",
              "   'content': 'They can help monitor ventilation\\r\\nOne of the things weve learned over the past year is to be wary of the air around us especially indoors. If other people are around, exhaling, theyre filling the sp… [+1097 chars]',\n",
              "   'description': 'Monitoring carbon dioxide levels in indoor spaces can help track how well-ventilated they are. Improving ventilation can make rooms less risky while COVID-19 levels are high.',\n",
              "   'publishedAt': '2021-04-14T14:00:00Z',\n",
              "   'source': {'id': 'the-verge', 'name': 'The Verge'},\n",
              "   'title': 'How CO2 sensors might help us return to ‘normal’',\n",
              "   'url': 'https://www.theverge.com/2021/4/14/22382361/covid-carbon-dioxide-co2-ventilation-sensor-bars-restaurant',\n",
              "   'urlToImage': 'https://cdn.vox-cdn.com/thumbor/lJnp4Qgm_AZEsa_zJ97taL1UFqQ=/0x146:2040x1214/fit-in/1200x630/cdn.vox-cdn.com/uploads/chorus_asset/file/22441605/CONTAINER.jpg'},\n",
              "  {'author': 'Natasha Lomas',\n",
              "   'content': 'More details have emerged today about the European Commission’s legislative proposal for a pan-EU ‘digital green pass’ to show verified COVID-19 status. The plan is controversial from a human rights … [+16107 chars]',\n",
              "   'description': 'More details have emerged today about the European Commission’s legislative proposal for a pan-EU ‘digital green pass’ to show verified COVID-19 status. The plan is controversial from a human rights and civil liberties perspective, given the clear risk of dis…',\n",
              "   'publishedAt': '2021-03-18T00:36:28Z',\n",
              "   'source': {'id': 'techcrunch', 'name': 'TechCrunch'},\n",
              "   'title': 'Europe’s rush for a COVID-19 ‘digital pass’ stirs concerns',\n",
              "   'url': 'http://techcrunch.com/2021/03/17/europes-rush-for-a-covid-19-digital-pass-stirs-concerns/',\n",
              "   'urlToImage': 'https://techcrunch.com/wp-content/uploads/2021/01/covid-vaccine-04.jpg?w=711'},\n",
              "  {'author': None,\n",
              "   'content': 'Pam Belluck contributed reporting.\\r\\nThe Daily is made by Theo Balcomb, Lisa Tobin, Rachel Quester, Lynsea Garrison, Annie Brown, Clare Toeniskoetter, Paige Cowett, Michael Simon Johnson, Brad Fisher,… [+699 chars]',\n",
              "   'description': 'Some people who contract the coronavirus experience lingering, debilitating health issues. We look at how the disease could have long-term effects on the brain.',\n",
              "   'publishedAt': '2021-03-22T10:00:05Z',\n",
              "   'source': {'id': None, 'name': 'New York Times'},\n",
              "   'title': 'The Cruel Reality of Long Covid-19',\n",
              "   'url': 'https://www.nytimes.com/2021/03/22/podcasts/the-daily/covid-psychosis-mental.html',\n",
              "   'urlToImage': 'https://static01.nyt.com/images/2021/03/22/podcasts/22DAILY-agerton/22DAILY-agerton-facebookJumbo.jpg'},\n",
              "  {'author': 'https://www.engadget.com/about/editors/jon-fingas',\n",
              "   'content': \"COVID-19 vaccination passports have become a practical reality in the US. As USA Today reports, New York state has launched a digital Excelsior Pass that residents can use to prove they've been vacci… [+2083 chars]\",\n",
              "   'description': \"New York state has launched the US' first vaccine passports in the form of the mostly digital Excelsior Pass, but it's bound to stir ethical debates.\",\n",
              "   'publishedAt': '2021-03-28T15:27:22Z',\n",
              "   'source': {'id': 'engadget', 'name': 'Engadget'},\n",
              "   'title': 'New York rolls out first digital COVID-19 vaccine passports in the US',\n",
              "   'url': 'https://www.engadget.com/new-york-excelsior-pass-covid-19-vaccine-passport-152722058.html',\n",
              "   'urlToImage': 'https://s.yimg.com/os/creatr-uploaded-images/2021-03/9228f040-8fd3-11eb-a97a-cce4d9198cef'},\n",
              "  {'author': 'https://www.engadget.com/about/editors/kris-holt',\n",
              "   'content': 'Google News Initiative (GNI) has revealed the 11 projects that will receive funding to provide accurate information about COVID-19 vaccines. The goal is to reach people who are underserved by other f… [+1886 chars]',\n",
              "   'description': 'Univision will create bilingual videos to combat misinformation among Hispanic residents in the US.',\n",
              "   'publishedAt': '2021-03-16T13:00:04Z',\n",
              "   'source': {'id': 'engadget', 'name': 'Engadget'},\n",
              "   'title': 'Google will split a $3 million COVID-19 fact-checking fund among 11 projects',\n",
              "   'url': 'https://www.engadget.com/google-news-initiative-covid-19-fact-check-funding-140004185.html',\n",
              "   'urlToImage': 'https://s.yimg.com/os/creatr-uploaded-images/2021-03/9aaa11c0-81b6-11eb-9ee7-3746b582134f'},\n",
              "  {'author': 'Tulika Bose',\n",
              "   'content': \"Mashable's Rachel Kraus dives into her own experience getting a COVID vaccine and what she learned about our public health system along the way.\\r\\nFor the full article, click here.\",\n",
              "   'description': \"Mashable's Rachel Kraus dives into her own experience getting a COVID vaccine — and what she learned about our public health system along the way.\\nFor the full article, click here. Read more...More about Mashable Video, Vaccine, Pandemic, Covid 19, and Vaccin…\",\n",
              "   'publishedAt': '2021-03-24T16:36:08Z',\n",
              "   'source': {'id': 'mashable', 'name': 'Mashable'},\n",
              "   'title': 'How to use your COVID vaccine guilt to fight for health equity',\n",
              "   'url': 'https://mashable.com/video/how-to-fight-for-vaccine-equity/',\n",
              "   'urlToImage': 'https://mondrian.mashable.com/2021%252F03%252F24%252Fbe%252Fb6933d5bf72e49f2a3997a920cc31d97.02ed7.png%252F1200x630.png?signature=36r8BinZrrkcc91n27zlVYVU8NM='}],\n",
              " 'status': 'ok',\n",
              " 'totalResults': 424209}"
            ]
          },
          "metadata": {
            "tags": []
          },
          "execution_count": 6
        }
      ]
    },
    {
      "cell_type": "code",
      "metadata": {
        "colab": {
          "base_uri": "https://localhost:8080/"
        },
        "id": "xtdHRhZMq_O2",
        "outputId": "81b11621-dfbc-4a79-d08c-6fc6284a21a1"
      },
      "source": [
        "response_json.keys()"
      ],
      "execution_count": 7,
      "outputs": [
        {
          "output_type": "execute_result",
          "data": {
            "text/plain": [
              "dict_keys(['status', 'totalResults', 'articles'])"
            ]
          },
          "metadata": {
            "tags": []
          },
          "execution_count": 7
        }
      ]
    },
    {
      "cell_type": "code",
      "metadata": {
        "colab": {
          "base_uri": "https://localhost:8080/"
        },
        "id": "365EEi_dru4K",
        "outputId": "cc2b688c-61ea-4898-9e80-1397bb558338"
      },
      "source": [
        "response_json['totalResults']"
      ],
      "execution_count": 8,
      "outputs": [
        {
          "output_type": "execute_result",
          "data": {
            "text/plain": [
              "424209"
            ]
          },
          "metadata": {
            "tags": []
          },
          "execution_count": 8
        }
      ]
    },
    {
      "cell_type": "code",
      "metadata": {
        "id": "wH17tXUrry-2"
      },
      "source": [
        "search_articles = response_json['articles']"
      ],
      "execution_count": 9,
      "outputs": []
    },
    {
      "cell_type": "code",
      "metadata": {
        "id": "yYWVFkfnsm2u"
      },
      "source": [
        "def get_articles(file):\n",
        "    article_results = []\n",
        "\n",
        "    for i in range(len(file)):\n",
        "        article_dict = {}\n",
        "        article_dict['title'] = file[i]['title']\n",
        "        article_dict['author'] = file[i]['author']\n",
        "        article_dict['source'] = file[i]['source']\n",
        "        article_dict['description'] = file[i]['content']\n",
        "        article_dict['pub_date'] = file[i]['publishedAt']\n",
        "        article_dict['url'] = file[i]['url']\n",
        "        article_dict['photo_url'] = file[i]['urlToImage']\n",
        "\n",
        "        article_results.append(article_dict)\n",
        "    return article_results"
      ],
      "execution_count": 10,
      "outputs": []
    },
    {
      "cell_type": "code",
      "metadata": {
        "id": "Wo6553Pwtp2R"
      },
      "source": [
        "# creating a pandas dataframe\n",
        "search_df = pd.DataFrame(get_articles(search_articles))"
      ],
      "execution_count": 11,
      "outputs": []
    },
    {
      "cell_type": "code",
      "metadata": {
        "colab": {
          "base_uri": "https://localhost:8080/",
          "height": 380
        },
        "id": "GAe-hbhouTk7",
        "outputId": "3dc872e4-2ccd-4445-b0dc-83a1a9de6ba3"
      },
      "source": [
        "search_df.head()"
      ],
      "execution_count": 12,
      "outputs": [
        {
          "output_type": "execute_result",
          "data": {
            "text/html": [
              "<div>\n",
              "<style scoped>\n",
              "    .dataframe tbody tr th:only-of-type {\n",
              "        vertical-align: middle;\n",
              "    }\n",
              "\n",
              "    .dataframe tbody tr th {\n",
              "        vertical-align: top;\n",
              "    }\n",
              "\n",
              "    .dataframe thead th {\n",
              "        text-align: right;\n",
              "    }\n",
              "</style>\n",
              "<table border=\"1\" class=\"dataframe\">\n",
              "  <thead>\n",
              "    <tr style=\"text-align: right;\">\n",
              "      <th></th>\n",
              "      <th>title</th>\n",
              "      <th>author</th>\n",
              "      <th>source</th>\n",
              "      <th>description</th>\n",
              "      <th>pub_date</th>\n",
              "      <th>url</th>\n",
              "      <th>photo_url</th>\n",
              "    </tr>\n",
              "  </thead>\n",
              "  <tbody>\n",
              "    <tr>\n",
              "      <th>0</th>\n",
              "      <td>DoorDash now delivers COVID-19 testing kits</td>\n",
              "      <td>https://www.engadget.com/about/editors/igor-bo...</td>\n",
              "      <td>{'id': 'engadget', 'name': 'Engadget'}</td>\n",
              "      <td>Since the start of the coronavirus pandemic, D...</td>\n",
              "      <td>2021-03-22T17:22:07Z</td>\n",
              "      <td>https://www.engadget.com/doordash-covid-19-tes...</td>\n",
              "      <td>https://s.yimg.com/os/creatr-uploaded-images/2...</td>\n",
              "    </tr>\n",
              "    <tr>\n",
              "      <th>1</th>\n",
              "      <td>How to Keep Fire Ants Away From You and Your Home</td>\n",
              "      <td>Elizabeth Yuko</td>\n",
              "      <td>{'id': None, 'name': 'Lifehacker.com'}</td>\n",
              "      <td>We did it: we made it through the long COVID w...</td>\n",
              "      <td>2021-03-20T13:00:00Z</td>\n",
              "      <td>https://lifehacker.com/how-to-keep-fire-ants-a...</td>\n",
              "      <td>https://i.kinja-img.com/gawker-media/image/upl...</td>\n",
              "    </tr>\n",
              "    <tr>\n",
              "      <th>2</th>\n",
              "      <td>Uber, PayPal and Walgreens set up a Vaccine Ac...</td>\n",
              "      <td>https://www.engadget.com/about/editors/kris-holt</td>\n",
              "      <td>{'id': 'engadget', 'name': 'Engadget'}</td>\n",
              "      <td>Uber\\r\\n has teamed up with PayPal\\r\\n and Wal...</td>\n",
              "      <td>2021-04-12T15:00:56Z</td>\n",
              "      <td>https://www.engadget.com/uber-paypal-walgreens...</td>\n",
              "      <td>https://s.yimg.com/os/creatr-uploaded-images/2...</td>\n",
              "    </tr>\n",
              "    <tr>\n",
              "      <th>3</th>\n",
              "      <td>How to Find COVID Vaccination Sites in Apple Maps</td>\n",
              "      <td>David Murphy</td>\n",
              "      <td>{'id': None, 'name': 'Lifehacker.com'}</td>\n",
              "      <td>While we cant help you find a vaccination appo...</td>\n",
              "      <td>2021-03-18T13:30:00Z</td>\n",
              "      <td>https://lifehacker.com/how-to-find-covid-vacci...</td>\n",
              "      <td>https://i.kinja-img.com/gawker-media/image/upl...</td>\n",
              "    </tr>\n",
              "    <tr>\n",
              "      <th>4</th>\n",
              "      <td>How Effective Is the COVID Vaccine on Kids?</td>\n",
              "      <td>Beth Skwarecki on Vitals, shared by Beth Skwar...</td>\n",
              "      <td>{'id': None, 'name': 'Lifehacker.com'}</td>\n",
              "      <td>Pfizer and BioNTech announced today that they ...</td>\n",
              "      <td>2021-03-31T18:45:00Z</td>\n",
              "      <td>https://vitals.lifehacker.com/how-effective-is...</td>\n",
              "      <td>https://i.kinja-img.com/gawker-media/image/upl...</td>\n",
              "    </tr>\n",
              "  </tbody>\n",
              "</table>\n",
              "</div>"
            ],
            "text/plain": [
              "                                               title  ...                                          photo_url\n",
              "0        DoorDash now delivers COVID-19 testing kits  ...  https://s.yimg.com/os/creatr-uploaded-images/2...\n",
              "1  How to Keep Fire Ants Away From You and Your Home  ...  https://i.kinja-img.com/gawker-media/image/upl...\n",
              "2  Uber, PayPal and Walgreens set up a Vaccine Ac...  ...  https://s.yimg.com/os/creatr-uploaded-images/2...\n",
              "3  How to Find COVID Vaccination Sites in Apple Maps  ...  https://i.kinja-img.com/gawker-media/image/upl...\n",
              "4        How Effective Is the COVID Vaccine on Kids?  ...  https://i.kinja-img.com/gawker-media/image/upl...\n",
              "\n",
              "[5 rows x 7 columns]"
            ]
          },
          "metadata": {
            "tags": []
          },
          "execution_count": 12
        }
      ]
    },
    {
      "cell_type": "code",
      "metadata": {
        "id": "2XoneqdSuUte"
      },
      "source": [
        "# formatting source\n",
        "def source_getter(df):\n",
        "  source = []\n",
        "  for source_dict in df['source']:\n",
        "    source.append(source_dict['name'])\n",
        "  df['source'] = source"
      ],
      "execution_count": 13,
      "outputs": []
    },
    {
      "cell_type": "code",
      "metadata": {
        "id": "ivmkP0kKunVS"
      },
      "source": [
        "source_getter(search_df)"
      ],
      "execution_count": 14,
      "outputs": []
    },
    {
      "cell_type": "code",
      "metadata": {
        "colab": {
          "base_uri": "https://localhost:8080/"
        },
        "id": "y9LvhWl3u0KY",
        "outputId": "a474f598-5a8b-43cc-d596-f600610f95c7"
      },
      "source": [
        "search_df.shape"
      ],
      "execution_count": 15,
      "outputs": [
        {
          "output_type": "execute_result",
          "data": {
            "text/plain": [
              "(25, 7)"
            ]
          },
          "metadata": {
            "tags": []
          },
          "execution_count": 15
        }
      ]
    },
    {
      "cell_type": "code",
      "metadata": {
        "colab": {
          "base_uri": "https://localhost:8080/",
          "height": 1000
        },
        "id": "aNgeYpoAuqDb",
        "outputId": "40d81d90-6a49-42b5-d3eb-d621c780101b"
      },
      "source": [
        "search_df"
      ],
      "execution_count": 16,
      "outputs": [
        {
          "output_type": "execute_result",
          "data": {
            "text/html": [
              "<div>\n",
              "<style scoped>\n",
              "    .dataframe tbody tr th:only-of-type {\n",
              "        vertical-align: middle;\n",
              "    }\n",
              "\n",
              "    .dataframe tbody tr th {\n",
              "        vertical-align: top;\n",
              "    }\n",
              "\n",
              "    .dataframe thead th {\n",
              "        text-align: right;\n",
              "    }\n",
              "</style>\n",
              "<table border=\"1\" class=\"dataframe\">\n",
              "  <thead>\n",
              "    <tr style=\"text-align: right;\">\n",
              "      <th></th>\n",
              "      <th>title</th>\n",
              "      <th>author</th>\n",
              "      <th>source</th>\n",
              "      <th>description</th>\n",
              "      <th>pub_date</th>\n",
              "      <th>url</th>\n",
              "      <th>photo_url</th>\n",
              "    </tr>\n",
              "  </thead>\n",
              "  <tbody>\n",
              "    <tr>\n",
              "      <th>0</th>\n",
              "      <td>DoorDash now delivers COVID-19 testing kits</td>\n",
              "      <td>https://www.engadget.com/about/editors/igor-bo...</td>\n",
              "      <td>Engadget</td>\n",
              "      <td>Since the start of the coronavirus pandemic, D...</td>\n",
              "      <td>2021-03-22T17:22:07Z</td>\n",
              "      <td>https://www.engadget.com/doordash-covid-19-tes...</td>\n",
              "      <td>https://s.yimg.com/os/creatr-uploaded-images/2...</td>\n",
              "    </tr>\n",
              "    <tr>\n",
              "      <th>1</th>\n",
              "      <td>How to Keep Fire Ants Away From You and Your Home</td>\n",
              "      <td>Elizabeth Yuko</td>\n",
              "      <td>Lifehacker.com</td>\n",
              "      <td>We did it: we made it through the long COVID w...</td>\n",
              "      <td>2021-03-20T13:00:00Z</td>\n",
              "      <td>https://lifehacker.com/how-to-keep-fire-ants-a...</td>\n",
              "      <td>https://i.kinja-img.com/gawker-media/image/upl...</td>\n",
              "    </tr>\n",
              "    <tr>\n",
              "      <th>2</th>\n",
              "      <td>Uber, PayPal and Walgreens set up a Vaccine Ac...</td>\n",
              "      <td>https://www.engadget.com/about/editors/kris-holt</td>\n",
              "      <td>Engadget</td>\n",
              "      <td>Uber\\r\\n has teamed up with PayPal\\r\\n and Wal...</td>\n",
              "      <td>2021-04-12T15:00:56Z</td>\n",
              "      <td>https://www.engadget.com/uber-paypal-walgreens...</td>\n",
              "      <td>https://s.yimg.com/os/creatr-uploaded-images/2...</td>\n",
              "    </tr>\n",
              "    <tr>\n",
              "      <th>3</th>\n",
              "      <td>How to Find COVID Vaccination Sites in Apple Maps</td>\n",
              "      <td>David Murphy</td>\n",
              "      <td>Lifehacker.com</td>\n",
              "      <td>While we cant help you find a vaccination appo...</td>\n",
              "      <td>2021-03-18T13:30:00Z</td>\n",
              "      <td>https://lifehacker.com/how-to-find-covid-vacci...</td>\n",
              "      <td>https://i.kinja-img.com/gawker-media/image/upl...</td>\n",
              "    </tr>\n",
              "    <tr>\n",
              "      <th>4</th>\n",
              "      <td>How Effective Is the COVID Vaccine on Kids?</td>\n",
              "      <td>Beth Skwarecki on Vitals, shared by Beth Skwar...</td>\n",
              "      <td>Lifehacker.com</td>\n",
              "      <td>Pfizer and BioNTech announced today that they ...</td>\n",
              "      <td>2021-03-31T18:45:00Z</td>\n",
              "      <td>https://vitals.lifehacker.com/how-effective-is...</td>\n",
              "      <td>https://i.kinja-img.com/gawker-media/image/upl...</td>\n",
              "    </tr>\n",
              "    <tr>\n",
              "      <th>5</th>\n",
              "      <td>Apple Maps now shows COVID-19 vaccination loca...</td>\n",
              "      <td>Kait Sanchez</td>\n",
              "      <td>The Verge</td>\n",
              "      <td>Facebook and Google are also expanding vaccina...</td>\n",
              "      <td>2021-03-16T21:16:08Z</td>\n",
              "      <td>https://www.theverge.com/2021/3/16/22334609/ap...</td>\n",
              "      <td>https://cdn.vox-cdn.com/thumbor/Dxk2Ku0txURewD...</td>\n",
              "    </tr>\n",
              "    <tr>\n",
              "      <th>6</th>\n",
              "      <td>Facebook freezes Venezuela president's page ov...</td>\n",
              "      <td>https://www.engadget.com/about/editors/jon-fingas</td>\n",
              "      <td>Engadget</td>\n",
              "      <td>Facebook is holding more political leaders acc...</td>\n",
              "      <td>2021-03-27T16:05:17Z</td>\n",
              "      <td>https://www.engadget.com/facebook-freezes-vene...</td>\n",
              "      <td>https://s.yimg.com/os/creatr-uploaded-images/2...</td>\n",
              "    </tr>\n",
              "    <tr>\n",
              "      <th>7</th>\n",
              "      <td>Now Apple Maps can help you find COVID-19 vacc...</td>\n",
              "      <td>https://www.engadget.com/about/editors/igor-bo...</td>\n",
              "      <td>Engadget</td>\n",
              "      <td>Starting today, people in the US can use Apple...</td>\n",
              "      <td>2021-03-16T23:06:38Z</td>\n",
              "      <td>https://www.engadget.com/apple-maps-covid-19-l...</td>\n",
              "      <td>https://s.yimg.com/os/creatr-uploaded-images/2...</td>\n",
              "    </tr>\n",
              "    <tr>\n",
              "      <th>8</th>\n",
              "      <td>The airline industry will release a COVID-19 p...</td>\n",
              "      <td>https://www.engadget.com/about/editors/igor-bo...</td>\n",
              "      <td>Engadget</td>\n",
              "      <td>After successfully trialing it on an internati...</td>\n",
              "      <td>2021-03-31T18:35:50Z</td>\n",
              "      <td>https://www.engadget.com/iata-travel-pass-1835...</td>\n",
              "      <td>https://s.yimg.com/os/creatr-uploaded-images/2...</td>\n",
              "    </tr>\n",
              "    <tr>\n",
              "      <th>9</th>\n",
              "      <td>Apple Maps adds information on COVID-19 measur...</td>\n",
              "      <td>https://www.engadget.com/about/editors/igor-bo...</td>\n",
              "      <td>Engadget</td>\n",
              "      <td>Apple is adding a small but handy feature for ...</td>\n",
              "      <td>2021-03-31T02:08:03Z</td>\n",
              "      <td>https://www.engadget.com/apple-maps-travel-gui...</td>\n",
              "      <td>https://s.yimg.com/os/creatr-uploaded-images/2...</td>\n",
              "    </tr>\n",
              "    <tr>\n",
              "      <th>10</th>\n",
              "      <td>The Covid Testing Slump</td>\n",
              "      <td>David Leonhardt</td>\n",
              "      <td>New York Times</td>\n",
              "      <td>Testing is a major pillar of the presidents st...</td>\n",
              "      <td>2021-03-26T10:20:30Z</td>\n",
              "      <td>https://www.nytimes.com/2021/03/26/briefing/je...</td>\n",
              "      <td>https://static01.nyt.com/images/2021/03/26/len...</td>\n",
              "    </tr>\n",
              "    <tr>\n",
              "      <th>11</th>\n",
              "      <td>Variant Hunters Race to Find New Strains Where...</td>\n",
              "      <td>Gregory Barber</td>\n",
              "      <td>Wired</td>\n",
              "      <td>In mid-February, three travelers were stopped ...</td>\n",
              "      <td>2021-04-09T11:00:00Z</td>\n",
              "      <td>https://www.wired.com/story/variant-hunters-ra...</td>\n",
              "      <td>https://media.wired.com/photos/606fbf39b5c90ec...</td>\n",
              "    </tr>\n",
              "    <tr>\n",
              "      <th>12</th>\n",
              "      <td>Covid Spilled From Animals to Humans. Now It’s...</td>\n",
              "      <td>Maryn McKenna</td>\n",
              "      <td>Wired</td>\n",
              "      <td>By then, five more European Union nations, plu...</td>\n",
              "      <td>2021-03-22T11:00:00Z</td>\n",
              "      <td>https://www.wired.com/story/covid-spilled-from...</td>\n",
              "      <td>https://media.wired.com/photos/6054c55ffe20326...</td>\n",
              "    </tr>\n",
              "    <tr>\n",
              "      <th>13</th>\n",
              "      <td>I love the earnest Google reviews of vaccinati...</td>\n",
              "      <td>Nicole Wetsman</td>\n",
              "      <td>The Verge</td>\n",
              "      <td>Photo by Angela Weiss / AFP via Getty Images\\r...</td>\n",
              "      <td>2021-03-21T15:00:00Z</td>\n",
              "      <td>https://www.theverge.com/2021/3/21/22339747/co...</td>\n",
              "      <td>https://cdn.vox-cdn.com/thumbor/AMikrrsvsSRmub...</td>\n",
              "    </tr>\n",
              "    <tr>\n",
              "      <th>14</th>\n",
              "      <td>Adjusted AstraZeneca data shows COVID-19 vacci...</td>\n",
              "      <td>Nicole Wetsman</td>\n",
              "      <td>The Verge</td>\n",
              "      <td>Federal officials publicly rebuked the company...</td>\n",
              "      <td>2021-03-25T12:35:54Z</td>\n",
              "      <td>https://www.theverge.com/2021/3/25/22346706/co...</td>\n",
              "      <td>https://cdn.vox-cdn.com/thumbor/jfkZWS8mK3qGxW...</td>\n",
              "    </tr>\n",
              "    <tr>\n",
              "      <th>15</th>\n",
              "      <td>Boarding School During Covid</td>\n",
              "      <td>Ronda Kaysen</td>\n",
              "      <td>New York Times</td>\n",
              "      <td>Normally, Proctor Academy in Andover, N.H., st...</td>\n",
              "      <td>2021-03-29T09:00:19Z</td>\n",
              "      <td>https://www.nytimes.com/2021/03/29/style/board...</td>\n",
              "      <td>https://static01.nyt.com/images/2021/03/29/fas...</td>\n",
              "    </tr>\n",
              "    <tr>\n",
              "      <th>16</th>\n",
              "      <td>How to Get Through Your COVID Shot If You Real...</td>\n",
              "      <td>A.A. Newton on Vitals, shared by A.A. Newton t...</td>\n",
              "      <td>Lifehacker.com</td>\n",
              "      <td>If youre one of the millions of adults who avo...</td>\n",
              "      <td>2021-04-09T13:30:00Z</td>\n",
              "      <td>https://vitals.lifehacker.com/how-to-get-throu...</td>\n",
              "      <td>https://i.kinja-img.com/gawker-media/image/upl...</td>\n",
              "    </tr>\n",
              "    <tr>\n",
              "      <th>17</th>\n",
              "      <td>We’re on the knife’s edge of the pandemic</td>\n",
              "      <td>Mary Beth Griggs</td>\n",
              "      <td>The Verge</td>\n",
              "      <td>Antivirus: a weekly digest of COVID-19 researc...</td>\n",
              "      <td>2021-04-03T14:00:00Z</td>\n",
              "      <td>https://www.theverge.com/2021/4/3/22364637/pan...</td>\n",
              "      <td>https://cdn.vox-cdn.com/thumbor/MnxxYSNK68UfpB...</td>\n",
              "    </tr>\n",
              "    <tr>\n",
              "      <th>18</th>\n",
              "      <td>CDC says fully vaccinated people can travel sa...</td>\n",
              "      <td>Justine Calma</td>\n",
              "      <td>The Verge</td>\n",
              "      <td>Theyll still need to wear masks and physically...</td>\n",
              "      <td>2021-04-02T17:05:08Z</td>\n",
              "      <td>https://www.theverge.com/2021/4/2/22364102/cdc...</td>\n",
              "      <td>https://cdn.vox-cdn.com/thumbor/m3E6tidHv5y77-...</td>\n",
              "    </tr>\n",
              "    <tr>\n",
              "      <th>19</th>\n",
              "      <td>How CO2 sensors might help us return to ‘normal’</td>\n",
              "      <td>Nicole Wetsman</td>\n",
              "      <td>The Verge</td>\n",
              "      <td>They can help monitor ventilation\\r\\nOne of th...</td>\n",
              "      <td>2021-04-14T14:00:00Z</td>\n",
              "      <td>https://www.theverge.com/2021/4/14/22382361/co...</td>\n",
              "      <td>https://cdn.vox-cdn.com/thumbor/lJnp4Qgm_AZEsa...</td>\n",
              "    </tr>\n",
              "    <tr>\n",
              "      <th>20</th>\n",
              "      <td>Europe’s rush for a COVID-19 ‘digital pass’ st...</td>\n",
              "      <td>Natasha Lomas</td>\n",
              "      <td>TechCrunch</td>\n",
              "      <td>More details have emerged today about the Euro...</td>\n",
              "      <td>2021-03-18T00:36:28Z</td>\n",
              "      <td>http://techcrunch.com/2021/03/17/europes-rush-...</td>\n",
              "      <td>https://techcrunch.com/wp-content/uploads/2021...</td>\n",
              "    </tr>\n",
              "    <tr>\n",
              "      <th>21</th>\n",
              "      <td>The Cruel Reality of Long Covid-19</td>\n",
              "      <td>None</td>\n",
              "      <td>New York Times</td>\n",
              "      <td>Pam Belluck contributed reporting.\\r\\nThe Dail...</td>\n",
              "      <td>2021-03-22T10:00:05Z</td>\n",
              "      <td>https://www.nytimes.com/2021/03/22/podcasts/th...</td>\n",
              "      <td>https://static01.nyt.com/images/2021/03/22/pod...</td>\n",
              "    </tr>\n",
              "    <tr>\n",
              "      <th>22</th>\n",
              "      <td>New York rolls out first digital COVID-19 vacc...</td>\n",
              "      <td>https://www.engadget.com/about/editors/jon-fingas</td>\n",
              "      <td>Engadget</td>\n",
              "      <td>COVID-19 vaccination passports have become a p...</td>\n",
              "      <td>2021-03-28T15:27:22Z</td>\n",
              "      <td>https://www.engadget.com/new-york-excelsior-pa...</td>\n",
              "      <td>https://s.yimg.com/os/creatr-uploaded-images/2...</td>\n",
              "    </tr>\n",
              "    <tr>\n",
              "      <th>23</th>\n",
              "      <td>Google will split a $3 million COVID-19 fact-c...</td>\n",
              "      <td>https://www.engadget.com/about/editors/kris-holt</td>\n",
              "      <td>Engadget</td>\n",
              "      <td>Google News Initiative (GNI) has revealed the ...</td>\n",
              "      <td>2021-03-16T13:00:04Z</td>\n",
              "      <td>https://www.engadget.com/google-news-initiativ...</td>\n",
              "      <td>https://s.yimg.com/os/creatr-uploaded-images/2...</td>\n",
              "    </tr>\n",
              "    <tr>\n",
              "      <th>24</th>\n",
              "      <td>How to use your COVID vaccine guilt to fight f...</td>\n",
              "      <td>Tulika Bose</td>\n",
              "      <td>Mashable</td>\n",
              "      <td>Mashable's Rachel Kraus dives into her own exp...</td>\n",
              "      <td>2021-03-24T16:36:08Z</td>\n",
              "      <td>https://mashable.com/video/how-to-fight-for-va...</td>\n",
              "      <td>https://mondrian.mashable.com/2021%252F03%252F...</td>\n",
              "    </tr>\n",
              "  </tbody>\n",
              "</table>\n",
              "</div>"
            ],
            "text/plain": [
              "                                                title  ...                                          photo_url\n",
              "0         DoorDash now delivers COVID-19 testing kits  ...  https://s.yimg.com/os/creatr-uploaded-images/2...\n",
              "1   How to Keep Fire Ants Away From You and Your Home  ...  https://i.kinja-img.com/gawker-media/image/upl...\n",
              "2   Uber, PayPal and Walgreens set up a Vaccine Ac...  ...  https://s.yimg.com/os/creatr-uploaded-images/2...\n",
              "3   How to Find COVID Vaccination Sites in Apple Maps  ...  https://i.kinja-img.com/gawker-media/image/upl...\n",
              "4         How Effective Is the COVID Vaccine on Kids?  ...  https://i.kinja-img.com/gawker-media/image/upl...\n",
              "5   Apple Maps now shows COVID-19 vaccination loca...  ...  https://cdn.vox-cdn.com/thumbor/Dxk2Ku0txURewD...\n",
              "6   Facebook freezes Venezuela president's page ov...  ...  https://s.yimg.com/os/creatr-uploaded-images/2...\n",
              "7   Now Apple Maps can help you find COVID-19 vacc...  ...  https://s.yimg.com/os/creatr-uploaded-images/2...\n",
              "8   The airline industry will release a COVID-19 p...  ...  https://s.yimg.com/os/creatr-uploaded-images/2...\n",
              "9   Apple Maps adds information on COVID-19 measur...  ...  https://s.yimg.com/os/creatr-uploaded-images/2...\n",
              "10                            The Covid Testing Slump  ...  https://static01.nyt.com/images/2021/03/26/len...\n",
              "11  Variant Hunters Race to Find New Strains Where...  ...  https://media.wired.com/photos/606fbf39b5c90ec...\n",
              "12  Covid Spilled From Animals to Humans. Now It’s...  ...  https://media.wired.com/photos/6054c55ffe20326...\n",
              "13  I love the earnest Google reviews of vaccinati...  ...  https://cdn.vox-cdn.com/thumbor/AMikrrsvsSRmub...\n",
              "14  Adjusted AstraZeneca data shows COVID-19 vacci...  ...  https://cdn.vox-cdn.com/thumbor/jfkZWS8mK3qGxW...\n",
              "15                       Boarding School During Covid  ...  https://static01.nyt.com/images/2021/03/29/fas...\n",
              "16  How to Get Through Your COVID Shot If You Real...  ...  https://i.kinja-img.com/gawker-media/image/upl...\n",
              "17          We’re on the knife’s edge of the pandemic  ...  https://cdn.vox-cdn.com/thumbor/MnxxYSNK68UfpB...\n",
              "18  CDC says fully vaccinated people can travel sa...  ...  https://cdn.vox-cdn.com/thumbor/m3E6tidHv5y77-...\n",
              "19   How CO2 sensors might help us return to ‘normal’  ...  https://cdn.vox-cdn.com/thumbor/lJnp4Qgm_AZEsa...\n",
              "20  Europe’s rush for a COVID-19 ‘digital pass’ st...  ...  https://techcrunch.com/wp-content/uploads/2021...\n",
              "21                 The Cruel Reality of Long Covid-19  ...  https://static01.nyt.com/images/2021/03/22/pod...\n",
              "22  New York rolls out first digital COVID-19 vacc...  ...  https://s.yimg.com/os/creatr-uploaded-images/2...\n",
              "23  Google will split a $3 million COVID-19 fact-c...  ...  https://s.yimg.com/os/creatr-uploaded-images/2...\n",
              "24  How to use your COVID vaccine guilt to fight f...  ...  https://mondrian.mashable.com/2021%252F03%252F...\n",
              "\n",
              "[25 rows x 7 columns]"
            ]
          },
          "metadata": {
            "tags": []
          },
          "execution_count": 16
        }
      ]
    },
    {
      "cell_type": "markdown",
      "metadata": {
        "id": "RvQmIAJ_wtdQ"
      },
      "source": [
        "## Building a word cloud"
      ]
    },
    {
      "cell_type": "code",
      "metadata": {
        "colab": {
          "base_uri": "https://localhost:8080/"
        },
        "id": "xpHljfWT8gBa",
        "outputId": "bc134ee7-f26f-4c4c-c6fe-4d24ef358dac"
      },
      "source": [
        "!pip install wordcloud"
      ],
      "execution_count": 17,
      "outputs": [
        {
          "output_type": "stream",
          "text": [
            "Requirement already satisfied: wordcloud in /usr/local/lib/python3.7/dist-packages (1.5.0)\n",
            "Requirement already satisfied: pillow in /usr/local/lib/python3.7/dist-packages (from wordcloud) (7.1.2)\n",
            "Requirement already satisfied: numpy>=1.6.1 in /usr/local/lib/python3.7/dist-packages (from wordcloud) (1.19.5)\n"
          ],
          "name": "stdout"
        }
      ]
    },
    {
      "cell_type": "code",
      "metadata": {
        "id": "UwlibhqRurNj"
      },
      "source": [
        "from wordcloud import WordCloud\n",
        "import matplotlib.pyplot as plt"
      ],
      "execution_count": 18,
      "outputs": []
    },
    {
      "cell_type": "code",
      "metadata": {
        "id": "hHC6fISYwspH",
        "colab": {
          "base_uri": "https://localhost:8080/"
        },
        "outputId": "fe202282-71e2-41ae-c72d-f82207808dc5"
      },
      "source": [
        "text_combined = ''\n",
        "  \n",
        "for i in response_json['articles']:\n",
        "      \n",
        "    if i['description'] != None:\n",
        "        text_combined += i['description'] + ' '\n",
        "          \n",
        "wordcount={}\n",
        "for word in text_combined.split():\n",
        "    if word not in wordcount:\n",
        "        wordcount[word] = 1\n",
        "    else:\n",
        "        wordcount[word] += 1\n",
        "  \n",
        "for k,v, in sorted(wordcount.items(),\n",
        "                   key=lambda words: words[1], \n",
        "                   reverse = True):\n",
        "    print(k,v)"
      ],
      "execution_count": 19,
      "outputs": [
        {
          "output_type": "stream",
          "text": [
            "the 28\n",
            "to 23\n",
            "a 14\n",
            "and 14\n",
            "COVID-19 13\n",
            "of 12\n",
            "it 10\n",
            "is 9\n",
            "that 7\n",
            "can 7\n",
            "in 7\n",
            "vaccination 6\n",
            "vaccine 6\n",
            "for 6\n",
            "with 5\n",
            "COVID 5\n",
            "are 5\n",
            "have 5\n",
            "about 5\n",
            "The 5\n",
            "on 5\n",
            "health 4\n",
            "from 4\n",
            "its 4\n",
            "Apple 4\n",
            "has 4\n",
            "who 4\n",
            "people 3\n",
            "We 3\n",
            "help 3\n",
            "you 3\n",
            "how 3\n",
            "or 3\n",
            "at 3\n",
            "they 3\n",
            "be 3\n",
            "US 3\n",
            "but 3\n",
            "new 3\n",
            "first 3\n",
            "digital 2\n",
            "we 2\n",
            "spring 2\n",
            "starting 2\n",
            "some 2\n",
            "getting 2\n",
            "little 2\n",
            "sites. 2\n",
            "find 2\n",
            "given 2\n",
            "into 2\n",
            "today 2\n",
            "their 2\n",
            "If 2\n",
            "added 2\n",
            "locations 2\n",
            "Facebook 2\n",
            "Google 2\n",
            "travelers 2\n",
            "verified 2\n",
            "those 2\n",
            "travel 2\n",
            "In 2\n",
            "without 2\n",
            "Covid 2\n",
            "go 2\n",
            "track 2\n",
            "gave 2\n",
            "could 2\n",
            "released 2\n",
            "been 2\n",
            "plan 2\n",
            "state 2\n",
            "levels 2\n",
            "experience 2\n",
            "DoorDash 1\n",
            "partnering 1\n",
            "two 1\n",
            "companies 1\n",
            "allow 1\n",
            "order 1\n",
            "tests 1\n",
            "directly 1\n",
            "app. 1\n",
            "did 1\n",
            "it: 1\n",
            "made 1\n",
            "through 1\n",
            "long 1\n",
            "winter. 1\n",
            "And 1\n",
            "now 1\n",
            "here, 1\n",
            "we’re 1\n",
            "see 1\n",
            "changes. 1\n",
            "It’s 1\n",
            "warmer 1\n",
            "outside, 1\n",
            "flowers 1\n",
            "bloom, 1\n",
            "fire 1\n",
            "ant 1\n",
            "season 1\n",
            "upon 1\n",
            "us. 1\n",
            "Along 1\n",
            "fall, 1\n",
            "spring… 1\n",
            "Anyone 1\n",
            "donate 1\n",
            "cover 1\n",
            "cost 1\n",
            "rides 1\n",
            "While 1\n",
            "can’t 1\n",
            "appointment—good 1\n",
            "luck, 1\n",
            "terribly 1\n",
            "we’ve 1\n",
            "orchestrated 1\n",
            "process 1\n",
            "turned 1\n",
            "kind 1\n",
            "free-for-all 1\n",
            "reminiscent 1\n",
            "buying 1\n",
            "concert 1\n",
            "tickets, 1\n",
            "shoes, 1\n",
            "GeForce 1\n",
            "3080 1\n",
            "cards—we 1\n",
            "least 1\n",
            "give 1\n",
            "useful… 1\n",
            "Pfizer 1\n",
            "BioNTech 1\n",
            "announced 1\n",
            "completed 1\n",
            "phase 1\n",
            "3 1\n",
            "trial 1\n",
            "children 1\n",
            "aged 1\n",
            "12 1\n",
            "15, 1\n",
            "so 1\n",
            "far 1\n",
            "seems 1\n",
            "100% 1\n",
            "effective 1\n",
            "age 1\n",
            "group. 1\n",
            "FDA 1\n",
            "agrees 1\n",
            "safe 1\n",
            "effective, 1\n",
            "mig… 1\n",
            "Maps. 1\n",
            "expanding 1\n",
            "Information 1\n",
            "Center 1\n",
            "VaccineFinder, 1\n",
            "way 1\n",
            "message 1\n",
            "local 1\n",
            "pharmacies 1\n",
            "vaccines. 1\n",
            "frozen 1\n",
            "page 1\n",
            "Venezuela 1\n",
            "president 1\n",
            "Maduro 1\n",
            "month 1\n",
            "posting 1\n",
            "misinformation. 1\n",
            "Starting 1\n",
            "today, 1\n",
            "use 1\n",
            "Maps 1\n",
            "nearby 1\n",
            "software 1\n",
            "allows 1\n",
            "airline 1\n",
            "store 1\n",
            "test 1\n",
            "results 1\n",
            "certificates 1\n",
            "phones. 1\n",
            "adding 1\n",
            "small 1\n",
            "handy 1\n",
            "feature 1\n",
            "need 1\n",
            "during 1\n",
            "pandemic. 1\n",
            "Covid-19 1\n",
            "testing 1\n",
            "decline. 1\n",
            "That’s 1\n",
            "problem. 1\n",
            "countries 1\n",
            "much 1\n",
            "sequencing, 1\n",
            "versions 1\n",
            "virus 1\n",
            "unnoticed. 1\n",
            "Scientists 1\n",
            "across 1\n",
            "Africa 1\n",
            "collaborating 1\n",
            "them 1\n",
            "down. 1\n",
            "Bats 1\n",
            "likely 1\n",
            "mystery 1\n",
            "animal 1\n",
            "then 1\n",
            "people. 1\n",
            "passed 1\n",
            "minks. 1\n",
            "Where 1\n",
            "does 1\n",
            "there—and 1\n",
            "come 1\n",
            "back 1\n",
            "us? 1\n",
            "People 1\n",
            "leaving 1\n",
            "reviews 1\n",
            "sites, 1\n",
            "very 1\n",
            "earnest 1\n",
            "heartwarming. 1\n",
            "AstraZeneca 1\n",
            "data 1\n",
            "after 1\n",
            "officials 1\n",
            "rebuked 1\n",
            "press 1\n",
            "release. 1\n",
            "company 1\n",
            "incomplete 1\n",
            "data. 1\n",
            "appears 1\n",
            "effective. 1\n",
            "Screen-fatigued 1\n",
            "parents 1\n",
            "considering 1\n",
            "an 1\n",
            "education 1\n",
            "option 1\n",
            "once 1\n",
            "seemed 1\n",
            "possible 1\n",
            "only 1\n",
            "rarefied 1\n",
            "circles. 1\n",
            "you’re 1\n",
            "one 1\n",
            "millions 1\n",
            "adults 1\n",
            "avoid 1\n",
            "needles 1\n",
            "all 1\n",
            "costs, 1\n",
            "might 1\n",
            "straight-up 1\n",
            "dreading 1\n",
            "your 1\n",
            "vaccine. 1\n",
            "Unfortunately, 1\n",
            "best 1\n",
            "action 1\n",
            "get 1\n",
            "over 1\n",
            "with. 1\n",
            "It 1\n",
            "won’t 1\n",
            "fun 1\n",
            "even 1\n",
            "painless, 1\n",
            "preparation,… 1\n",
            "US, 1\n",
            "great 1\n",
            "joy 1\n",
            "co-exists 1\n",
            "deep 1\n",
            "worries 1\n",
            "current 1\n",
            "pandemic, 1\n",
            "as 1\n",
            "vaccinations 1\n",
            "increase, 1\n",
            "case 1\n",
            "counts 1\n",
            "rise. 1\n",
            "CDC 1\n",
            "issued 1\n",
            "guidance 1\n",
            "fully 1\n",
            "vaccinated. 1\n",
            "They 1\n",
            "safely 1\n",
            "within 1\n",
            "self-quarantining 1\n",
            "taking 1\n",
            "tests. 1\n",
            "Monitoring 1\n",
            "carbon 1\n",
            "dioxide 1\n",
            "indoor 1\n",
            "spaces 1\n",
            "well-ventilated 1\n",
            "are. 1\n",
            "Improving 1\n",
            "ventilation 1\n",
            "make 1\n",
            "rooms 1\n",
            "less 1\n",
            "risky 1\n",
            "while 1\n",
            "high. 1\n",
            "More 1\n",
            "details 1\n",
            "emerged 1\n",
            "European 1\n",
            "Commission’s 1\n",
            "legislative 1\n",
            "proposal 1\n",
            "pan-EU 1\n",
            "‘digital 1\n",
            "green 1\n",
            "pass’ 1\n",
            "show 1\n",
            "status. 1\n",
            "controversial 1\n",
            "human 1\n",
            "rights 1\n",
            "civil 1\n",
            "liberties 1\n",
            "perspective, 1\n",
            "clear 1\n",
            "risk 1\n",
            "dis… 1\n",
            "Some 1\n",
            "contract 1\n",
            "coronavirus 1\n",
            "lingering, 1\n",
            "debilitating 1\n",
            "issues. 1\n",
            "look 1\n",
            "disease 1\n",
            "long-term 1\n",
            "effects 1\n",
            "brain. 1\n",
            "New 1\n",
            "York 1\n",
            "launched 1\n",
            "US' 1\n",
            "passports 1\n",
            "form 1\n",
            "mostly 1\n",
            "Excelsior 1\n",
            "Pass, 1\n",
            "it's 1\n",
            "bound 1\n",
            "stir 1\n",
            "ethical 1\n",
            "debates. 1\n",
            "Univision 1\n",
            "will 1\n",
            "create 1\n",
            "bilingual 1\n",
            "videos 1\n",
            "combat 1\n",
            "misinformation 1\n",
            "among 1\n",
            "Hispanic 1\n",
            "residents 1\n",
            "US. 1\n",
            "Mashable's 1\n",
            "Rachel 1\n",
            "Kraus 1\n",
            "dives 1\n",
            "her 1\n",
            "own 1\n",
            "— 1\n",
            "what 1\n",
            "she 1\n",
            "learned 1\n",
            "our 1\n",
            "public 1\n",
            "system 1\n",
            "along 1\n",
            "way. 1\n",
            "For 1\n",
            "full 1\n",
            "article, 1\n",
            "click 1\n",
            "here. 1\n",
            "Read 1\n",
            "more...More 1\n",
            "Mashable 1\n",
            "Video, 1\n",
            "Vaccine, 1\n",
            "Pandemic, 1\n",
            "19, 1\n",
            "Vaccin… 1\n"
          ],
          "name": "stdout"
        }
      ]
    },
    {
      "cell_type": "code",
      "metadata": {
        "id": "WD9Kr1E-w2Xb"
      },
      "source": [
        "# initializing bad_chars_list \n",
        "stop_words = [\"a\", \"the\" , \"of\", \"in\", \"to\", \"and\", \"on\", \"de\", \"with\", \n",
        "             \"by\", \"at\", \"dans\", \"ont\", \"été\", \"les\", \"des\", \"au\", \"et\", \n",
        "             \"après\", \"avec\", \"qui\", \"par\", \"leurs\", \"ils\", \"a\", \"pour\", \n",
        "             \"les\", \"on\", \"as\", \"france\", \"eux\", \"où\", \"son\", \"le\", \"la\",\n",
        "             \"en\", \"with\", \"is\", \"has\", \"for\", \"that\", \"an\", \"but\", \"be\", \n",
        "             \"are\", \"du\", \"it\", \"à\", \"had\", \"ist\", \"Der\", \"um\", \"zu\", \"den\", \n",
        "             \"der\", \"-\", \"und\", \"für\", \"Die\", \"von\", \"als\",\n",
        "             \"sich\", \"nicht\", \"nach\", \"auch\"  ]"
      ],
      "execution_count": 20,
      "outputs": []
    },
    {
      "cell_type": "code",
      "metadata": {
        "id": "K3KWWhbHw8FT",
        "colab": {
          "base_uri": "https://localhost:8080/"
        },
        "outputId": "a1a664fa-eff0-4ee7-b241-34a02138d283"
      },
      "source": [
        "r = text_combined.replace('\\s+',' ').replace(',', ' ').replace('.',' ')\n",
        "words = r.split()\n",
        "rst = [word for word in words if \n",
        "       ( word.lower() not in stop_words \n",
        "        and len(word) > 3) ]\n",
        "  \n",
        "rst = ' '.join(rst)\n",
        "   \n",
        "wordcount={}\n",
        "  \n",
        "for word in rst.split():\n",
        "      \n",
        "    if word not in wordcount:\n",
        "        wordcount[word] = 1\n",
        "    else:\n",
        "        wordcount[word] += 1\n",
        "   \n",
        "for k,v, in sorted(wordcount.items(),\n",
        "                   key=lambda words: words[1],\n",
        "                   reverse = True):\n",
        "    print(k,v)"
      ],
      "execution_count": 21,
      "outputs": [
        {
          "output_type": "stream",
          "text": [
            "COVID-19 13\n",
            "vaccine 7\n",
            "vaccination 6\n",
            "COVID 5\n",
            "have 5\n",
            "about 5\n",
            "health 4\n",
            "people 4\n",
            "from 4\n",
            "Apple 4\n",
            "help 3\n",
            "sites 3\n",
            "today 3\n",
            "they 3\n",
            "effective 3\n",
            "first 3\n",
            "digital 2\n",
            "tests 2\n",
            "spring 2\n",
            "here 2\n",
            "starting 2\n",
            "some 2\n",
            "getting 2\n",
            "little 2\n",
            "find 2\n",
            "given 2\n",
            "into 2\n",
            "their 2\n",
            "added 2\n",
            "locations 2\n",
            "Maps 2\n",
            "Facebook 2\n",
            "Google 2\n",
            "misinformation 2\n",
            "travelers 2\n",
            "verified 2\n",
            "those 2\n",
            "travel 2\n",
            "pandemic 2\n",
            "without 2\n",
            "Covid 2\n",
            "track 2\n",
            "gave 2\n",
            "could 2\n",
            "released 2\n",
            "data 2\n",
            "been 2\n",
            "plan 2\n",
            "state 2\n",
            "levels 2\n",
            "More 2\n",
            "experience 2\n",
            "DoorDash 1\n",
            "partnering 1\n",
            "companies 1\n",
            "allow 1\n",
            "order 1\n",
            "directly 1\n",
            "made 1\n",
            "through 1\n",
            "long 1\n",
            "winter 1\n",
            "we’re 1\n",
            "changes 1\n",
            "It’s 1\n",
            "warmer 1\n",
            "outside 1\n",
            "flowers 1\n",
            "bloom 1\n",
            "fire 1\n",
            "season 1\n",
            "upon 1\n",
            "Along 1\n",
            "fall 1\n",
            "spring… 1\n",
            "Anyone 1\n",
            "donate 1\n",
            "cover 1\n",
            "cost 1\n",
            "rides 1\n",
            "While 1\n",
            "can’t 1\n",
            "appointment—good 1\n",
            "luck 1\n",
            "terribly 1\n",
            "we’ve 1\n",
            "orchestrated 1\n",
            "process 1\n",
            "turned 1\n",
            "kind 1\n",
            "free-for-all 1\n",
            "reminiscent 1\n",
            "buying 1\n",
            "concert 1\n",
            "tickets 1\n",
            "shoes 1\n",
            "GeForce 1\n",
            "3080 1\n",
            "cards—we 1\n",
            "least 1\n",
            "give 1\n",
            "useful… 1\n",
            "Pfizer 1\n",
            "BioNTech 1\n",
            "announced 1\n",
            "completed 1\n",
            "phase 1\n",
            "trial 1\n",
            "children 1\n",
            "aged 1\n",
            "seems 1\n",
            "100% 1\n",
            "group 1\n",
            "agrees 1\n",
            "safe 1\n",
            "mig… 1\n",
            "expanding 1\n",
            "Information 1\n",
            "Center 1\n",
            "VaccineFinder 1\n",
            "message 1\n",
            "local 1\n",
            "pharmacies 1\n",
            "vaccines 1\n",
            "frozen 1\n",
            "page 1\n",
            "Venezuela 1\n",
            "president 1\n",
            "Maduro 1\n",
            "month 1\n",
            "posting 1\n",
            "Starting 1\n",
            "nearby 1\n",
            "software 1\n",
            "allows 1\n",
            "airline 1\n",
            "store 1\n",
            "test 1\n",
            "results 1\n",
            "certificates 1\n",
            "phones 1\n",
            "adding 1\n",
            "small 1\n",
            "handy 1\n",
            "feature 1\n",
            "need 1\n",
            "during 1\n",
            "Covid-19 1\n",
            "testing 1\n",
            "decline 1\n",
            "That’s 1\n",
            "problem 1\n",
            "countries 1\n",
            "much 1\n",
            "sequencing 1\n",
            "versions 1\n",
            "virus 1\n",
            "unnoticed 1\n",
            "Scientists 1\n",
            "across 1\n",
            "Africa 1\n",
            "collaborating 1\n",
            "them 1\n",
            "down 1\n",
            "Bats 1\n",
            "likely 1\n",
            "mystery 1\n",
            "animal 1\n",
            "then 1\n",
            "passed 1\n",
            "minks 1\n",
            "Where 1\n",
            "does 1\n",
            "there—and 1\n",
            "come 1\n",
            "back 1\n",
            "People 1\n",
            "leaving 1\n",
            "reviews 1\n",
            "very 1\n",
            "earnest 1\n",
            "heartwarming 1\n",
            "AstraZeneca 1\n",
            "after 1\n",
            "officials 1\n",
            "rebuked 1\n",
            "press 1\n",
            "release 1\n",
            "company 1\n",
            "incomplete 1\n",
            "appears 1\n",
            "Screen-fatigued 1\n",
            "parents 1\n",
            "considering 1\n",
            "education 1\n",
            "option 1\n",
            "once 1\n",
            "seemed 1\n",
            "possible 1\n",
            "only 1\n",
            "rarefied 1\n",
            "circles 1\n",
            "you’re 1\n",
            "millions 1\n",
            "adults 1\n",
            "avoid 1\n",
            "needles 1\n",
            "costs 1\n",
            "might 1\n",
            "straight-up 1\n",
            "dreading 1\n",
            "your 1\n",
            "Unfortunately 1\n",
            "best 1\n",
            "action 1\n",
            "over 1\n",
            "won’t 1\n",
            "even 1\n",
            "painless 1\n",
            "preparation 1\n",
            "great 1\n",
            "co-exists 1\n",
            "deep 1\n",
            "worries 1\n",
            "current 1\n",
            "vaccinations 1\n",
            "increase 1\n",
            "case 1\n",
            "counts 1\n",
            "rise 1\n",
            "issued 1\n",
            "guidance 1\n",
            "fully 1\n",
            "vaccinated 1\n",
            "They 1\n",
            "safely 1\n",
            "within 1\n",
            "self-quarantining 1\n",
            "taking 1\n",
            "Monitoring 1\n",
            "carbon 1\n",
            "dioxide 1\n",
            "indoor 1\n",
            "spaces 1\n",
            "well-ventilated 1\n",
            "Improving 1\n",
            "ventilation 1\n",
            "make 1\n",
            "rooms 1\n",
            "less 1\n",
            "risky 1\n",
            "while 1\n",
            "high 1\n",
            "details 1\n",
            "emerged 1\n",
            "European 1\n",
            "Commission’s 1\n",
            "legislative 1\n",
            "proposal 1\n",
            "pan-EU 1\n",
            "‘digital 1\n",
            "green 1\n",
            "pass’ 1\n",
            "show 1\n",
            "status 1\n",
            "controversial 1\n",
            "human 1\n",
            "rights 1\n",
            "civil 1\n",
            "liberties 1\n",
            "perspective 1\n",
            "clear 1\n",
            "risk 1\n",
            "dis… 1\n",
            "Some 1\n",
            "contract 1\n",
            "coronavirus 1\n",
            "lingering 1\n",
            "debilitating 1\n",
            "issues 1\n",
            "look 1\n",
            "disease 1\n",
            "long-term 1\n",
            "effects 1\n",
            "brain 1\n",
            "York 1\n",
            "launched 1\n",
            "passports 1\n",
            "form 1\n",
            "mostly 1\n",
            "Excelsior 1\n",
            "Pass 1\n",
            "it's 1\n",
            "bound 1\n",
            "stir 1\n",
            "ethical 1\n",
            "debates 1\n",
            "Univision 1\n",
            "will 1\n",
            "create 1\n",
            "bilingual 1\n",
            "videos 1\n",
            "combat 1\n",
            "among 1\n",
            "Hispanic 1\n",
            "residents 1\n",
            "Mashable's 1\n",
            "Rachel 1\n",
            "Kraus 1\n",
            "dives 1\n",
            "what 1\n",
            "learned 1\n",
            "public 1\n",
            "system 1\n",
            "along 1\n",
            "full 1\n",
            "article 1\n",
            "click 1\n",
            "Read 1\n",
            "more 1\n",
            "Mashable 1\n",
            "Video 1\n",
            "Vaccine 1\n",
            "Pandemic 1\n",
            "Vaccin… 1\n"
          ],
          "name": "stdout"
        }
      ]
    },
    {
      "cell_type": "markdown",
      "metadata": {
        "id": "1qp_y-fjxSAD"
      },
      "source": [
        "## plotting the word cloud"
      ]
    },
    {
      "cell_type": "code",
      "metadata": {
        "colab": {
          "base_uri": "https://localhost:8080/",
          "height": 198
        },
        "id": "c7Ph14AuxJj3",
        "outputId": "9696d9bd-0389-4c0e-fed9-8d1c750141d3"
      },
      "source": [
        "word = WordCloud(max_font_size = 40).generate(rst)\n",
        "plt.figure()\n",
        "plt.imshow(word, interpolation =\"bilinear\")\n",
        "plt.axis(\"off\")\n",
        "plt.show()"
      ],
      "execution_count": 22,
      "outputs": [
        {
          "output_type": "display_data",
          "data": {
            "image/png": "[encoded data removed]",
            "text/plain": [
              "<Figure size 432x288 with 1 Axes>"
            ]
          },
          "metadata": {
            "tags": [],
            "needs_background": "light"
          }
        }
      ]
    },
    {
      "cell_type": "code",
      "metadata": {
        "colab": {
          "base_uri": "https://localhost:8080/",
          "height": 198
        },
        "id": "dAwAG46qxLCX",
        "outputId": "64331945-b5e9-4ea3-cd46-3dba41540731"
      },
      "source": [
        "title_combined = ''\n",
        "  \n",
        "for i in response_json['articles']:\n",
        "    title_combined += i['title'] + ' '\n",
        "      \n",
        "titles = title_combined.replace('\\s+',' ').replace(',',' ').replace('.',' ')\n",
        "words_t = titles.split()\n",
        "result = [word for word in words_t if\n",
        "          ( word.lower() not in stop_words and\n",
        "           len(word) > 3) ]\n",
        "  \n",
        "result = ' '.join(result)\n",
        "   \n",
        "wordcount={}\n",
        "  \n",
        "for word in result.split():\n",
        "      \n",
        "    if word not in wordcount:\n",
        "        wordcount[word] = 1\n",
        "    else:\n",
        "        wordcount[word] += 1\n",
        "  \n",
        "word = WordCloud(max_font_size=40).generate(result)\n",
        "plt.figure()\n",
        "plt.imshow(word, interpolation=\"bilinear\")\n",
        "plt.axis(\"off\")\n",
        "plt.show()"
      ],
      "execution_count": 23,
      "outputs": [
        {
          "output_type": "display_data",
          "data": {
            "image/png": "[encoded data removed]",
            "text/plain": [
              "<Figure size 432x288 with 1 Axes>"
            ]
          },
          "metadata": {
            "tags": [],
            "needs_background": "light"
          }
        }
      ]
    },
    {
      "cell_type": "markdown",
      "metadata": {
        "id": "earwS5-LyBFx"
      },
      "source": [
        "# Newspaper Article summarizer"
      ]
    },
    {
      "cell_type": "code",
      "metadata": {
        "colab": {
          "base_uri": "https://localhost:8080/"
        },
        "id": "hWk9TsKxxcr2",
        "outputId": "35dab774-1080-4491-f5f4-ea77a11c6c28"
      },
      "source": [
        "!pip install newspaper3k"
      ],
      "execution_count": 24,
      "outputs": [
        {
          "output_type": "stream",
          "text": [
            "Collecting newspaper3k\n",
            "\u001b[?25l  Downloading https://files.pythonhosted.org/packages/d7/b9/51afecb35bb61b188a4b44868001de348a0e8134b4dfa00ffc191567c4b9/newspaper3k-0.2.8-py3-none-any.whl (211kB)\n",
            "\u001b[K     |████████████████████████████████| 215kB 4.9MB/s \n",
            "\u001b[?25hCollecting feedparser>=5.2.1\n",
            "\u001b[?25l  Downloading https://files.pythonhosted.org/packages/1c/21/faf1bac028662cc8adb2b5ef7a6f3999a765baa2835331df365289b0ca56/feedparser-6.0.2-py3-none-any.whl (80kB)\n",
            "\u001b[K     |████████████████████████████████| 81kB 4.2MB/s \n",
            "\u001b[?25hRequirement already satisfied: python-dateutil>=2.5.3 in /usr/local/lib/python3.7/dist-packages (from newspaper3k) (2.8.1)\n",
            "Requirement already satisfied: nltk>=3.2.1 in /usr/local/lib/python3.7/dist-packages (from newspaper3k) (3.2.5)\n",
            "Requirement already satisfied: Pillow>=3.3.0 in /usr/local/lib/python3.7/dist-packages (from newspaper3k) (7.1.2)\n",
            "Requirement already satisfied: PyYAML>=3.11 in /usr/local/lib/python3.7/dist-packages (from newspaper3k) (3.13)\n",
            "Requirement already satisfied: beautifulsoup4>=4.4.1 in /usr/local/lib/python3.7/dist-packages (from newspaper3k) (4.6.3)\n",
            "Requirement already satisfied: lxml>=3.6.0 in /usr/local/lib/python3.7/dist-packages (from newspaper3k) (4.2.6)\n",
            "Collecting tinysegmenter==0.3\n",
            "  Downloading https://files.pythonhosted.org/packages/17/82/86982e4b6d16e4febc79c2a1d68ee3b707e8a020c5d2bc4af8052d0f136a/tinysegmenter-0.3.tar.gz\n",
            "Requirement already satisfied: requests>=2.10.0 in /usr/local/lib/python3.7/dist-packages (from newspaper3k) (2.23.0)\n",
            "Collecting jieba3k>=0.35.1\n",
            "\u001b[?25l  Downloading https://files.pythonhosted.org/packages/a9/cb/2c8332bcdc14d33b0bedd18ae0a4981a069c3513e445120da3c3f23a8aaa/jieba3k-0.35.1.zip (7.4MB)\n",
            "\u001b[K     |████████████████████████████████| 7.4MB 7.2MB/s \n",
            "\u001b[?25hRequirement already satisfied: cssselect>=0.9.2 in /usr/local/lib/python3.7/dist-packages (from newspaper3k) (1.1.0)\n",
            "Collecting feedfinder2>=0.0.4\n",
            "  Downloading https://files.pythonhosted.org/packages/35/82/1251fefec3bb4b03fd966c7e7f7a41c9fc2bb00d823a34c13f847fd61406/feedfinder2-0.0.4.tar.gz\n",
            "Collecting tldextract>=2.0.1\n",
            "\u001b[?25l  Downloading https://files.pythonhosted.org/packages/7e/62/b6acd3129c5615b9860e670df07fd55b76175b63e6b7f68282c7cad38e9e/tldextract-3.1.0-py2.py3-none-any.whl (87kB)\n",
            "\u001b[K     |████████████████████████████████| 92kB 5.6MB/s \n",
            "\u001b[?25hCollecting sgmllib3k\n",
            "  Downloading https://files.pythonhosted.org/packages/9e/bd/3704a8c3e0942d711c1299ebf7b9091930adae6675d7c8f476a7ce48653c/sgmllib3k-1.0.0.tar.gz\n",
            "Requirement already satisfied: six>=1.5 in /usr/local/lib/python3.7/dist-packages (from python-dateutil>=2.5.3->newspaper3k) (1.15.0)\n",
            "Requirement already satisfied: idna<3,>=2.5 in /usr/local/lib/python3.7/dist-packages (from requests>=2.10.0->newspaper3k) (2.10)\n",
            "Requirement already satisfied: certifi>=2017.4.17 in /usr/local/lib/python3.7/dist-packages (from requests>=2.10.0->newspaper3k) (2020.12.5)\n",
            "Requirement already satisfied: urllib3!=1.25.0,!=1.25.1,<1.26,>=1.21.1 in /usr/local/lib/python3.7/dist-packages (from requests>=2.10.0->newspaper3k) (1.24.3)\n",
            "Requirement already satisfied: chardet<4,>=3.0.2 in /usr/local/lib/python3.7/dist-packages (from requests>=2.10.0->newspaper3k) (3.0.4)\n",
            "Collecting requests-file>=1.4\n",
            "  Downloading https://files.pythonhosted.org/packages/77/86/cdb5e8eaed90796aa83a6d9f75cfbd37af553c47a291cd47bc410ef9bdb2/requests_file-1.5.1-py2.py3-none-any.whl\n",
            "Requirement already satisfied: filelock>=3.0.8 in /usr/local/lib/python3.7/dist-packages (from tldextract>=2.0.1->newspaper3k) (3.0.12)\n",
            "Building wheels for collected packages: tinysegmenter, jieba3k, feedfinder2, sgmllib3k\n",
            "  Building wheel for tinysegmenter (setup.py) ... \u001b[?25l\u001b[?25hdone\n",
            "  Created wheel for tinysegmenter: filename=tinysegmenter-0.3-cp37-none-any.whl size=13538 sha256=7b99f9d298d1f15674bd510dda5b9bb237010995b28022351f88656fd879c8da\n",
            "  Stored in directory: /root/.cache/pip/wheels/81/2b/43/a02ede72324dd40cdd7ca53aad718c7710628e91b8b0dc0f02\n",
            "  Building wheel for jieba3k (setup.py) ... \u001b[?25l\u001b[?25hdone\n",
            "  Created wheel for jieba3k: filename=jieba3k-0.35.1-cp37-none-any.whl size=7398406 sha256=225256c5430a82f991de4f45662a4cd6954381a9d352842e98ba0fa4cfc07a8a\n",
            "  Stored in directory: /root/.cache/pip/wheels/83/15/9c/a3f1f67e7f7181170ad37d32e503c35da20627c013f438ed34\n",
            "  Building wheel for feedfinder2 (setup.py) ... \u001b[?25l\u001b[?25hdone\n",
            "  Created wheel for feedfinder2: filename=feedfinder2-0.0.4-cp37-none-any.whl size=3358 sha256=87d646888a70bb45366f283370b05eabbc34e8eacf2253b33d313ae011a2d2a0\n",
            "  Stored in directory: /root/.cache/pip/wheels/de/03/ca/778e3a7a627e3d98836cc890e7cb40c7575424cfd3340f40ed\n",
            "  Building wheel for sgmllib3k (setup.py) ... \u001b[?25l\u001b[?25hdone\n",
            "  Created wheel for sgmllib3k: filename=sgmllib3k-1.0.0-cp37-none-any.whl size=6067 sha256=4091bb431e0d01faf509f3ba9c35a65099a45333dec48dbd201e7803448af8a3\n",
            "  Stored in directory: /root/.cache/pip/wheels/f1/80/5a/444ba08a550cdd241bd9baf8bae44be750efe370adb944506a\n",
            "Successfully built tinysegmenter jieba3k feedfinder2 sgmllib3k\n",
            "Installing collected packages: sgmllib3k, feedparser, tinysegmenter, jieba3k, feedfinder2, requests-file, tldextract, newspaper3k\n",
            "Successfully installed feedfinder2-0.0.4 feedparser-6.0.2 jieba3k-0.35.1 newspaper3k-0.2.8 requests-file-1.5.1 sgmllib3k-1.0.0 tinysegmenter-0.3 tldextract-3.1.0\n"
          ],
          "name": "stdout"
        }
      ]
    },
    {
      "cell_type": "code",
      "metadata": {
        "id": "07IH3q60yICC"
      },
      "source": [
        "from newspaper import Article\n",
        "\n",
        "# url = \"https://timesofindia.indiatimes.com/india/were-a-data-science-driven-body-that-deals-in-facts-evidence-says-barc/articleshow/78598046.cms\"\n",
        "url = \"https://vineethm.hashnode.dev/iterative-recursion\"\n",
        "article = Article(url, language = \"en\")"
      ],
      "execution_count": 25,
      "outputs": []
    },
    {
      "cell_type": "code",
      "metadata": {
        "id": "uQeSvdN38gBe"
      },
      "source": [
        "# using multi-threading\n",
        "import threading\n",
        "import os"
      ],
      "execution_count": 26,
      "outputs": []
    },
    {
      "cell_type": "code",
      "metadata": {
        "id": "A5w1Jcm88gBe"
      },
      "source": [
        "# to download the article\n",
        "def article_download(article):\n",
        "    article.download()"
      ],
      "execution_count": 27,
      "outputs": []
    },
    {
      "cell_type": "code",
      "metadata": {
        "id": "ZSrXjyL5yf7b"
      },
      "source": [
        "# parse the article\n",
        "def article_parse(article):\n",
        "    article.parse()"
      ],
      "execution_count": 28,
      "outputs": []
    },
    {
      "cell_type": "code",
      "metadata": {
        "colab": {
          "base_uri": "https://localhost:8080/"
        },
        "id": "2Zp30vbyyqdZ",
        "outputId": "86b82552-cf95-48a3-a56c-92e6796a63d3"
      },
      "source": [
        "import nltk\n",
        "nltk.download('punkt')"
      ],
      "execution_count": 36,
      "outputs": [
        {
          "output_type": "stream",
          "text": [
            "[nltk_data] Downloading package punkt to /root/nltk_data...\n",
            "[nltk_data]   Unzipping tokenizers/punkt.zip.\n"
          ],
          "name": "stdout"
        },
        {
          "output_type": "execute_result",
          "data": {
            "text/plain": [
              "True"
            ]
          },
          "metadata": {
            "tags": []
          },
          "execution_count": 36
        }
      ]
    },
    {
      "cell_type": "code",
      "metadata": {
        "id": "9PVEarzfyomT"
      },
      "source": [
        "# perform natural language processing ie..nlp\n",
        "def article_nlp(article):\n",
        "    article.nlp()"
      ],
      "execution_count": 62,
      "outputs": []
    },
    {
      "cell_type": "code",
      "metadata": {
        "id": "MQmYAsNByvR0"
      },
      "source": [
        "# extract title\n",
        "def article_title(article):\n",
        "    return article.title"
      ],
      "execution_count": 63,
      "outputs": []
    },
    {
      "cell_type": "code",
      "metadata": {
        "id": "9oiVeDjEyzas"
      },
      "source": [
        "# extract text\n",
        "def article_text(article):\n",
        "    return article.text"
      ],
      "execution_count": 64,
      "outputs": []
    },
    {
      "cell_type": "code",
      "metadata": {
        "id": "GnPS_DVzy2hH"
      },
      "source": [
        "# extract summary\n",
        "def article_summary(article):\n",
        "    return article.summary"
      ],
      "execution_count": 65,
      "outputs": []
    },
    {
      "cell_type": "code",
      "metadata": {
        "id": "AWsfbPyay4Uz"
      },
      "source": [
        "# extract keywords\n",
        "def article_keywords(article):\n",
        "    return article.keywords"
      ],
      "execution_count": 81,
      "outputs": []
    },
    {
      "cell_type": "code",
      "metadata": {
        "id": "8lgozzAEy51L"
      },
      "source": [
        "# header top image\n",
        "def article_top(article):\n",
        "    return article.top_image"
      ],
      "execution_count": 67,
      "outputs": []
    },
    {
      "cell_type": "code",
      "metadata": {
        "colab": {
          "base_uri": "https://localhost:8080/"
        },
        "id": "bbnuKubO8gBf",
        "outputId": "b4cf1574-0728-44d3-cc2d-9754013ab1a6"
      },
      "source": [
        "# serial implementation\n",
        "import time\n",
        "\n",
        "functions = [article_download, article_parse, article_nlp, article_title, article_text,\n",
        "            article_summary, article_keywords]\n",
        "\n",
        "# sequential execution\n",
        "start_time = time.time()\n",
        "for i in functions:\n",
        "    i(article)\n",
        "end_time = time.time()\n",
        "print(\"Time taken for serial implementation: \", end_time - start_time)"
      ],
      "execution_count": 83,
      "outputs": [
        {
          "output_type": "stream",
          "text": [
            "Time taken for serial implementation:  0.7208518981933594\n"
          ],
          "name": "stdout"
        }
      ]
    },
    {
      "cell_type": "code",
      "metadata": {
        "colab": {
          "base_uri": "https://localhost:8080/"
        },
        "id": "ldAmgJOv8gBg",
        "outputId": "b4a32089-db77-43d4-d96c-f71cc2df9356"
      },
      "source": [
        "!pip install pymp-pypi"
      ],
      "execution_count": 38,
      "outputs": [
        {
          "output_type": "stream",
          "text": [
            "Collecting pymp-pypi\n",
            "  Downloading https://files.pythonhosted.org/packages/e9/ff/8ec07d0c901d4161012ae505d47b459dd30d5112b8ba4abca33811e62243/pymp_pypi-0.4.3-py3-none-any.whl\n",
            "Installing collected packages: pymp-pypi\n",
            "Successfully installed pymp-pypi-0.4.3\n"
          ],
          "name": "stdout"
        }
      ]
    },
    {
      "cell_type": "code",
      "metadata": {
        "colab": {
          "base_uri": "https://localhost:8080/"
        },
        "id": "I_7Oq9DL8gBg",
        "outputId": "75951fe7-9b6e-46ed-cc83-f87378eaeeb8"
      },
      "source": [
        "# checking for the number of cores\n",
        "import pymp\n",
        "\n",
        "with pymp.Parallel() as p:\n",
        "    p.print(p.num_threads, p.thread_num)"
      ],
      "execution_count": 39,
      "outputs": [
        {
          "output_type": "stream",
          "text": [
            "2 0\n",
            "2 1\n"
          ],
          "name": "stdout"
        }
      ]
    },
    {
      "cell_type": "code",
      "metadata": {
        "id": "QfudIQSR-IaM"
      },
      "source": [
        "import warnings\n",
        "warnings.filterwarnings('ignore')"
      ],
      "execution_count": 41,
      "outputs": []
    },
    {
      "cell_type": "code",
      "metadata": {
        "colab": {
          "base_uri": "https://localhost:8080/"
        },
        "id": "4HHIKfmeBXJT",
        "outputId": "b85fae07-b58b-4010-b47a-de716b99756e"
      },
      "source": [
        "# parallel implementation\n",
        "from threading import Thread\n",
        "from joblib import Parallel, delayed\n",
        "\n",
        "total_threads = 7\n",
        "threads = [None] * total_threads\n",
        "\n",
        "start_time = time.time()\n",
        "# serial calling of first 2 functions\n",
        "\n",
        "for i in range(total_threads):\n",
        "    print(\"spawning thread\")\n",
        "    threads[i] = Thread(target = functions[i], args = (article,))\n",
        "    threads[i].start()\n",
        "\n",
        "end_time = time.time()\n",
        "print(\"Time taken for parallel implementation: \", end_time - start_time)"
      ],
      "execution_count": 84,
      "outputs": [
        {
          "output_type": "stream",
          "text": [
            "spawning thread\n",
            "spawning thread\n",
            "spawning thread\n",
            "spawning thread\n",
            "spawning thread\n",
            "spawning thread\n",
            "spawning thread\n",
            "Time taken for parallel implementation:  0.03056192398071289\n"
          ],
          "name": "stdout"
        }
      ]
    },
    {
      "cell_type": "markdown",
      "metadata": {
        "id": "74k2kBoW0o2_"
      },
      "source": [
        "Links for multi-threaded download: https://newspaper.readthedocs.io/en/latest/user_guide/advanced.html#multi-threading-article-downloads"
      ]
    }
  ]
}
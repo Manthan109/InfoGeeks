{
 "cells": [
  {
   "cell_type": "code",
   "execution_count": 24,
   "metadata": {},
   "outputs": [
    {
     "name": "stdout",
     "output_type": "stream",
     "text": [
      "Note: you may need to restart the kernel to use updated packages.Collecting tweepy\n",
      "\n",
      "  Downloading tweepy-3.10.0-py2.py3-none-any.whl (30 kB)\n",
      "Collecting requests-oauthlib>=0.7.0\n",
      "  Downloading requests_oauthlib-1.3.0-py2.py3-none-any.whl (23 kB)\n",
      "Requirement already satisfied: six>=1.10.0 in c:\\users\\agarw\\anaconda3\\lib\\site-packages (from tweepy) (1.15.0)\n",
      "Requirement already satisfied: requests[socks]>=2.11.1 in c:\\users\\agarw\\anaconda3\\lib\\site-packages (from tweepy) (2.24.0)\n",
      "Collecting oauthlib>=3.0.0\n",
      "  Downloading oauthlib-3.1.0-py2.py3-none-any.whl (147 kB)\n",
      "Requirement already satisfied: certifi>=2017.4.17 in c:\\users\\agarw\\anaconda3\\lib\\site-packages (from requests[socks]>=2.11.1->tweepy) (2020.6.20)\n",
      "Requirement already satisfied: urllib3!=1.25.0,!=1.25.1,<1.26,>=1.21.1 in c:\\users\\agarw\\anaconda3\\lib\\site-packages (from requests[socks]>=2.11.1->tweepy) (1.25.9)\n",
      "Requirement already satisfied: idna<3,>=2.5 in c:\\users\\agarw\\anaconda3\\lib\\site-packages (from requests[socks]>=2.11.1->tweepy) (2.10)\n",
      "Requirement already satisfied: chardet<4,>=3.0.2 in c:\\users\\agarw\\anaconda3\\lib\\site-packages (from requests[socks]>=2.11.1->tweepy) (3.0.4)\n",
      "Requirement already satisfied: PySocks!=1.5.7,>=1.5.6; extra == \"socks\" in c:\\users\\agarw\\anaconda3\\lib\\site-packages (from requests[socks]>=2.11.1->tweepy) (1.7.1)\n",
      "Installing collected packages: oauthlib, requests-oauthlib, tweepy\n",
      "Successfully installed oauthlib-3.1.0 requests-oauthlib-1.3.0 tweepy-3.10.0\n"
     ]
    }
   ],
   "source": [
    "%pip install tweepy\n"
   ]
  },
  {
   "cell_type": "code",
   "execution_count": 2,
   "metadata": {},
   "outputs": [],
   "source": [
    "import tweepy"
   ]
  },
  {
   "cell_type": "code",
   "execution_count": 11,
   "metadata": {},
   "outputs": [],
   "source": [
    "auth = tweepy.OAuthHandler(consumer_key='',consumer_secret='')\n",
    "\n",
    "api = tweepy.API(auth)\n",
    "\n",
    "def twitter_call(query, language, tweetcount):\n",
    "    for tweet in tweepy.Cursor(api.search, q=query, lang=language, tweet_mode='extended' ).items(tweetcount):\n",
    "        print(tweet.full_text)\n",
    "        print('Username-'+ tweet.user.screen_name + '\\nFrom- ' + tweet.user.location)\n",
    "        \n",
    "    \n"
   ]
  },
  {
   "cell_type": "code",
   "execution_count": 12,
   "metadata": {},
   "outputs": [
    {
     "name": "stdout",
     "output_type": "stream",
     "text": [
      "RT @OGR_EN: Governments' use of technologies can’t replace other comprehensive measures, and their adoption must consider the risks they po…\n",
      "Username-Societyforthep1\n",
      "From- Islamabad, Pakistan\n",
      "Governments' use of technologies can’t replace other comprehensive measures, and their adoption must consider the risks they pose of further entrenching surveillance and eroding the rule of law. https://t.co/PrGxwrc0RE\n",
      "Username-OGR_EN\n",
      "From- \n",
      "Budgetary decisions are always political, and these documents are a crucial tool for civil society to protect rights and demand justice. https://t.co/nDWLQap8Gd\n",
      "Username-OGR_EN\n",
      "From- \n",
      "Immigration detention is rarely justified and now poses a greater risk to the public given the spread of COVID-19 in ICE facilities. https://t.co/G4aKO1WCrh\n",
      "Username-OGR_EN\n",
      "From- \n"
     ]
    }
   ],
   "source": [
    "twitter_call('pandemic', 'English', 5)"
   ]
  },
  {
   "cell_type": "code",
   "execution_count": null,
   "metadata": {},
   "outputs": [],
   "source": []
  }
 ],
 "metadata": {
  "kernelspec": {
   "display_name": "Python 3",
   "language": "python",
   "name": "python3"
  },
  "language_info": {
   "codemirror_mode": {
    "name": "ipython",
    "version": 3
   },
   "file_extension": ".py",
   "mimetype": "text/x-python",
   "name": "python",
   "nbconvert_exporter": "python",
   "pygments_lexer": "ipython3",
   "version": "3.9.2"
  }
 },
 "nbformat": 4,
 "nbformat_minor": 4
}
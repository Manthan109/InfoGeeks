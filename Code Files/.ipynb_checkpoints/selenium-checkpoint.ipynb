{
 "cells": [
  {
   "cell_type": "markdown",
   "metadata": {
    "id": "Y1PnxCaNZ4tp"
   },
   "source": [
    "## Resources used\n",
    "1. https://stackoverflow.com/questions/51046454/how-can-we-use-selenium-webdriver-in-colab-research-google-com\n",
    "2. https://www.browserstack.com/guide/python-selenium-to-run-web-automation-test\n",
    "3. https://dev.to/razgandeanu/selenium-cheat-sheet-9lc\n",
    "4. https://medium.com/analytics-vidhya/web-scraping-google-search-results-with-selenium-and-beautifulsoup-4c534817ad88"
   ]
  },
  {
   "cell_type": "markdown",
   "metadata": {
    "id": "H6qJfCfOY1Pi"
   },
   "source": [
    "## Installing drivers to use selenium on colab\n",
    "\n",
    "If you are running on a local system then i've mentioned the relevant steps in the code block of each cell. \n",
    "Only the setup varies, rest is same!!\n"
   ]
  },
  {
   "cell_type": "code",
   "execution_count": 1,
   "metadata": {
    "colab": {
     "base_uri": "https://localhost:8080/"
    },
    "id": "pH7ial2QM9TQ",
    "outputId": "e99642bc-d0bf-4e2a-edc7-9780f044baf6"
   },
   "outputs": [
    {
     "name": "stdout",
     "output_type": "stream",
     "text": [
      "Collecting selenium\n",
      "\u001b[?25l  Downloading https://files.pythonhosted.org/packages/80/d6/4294f0b4bce4de0abf13e17190289f9d0613b0a44e5dd6a7f5ca98459853/selenium-3.141.0-py2.py3-none-any.whl (904kB)\n",
      "\u001b[K     |████████████████████████████████| 911kB 6.4MB/s \n",
      "\u001b[?25hRequirement already satisfied: urllib3 in /usr/local/lib/python3.7/dist-packages (from selenium) (1.24.3)\n",
      "Installing collected packages: selenium\n",
      "Successfully installed selenium-3.141.0\n"
     ]
    }
   ],
   "source": [
    "# pip install selenium==3.141.0\n",
    "!pip install selenium"
   ]
  },
  {
   "cell_type": "code",
   "execution_count": 7,
   "metadata": {
    "colab": {
     "base_uri": "https://localhost:8080/"
    },
    "id": "SpwkBvOKO8gs",
    "outputId": "3138f715-a066-4810-cc71-10b45ae4eb64"
   },
   "outputs": [
    {
     "name": "stdout",
     "output_type": "stream",
     "text": [
      "\r",
      "0% [Working]\r",
      "            \r",
      "Hit:1 https://cloud.r-project.org/bin/linux/ubuntu bionic-cran40/ InRelease\n",
      "\r",
      "0% [Connecting to archive.ubuntu.com (91.189.88.152)] [Connecting to security.u\r",
      "0% [1 InRelease gpgv 3,626 B] [Connecting to archive.ubuntu.com (91.189.88.152)\r",
      "                                                                               \r",
      "Ign:2 https://developer.download.nvidia.com/compute/cuda/repos/ubuntu1804/x86_64  InRelease\n",
      "\r",
      "0% [1 InRelease gpgv 3,626 B] [Connecting to archive.ubuntu.com (91.189.88.152)\r",
      "                                                                               \r",
      "Ign:3 https://developer.download.nvidia.com/compute/machine-learning/repos/ubuntu1804/x86_64  InRelease\n",
      "Hit:4 https://developer.download.nvidia.com/compute/cuda/repos/ubuntu1804/x86_64  Release\n",
      "Hit:5 https://developer.download.nvidia.com/compute/machine-learning/repos/ubuntu1804/x86_64  Release\n",
      "Hit:6 http://ppa.launchpad.net/c2d4u.team/c2d4u4.0+/ubuntu bionic InRelease\n",
      "Hit:7 http://security.ubuntu.com/ubuntu bionic-security InRelease\n",
      "Hit:8 http://archive.ubuntu.com/ubuntu bionic InRelease\n",
      "Hit:9 http://archive.ubuntu.com/ubuntu bionic-updates InRelease\n",
      "Hit:10 http://ppa.launchpad.net/cran/libgit2/ubuntu bionic InRelease\n",
      "Hit:11 http://archive.ubuntu.com/ubuntu bionic-backports InRelease\n",
      "Hit:13 http://ppa.launchpad.net/deadsnakes/ppa/ubuntu bionic InRelease\n",
      "Hit:15 http://ppa.launchpad.net/graphics-drivers/ppa/ubuntu bionic InRelease\n",
      "Reading package lists... Done\n",
      "Reading package lists... Done\n",
      "Building dependency tree       \n",
      "Reading state information... Done\n",
      "The following additional packages will be installed:\n",
      "  chromium-browser chromium-browser-l10n chromium-codecs-ffmpeg-extra\n",
      "Suggested packages:\n",
      "  webaccounts-chromium-extension unity-chromium-extension\n",
      "The following NEW packages will be installed:\n",
      "  chromium-browser chromium-browser-l10n chromium-chromedriver\n",
      "  chromium-codecs-ffmpeg-extra\n",
      "0 upgraded, 4 newly installed, 0 to remove and 40 not upgraded.\n",
      "Need to get 83.2 MB of archives.\n",
      "After this operation, 282 MB of additional disk space will be used.\n",
      "Get:1 http://archive.ubuntu.com/ubuntu bionic-updates/universe amd64 chromium-codecs-ffmpeg-extra amd64 89.0.4389.90-0ubuntu0.18.04.2 [1,127 kB]\n",
      "Get:2 http://archive.ubuntu.com/ubuntu bionic-updates/universe amd64 chromium-browser amd64 89.0.4389.90-0ubuntu0.18.04.2 [73.6 MB]\n",
      "Get:3 http://archive.ubuntu.com/ubuntu bionic-updates/universe amd64 chromium-browser-l10n all 89.0.4389.90-0ubuntu0.18.04.2 [3,809 kB]\n",
      "Get:4 http://archive.ubuntu.com/ubuntu bionic-updates/universe amd64 chromium-chromedriver amd64 89.0.4389.90-0ubuntu0.18.04.2 [4,697 kB]\n",
      "Fetched 83.2 MB in 4s (18.7 MB/s)\n",
      "Selecting previously unselected package chromium-codecs-ffmpeg-extra.\n",
      "(Reading database ... 160983 files and directories currently installed.)\n",
      "Preparing to unpack .../chromium-codecs-ffmpeg-extra_89.0.4389.90-0ubuntu0.18.04.2_amd64.deb ...\n",
      "Unpacking chromium-codecs-ffmpeg-extra (89.0.4389.90-0ubuntu0.18.04.2) ...\n",
      "Selecting previously unselected package chromium-browser.\n",
      "Preparing to unpack .../chromium-browser_89.0.4389.90-0ubuntu0.18.04.2_amd64.deb ...\n",
      "Unpacking chromium-browser (89.0.4389.90-0ubuntu0.18.04.2) ...\n",
      "Selecting previously unselected package chromium-browser-l10n.\n",
      "Preparing to unpack .../chromium-browser-l10n_89.0.4389.90-0ubuntu0.18.04.2_all.deb ...\n",
      "Unpacking chromium-browser-l10n (89.0.4389.90-0ubuntu0.18.04.2) ...\n",
      "Selecting previously unselected package chromium-chromedriver.\n",
      "Preparing to unpack .../chromium-chromedriver_89.0.4389.90-0ubuntu0.18.04.2_amd64.deb ...\n",
      "Unpacking chromium-chromedriver (89.0.4389.90-0ubuntu0.18.04.2) ...\n",
      "Setting up chromium-codecs-ffmpeg-extra (89.0.4389.90-0ubuntu0.18.04.2) ...\n",
      "Setting up chromium-browser (89.0.4389.90-0ubuntu0.18.04.2) ...\n",
      "update-alternatives: using /usr/bin/chromium-browser to provide /usr/bin/x-www-browser (x-www-browser) in auto mode\n",
      "update-alternatives: using /usr/bin/chromium-browser to provide /usr/bin/gnome-www-browser (gnome-www-browser) in auto mode\n",
      "Setting up chromium-chromedriver (89.0.4389.90-0ubuntu0.18.04.2) ...\n",
      "Setting up chromium-browser-l10n (89.0.4389.90-0ubuntu0.18.04.2) ...\n",
      "Processing triggers for man-db (2.8.3-2ubuntu0.1) ...\n",
      "Processing triggers for hicolor-icon-theme (0.17-2) ...\n",
      "Processing triggers for mime-support (3.60ubuntu1) ...\n",
      "Processing triggers for libc-bin (2.27-3ubuntu1.2) ...\n",
      "/sbin/ldconfig.real: /usr/local/lib/python3.7/dist-packages/ideep4py/lib/libmkldnn.so.0 is not a symbolic link\n",
      "\n",
      "cp: '/usr/lib/chromium-browser/chromedriver' and '/usr/bin/chromedriver' are the same file\n"
     ]
    }
   ],
   "source": [
    "# Manually install the chrome driver from https://sites.google.com/a/chromium.org/chromedriver/downloads.\n",
    "!apt-get update # to update ubuntu to correctly run apt install\n",
    "!apt install chromium-chromedriver\n",
    "!cp /usr/lib/chromium-browser/chromedriver /usr/bin"
   ]
  },
  {
   "cell_type": "code",
   "execution_count": 1,
   "metadata": {
    "id": "VAhtw6W3Tkkc"
   },
   "outputs": [
    {
     "ename": "ModuleNotFoundError",
     "evalue": "No module named 'selenium.webdriver.remote.webdriver'",
     "output_type": "error",
     "traceback": [
      "\u001b[1;31m---------------------------------------------------------------------------\u001b[0m",
      "\u001b[1;31mModuleNotFoundError\u001b[0m                       Traceback (most recent call last)",
      "\u001b[1;32m<ipython-input-1-fe643cc30243>\u001b[0m in \u001b[0;36m<module>\u001b[1;34m\u001b[0m\n\u001b[0;32m      1\u001b[0m \u001b[1;31m# remains same\u001b[0m\u001b[1;33m\u001b[0m\u001b[1;33m\u001b[0m\u001b[1;33m\u001b[0m\u001b[0m\n\u001b[0;32m      2\u001b[0m \u001b[1;31m# In general, Selenium opens a virtual browser and executes all the commands we pass through our script\u001b[0m\u001b[1;33m\u001b[0m\u001b[1;33m\u001b[0m\u001b[1;33m\u001b[0m\u001b[0m\n\u001b[1;32m----> 3\u001b[1;33m \u001b[1;32mfrom\u001b[0m \u001b[0mselenium\u001b[0m \u001b[1;32mimport\u001b[0m \u001b[0mwebdriver\u001b[0m\u001b[1;33m\u001b[0m\u001b[1;33m\u001b[0m\u001b[0m\n\u001b[0m\u001b[0;32m      4\u001b[0m \u001b[1;32mfrom\u001b[0m \u001b[0mselenium\u001b[0m\u001b[1;33m.\u001b[0m\u001b[0mwebdriver\u001b[0m\u001b[1;33m.\u001b[0m\u001b[0mcommon\u001b[0m\u001b[1;33m.\u001b[0m\u001b[0mkeys\u001b[0m \u001b[1;32mimport\u001b[0m \u001b[0mKeys\u001b[0m\u001b[1;33m\u001b[0m\u001b[1;33m\u001b[0m\u001b[0m\n",
      "\u001b[1;32mC:\\ProgramData\\Anaconda3\\lib\\site-packages\\selenium\\webdriver\\__init__.py\u001b[0m in \u001b[0;36m<module>\u001b[1;34m\u001b[0m\n\u001b[0;32m     16\u001b[0m \u001b[1;31m# under the License.\u001b[0m\u001b[1;33m\u001b[0m\u001b[1;33m\u001b[0m\u001b[1;33m\u001b[0m\u001b[0m\n\u001b[0;32m     17\u001b[0m \u001b[1;33m\u001b[0m\u001b[0m\n\u001b[1;32m---> 18\u001b[1;33m \u001b[1;32mfrom\u001b[0m \u001b[1;33m.\u001b[0m\u001b[0mfirefox\u001b[0m\u001b[1;33m.\u001b[0m\u001b[0mwebdriver\u001b[0m \u001b[1;32mimport\u001b[0m \u001b[0mWebDriver\u001b[0m \u001b[1;32mas\u001b[0m \u001b[0mFirefox\u001b[0m  \u001b[1;31m# noqa\u001b[0m\u001b[1;33m\u001b[0m\u001b[1;33m\u001b[0m\u001b[0m\n\u001b[0m\u001b[0;32m     19\u001b[0m \u001b[1;32mfrom\u001b[0m \u001b[1;33m.\u001b[0m\u001b[0mfirefox\u001b[0m\u001b[1;33m.\u001b[0m\u001b[0mfirefox_profile\u001b[0m \u001b[1;32mimport\u001b[0m \u001b[0mFirefoxProfile\u001b[0m  \u001b[1;31m# noqa\u001b[0m\u001b[1;33m\u001b[0m\u001b[1;33m\u001b[0m\u001b[0m\n\u001b[0;32m     20\u001b[0m \u001b[1;32mfrom\u001b[0m \u001b[1;33m.\u001b[0m\u001b[0mfirefox\u001b[0m\u001b[1;33m.\u001b[0m\u001b[0moptions\u001b[0m \u001b[1;32mimport\u001b[0m \u001b[0mOptions\u001b[0m \u001b[1;32mas\u001b[0m \u001b[0mFirefoxOptions\u001b[0m  \u001b[1;31m# noqa\u001b[0m\u001b[1;33m\u001b[0m\u001b[1;33m\u001b[0m\u001b[0m\n",
      "\u001b[1;32mC:\\ProgramData\\Anaconda3\\lib\\site-packages\\selenium\\webdriver\\firefox\\webdriver.py\u001b[0m in \u001b[0;36m<module>\u001b[1;34m\u001b[0m\n\u001b[0;32m     27\u001b[0m \u001b[1;33m\u001b[0m\u001b[0m\n\u001b[0;32m     28\u001b[0m \u001b[1;32mfrom\u001b[0m \u001b[0mselenium\u001b[0m\u001b[1;33m.\u001b[0m\u001b[0mwebdriver\u001b[0m\u001b[1;33m.\u001b[0m\u001b[0mcommon\u001b[0m\u001b[1;33m.\u001b[0m\u001b[0mdesired_capabilities\u001b[0m \u001b[1;32mimport\u001b[0m \u001b[0mDesiredCapabilities\u001b[0m\u001b[1;33m\u001b[0m\u001b[1;33m\u001b[0m\u001b[0m\n\u001b[1;32m---> 29\u001b[1;33m \u001b[1;32mfrom\u001b[0m \u001b[0mselenium\u001b[0m\u001b[1;33m.\u001b[0m\u001b[0mwebdriver\u001b[0m\u001b[1;33m.\u001b[0m\u001b[0mremote\u001b[0m\u001b[1;33m.\u001b[0m\u001b[0mwebdriver\u001b[0m \u001b[1;32mimport\u001b[0m \u001b[0mWebDriver\u001b[0m \u001b[1;32mas\u001b[0m \u001b[0mRemoteWebDriver\u001b[0m\u001b[1;33m\u001b[0m\u001b[1;33m\u001b[0m\u001b[0m\n\u001b[0m\u001b[0;32m     30\u001b[0m \u001b[1;33m\u001b[0m\u001b[0m\n\u001b[0;32m     31\u001b[0m \u001b[1;32mfrom\u001b[0m \u001b[1;33m.\u001b[0m\u001b[0mextension_connection\u001b[0m \u001b[1;32mimport\u001b[0m \u001b[0mExtensionConnection\u001b[0m\u001b[1;33m\u001b[0m\u001b[1;33m\u001b[0m\u001b[0m\n",
      "\u001b[1;31mModuleNotFoundError\u001b[0m: No module named 'selenium.webdriver.remote.webdriver'"
     ]
    }
   ],
   "source": [
    "# remains same\n",
    "# In general, Selenium opens a virtual browser and executes all the commands we pass through our script\n",
    "from selenium import webdriver\n",
    "from selenium.webdriver.common.keys import Keys"
   ]
  },
  {
   "cell_type": "code",
   "execution_count": 9,
   "metadata": {
    "colab": {
     "base_uri": "https://localhost:8080/"
    },
    "id": "lBdMk-lyQB_A",
    "outputId": "19a27180-2530-4e36-b4a6-b6b1e68ce839"
   },
   "outputs": [
    {
     "name": "stderr",
     "output_type": "stream",
     "text": [
      "/usr/local/lib/python3.7/dist-packages/ipykernel_launcher.py:6: DeprecationWarning: use options instead of chrome_options\n",
      "  \n"
     ]
    }
   ],
   "source": [
    "# creating a chrome instance. \n",
    "chrome_options = webdriver.ChromeOptions()\n",
    "chrome_options.add_argument('--headless')\n",
    "chrome_options.add_argument('--no-sandbox')\n",
    "chrome_options.add_argument('--disable-dev-shm-usage')\n",
    "driver = webdriver.Chrome('chromedriver',chrome_options=chrome_options) # repalce the first argument with the path of your driver"
   ]
  },
  {
   "cell_type": "markdown",
   "metadata": {
    "id": "XSTsXY_9a7Tp"
   },
   "source": [
    "### Searching and extracting relevant information"
   ]
  },
  {
   "cell_type": "code",
   "execution_count": 10,
   "metadata": {
    "id": "finuquKhO_B5"
   },
   "outputs": [],
   "source": [
    "# accessing the webpage\n",
    "driver.get(\"https://www.google.co.in\")"
   ]
  },
  {
   "cell_type": "code",
   "execution_count": null,
   "metadata": {
    "colab": {
     "base_uri": "https://localhost:8080/"
    },
    "id": "EJmMbhxYcYsV",
    "outputId": "55442609-348a-4361-fec7-e1058e1d302f"
   },
   "outputs": [
    {
     "name": "stdout",
     "output_type": "stream",
     "text": [
      "https://www.google.co.in/\n"
     ]
    }
   ],
   "source": [
    "# checking the current url\n",
    "print(driver.current_url)"
   ]
  },
  {
   "cell_type": "markdown",
   "metadata": {
    "id": "Yu84j0tvelB3"
   },
   "source": [
    "### Finding the element\n",
    "Ways to find things from a webpage using selenium\n",
    "* find_elements_by_name\n",
    "* find_elements_by_xpath\n",
    "* find_elements_by_link_text\n",
    "* find_elements_by_partial_link_text\n",
    "* find_elements_by_tag_name\n",
    "* find_elements_by_class_name\n",
    "* find_elements_by_css_selector"
   ]
  },
  {
   "cell_type": "code",
   "execution_count": null,
   "metadata": {
    "colab": {
     "base_uri": "https://localhost:8080/"
    },
    "id": "VOKORpn3P7UC",
    "outputId": "6398c3e2-378f-439f-ea98-de6bde69d8b9"
   },
   "outputs": [
    {
     "name": "stdout",
     "output_type": "stream",
     "text": [
      "Google\n"
     ]
    }
   ],
   "source": [
    "print(driver.title)"
   ]
  },
  {
   "cell_type": "code",
   "execution_count": null,
   "metadata": {
    "id": "WMVYlzQrQWZU"
   },
   "outputs": [],
   "source": [
    "# accessing the search bar\n",
    "search_bar = driver.find_element_by_name(\"q\")"
   ]
  },
  {
   "cell_type": "code",
   "execution_count": null,
   "metadata": {
    "id": "_tWJy-4_Qepv"
   },
   "outputs": [],
   "source": [
    "# searching something through the search bar\n",
    "search_bar.clear()\n",
    "search_bar.send_keys(\"deep learning\")\n",
    "search_bar.send_keys(Keys.RETURN)"
   ]
  },
  {
   "cell_type": "code",
   "execution_count": null,
   "metadata": {
    "id": "h8SeYSq423X_"
   },
   "outputs": [],
   "source": [
    "# the_link_text = \"News\"\n",
    "# news = driver.find_element_by_link_text(the_link_text)\n",
    "# news.click()  # to redirect to this page"
   ]
  },
  {
   "cell_type": "code",
   "execution_count": null,
   "metadata": {
    "colab": {
     "base_uri": "https://localhost:8080/"
    },
    "id": "1iM5oNcJ3bBG",
    "outputId": "ae9945bd-1ea7-457c-9376-ced4150954d4"
   },
   "outputs": [
    {
     "name": "stdout",
     "output_type": "stream",
     "text": [
      "https://www.google.co.in/search?q=deep+learning&source=lnms&tbm=nws&sa=X&ved=2ahUKEwiClLrjxvvvAhXlGDQIHexmBlQQ_AUoAXoECAEQAw\n",
      "https://www.google.co.in/search?q=deep+learning&source=lnms&tbm=vid&sa=X&ved=2ahUKEwiClLrjxvvvAhXlGDQIHexmBlQQ_AUoA3oECAEQBQ\n"
     ]
    }
   ],
   "source": [
    "# searching links for news and videos \n",
    "tags_list = [\"News\", \"Videos\"]\n",
    "tags_link = []\n",
    "\n",
    "\n",
    "for i in tags_list:\n",
    "  tags_link.append(driver.find_element_by_link_text(i).get_attribute('href'))\n",
    "\n",
    "\n",
    "# printing the link\n",
    "for i in tags_link:\n",
    "  print(i)"
   ]
  },
  {
   "cell_type": "markdown",
   "metadata": {
    "id": "FatnrGthTV1i"
   },
   "source": [
    "### Extracting links from videos search"
   ]
  },
  {
   "cell_type": "code",
   "execution_count": null,
   "metadata": {
    "id": "jafNRT7a4r8S"
   },
   "outputs": [],
   "source": [
    "# extracting all the links from the news and vidoes pages using BeautifulSoup\n",
    "from bs4 import BeautifulSoup\n",
    "n_pages = 2\n",
    "results = []\n",
    "\n",
    "# creating a list of list for storing all the links from videos tag\n",
    "for page in range(1, n_pages):\n",
    "    url = \"https://www.google.co.in/search?q=deep+learning&source=lnms&tbm=vid&sa=X&ved=2ahUKEwiClLrjxvvvAhXlGDQIHexmBlQQ_AUoA3oECAEQBQ\" +  str((page - 1) * 10)\n",
    "\n",
    "    driver.get(url)\n",
    "    soup = BeautifulSoup(driver.page_source, 'html.parser')\n",
    "    search = soup.find_all('div', class_=\"yuRUbf\" )\n",
    "    for h in search:\n",
    "        results[i].append(h.a.get('href'))"
   ]
  },
  {
   "cell_type": "code",
   "execution_count": 15,
   "metadata": {
    "colab": {
     "base_uri": "https://localhost:8080/"
    },
    "id": "svidJgQc9JLb",
    "outputId": "9a626103-e51e-4034-8ee9-e8adc3e5b3c5"
   },
   "outputs": [
    {
     "name": "stdout",
     "output_type": "stream",
     "text": [
      "['https://techxplore.com/news/2021-04-deeponet-deep-neural-network-based-approximate.html', 'https://www.vfxvoice.com/ai-machine-and-deep-learning-filling-todays-need-for-speed-and-iteration/', 'https://www.efinancialcareers.com/news/2021/04/morgan-stanley-machine-learning', 'https://betakit.com/deeplite-raises-7-5-million-cad-seed-round-to-optimize-deep-neural-networks/', 'https://www.marktechpost.com/2021/04/10/computer-scientists-from-rice-university-display-cpu-algorithm-that-trains-deep-neural-networks-15-times-faster-than-gpu/', 'https://techxplore.com/news/2021-04-rice-intel-optimize-ai-commodity.html', 'https://www.slashgear.com/3d-printed-all-optical-diffractive-deep-neural-network-created-at-ucla-06667284/', 'https://bdtechtalks.com/2021/03/15/machine-learning-causality/', 'https://spectrum.ieee.org/tech-talk/artificial-intelligence/machine-learning/deep-learning-isnt-deep-enough-unless-it-copies-from-the-brain', 'https://techxplore.com/news/2021-04-deep-networks-human-voicejust.html']\n",
      "10\n"
     ]
    }
   ],
   "source": [
    "print(results)\n",
    "print(len(results))"
   ]
  },
  {
   "cell_type": "markdown",
   "metadata": {
    "id": "HkZAQCMrQIWT"
   },
   "source": [
    "### Extracting link from news search\n"
   ]
  },
  {
   "cell_type": "code",
   "execution_count": 12,
   "metadata": {
    "id": "KT13Cy_nQHrW"
   },
   "outputs": [],
   "source": [
    "# extracting all the links from the news and vidoes pages using BeautifulSoup\n",
    "from bs4 import BeautifulSoup\n",
    "n_pages = 2\n",
    "results = []\n",
    "\n",
    "# creating a list of list for storing all the links from news and videos tag\n",
    "for page in range(1, n_pages):\n",
    "    # url = \"http://www.google.com/search?q=\" + query + \"&start=\" +   str((page - 1) * 10)\n",
    "    url = \"https://www.google.co.in/search?q=deep+learning&source=lnms&tbm=nws&sa=X&ved=2ahUKEwiClLrjxvvvAhXlGDQIHexmBlQQ_AUoAXoECAEQAw\" +  str((page - 1) * 10)\n",
    "    driver.get(url)\n",
    "\n",
    "    soup = BeautifulSoup(driver.page_source, 'html.parser')\n",
    "    search = soup.find_all('div', class_=\"dbsr\" )\n",
    "    for h in search:\n",
    "        results.append(h.a.get('href'))"
   ]
  },
  {
   "cell_type": "code",
   "execution_count": 14,
   "metadata": {
    "colab": {
     "base_uri": "https://localhost:8080/"
    },
    "id": "n7X1IIXNSjUD",
    "outputId": "e8f35c91-d2d3-4b15-932c-3fddaea84907"
   },
   "outputs": [
    {
     "name": "stdout",
     "output_type": "stream",
     "text": [
      "10\n"
     ]
    }
   ],
   "source": [
    "print(results)\n",
    "print(len(results))"
   ]
  },
  {
   "cell_type": "markdown",
   "metadata": {
    "id": "64g38mqaTQEm"
   },
   "source": [
    "# Combining the above code into a function"
   ]
  },
  {
   "cell_type": "code",
   "execution_count": 18,
   "metadata": {
    "id": "qUBoerqKSpkx"
   },
   "outputs": [],
   "source": [
    "# imports\n",
    "from selenium import webdriver\n",
    "from selenium.webdriver.common.keys import Keys\n",
    "from bs4 import BeautifulSoup"
   ]
  },
  {
   "cell_type": "code",
   "execution_count": 16,
   "metadata": {
    "colab": {
     "base_uri": "https://localhost:8080/"
    },
    "id": "cvTQbAiFUiCe",
    "outputId": "748d05b7-b183-433d-8026-5a7b868bcfb5"
   },
   "outputs": [
    {
     "name": "stderr",
     "output_type": "stream",
     "text": [
      "/usr/local/lib/python3.7/dist-packages/ipykernel_launcher.py:6: DeprecationWarning: use options instead of chrome_options\n",
      "  \n"
     ]
    }
   ],
   "source": [
    "# creating a chrome instance. \n",
    "chrome_options = webdriver.ChromeOptions()\n",
    "chrome_options.add_argument('--headless')\n",
    "chrome_options.add_argument('--no-sandbox')\n",
    "chrome_options.add_argument('--disable-dev-shm-usage')\n",
    "driver = webdriver.Chrome('chromedriver',chrome_options=chrome_options) # repalce the first argument with the path of your driver"
   ]
  },
  {
   "cell_type": "code",
   "execution_count": 22,
   "metadata": {
    "id": "geyxmBnhUq90"
   },
   "outputs": [],
   "source": [
    "# function for getting links from the specified category\n",
    "def link_from_category(category_link, category, n_pages):\n",
    "  class_from_categ = {\"News\":\"dbsr\", \"Videos\":\"yuRUbf\"} #class tag for categories\n",
    "  class_tag = \"\"\n",
    "  class_tag = class_from_categ[category]\n",
    "\n",
    "  results = [] # list for storing all the links\n",
    "\n",
    "\n",
    "  for page in range(1, n_pages):\n",
    "    url = category_link +  str((page - 1) * 10) \n",
    "    driver.get(url)\n",
    "\n",
    "    soup = BeautifulSoup(driver.page_source, 'html.parser')\n",
    "    search = soup.find_all('div', class_=class_tag )\n",
    "    for h in search:\n",
    "        results.append(h.a.get('href'))\n",
    "\n",
    "    \n",
    "  return results"
   ]
  },
  {
   "cell_type": "code",
   "execution_count": 32,
   "metadata": {
    "colab": {
     "base_uri": "https://localhost:8080/"
    },
    "id": "bmUcjjCLWn3X",
    "outputId": "9d0108d7-57bb-4cd7-d4b0-a290c9b54a67"
   },
   "outputs": [
    {
     "name": "stdout",
     "output_type": "stream",
     "text": [
      "['https://techxplore.com/news/2021-04-deeponet-deep-neural-network-based-approximate.html', 'https://www.vfxvoice.com/ai-machine-and-deep-learning-filling-todays-need-for-speed-and-iteration/', 'https://www.efinancialcareers.com/news/2021/04/morgan-stanley-machine-learning', 'https://betakit.com/deeplite-raises-7-5-million-cad-seed-round-to-optimize-deep-neural-networks/', 'https://www.marktechpost.com/2021/04/10/computer-scientists-from-rice-university-display-cpu-algorithm-that-trains-deep-neural-networks-15-times-faster-than-gpu/', 'https://techxplore.com/news/2021-04-rice-intel-optimize-ai-commodity.html', 'https://www.slashgear.com/3d-printed-all-optical-diffractive-deep-neural-network-created-at-ucla-06667284/', 'https://bdtechtalks.com/2021/03/15/machine-learning-causality/', 'https://spectrum.ieee.org/tech-talk/artificial-intelligence/machine-learning/deep-learning-isnt-deep-enough-unless-it-copies-from-the-brain', 'https://techxplore.com/news/2021-04-deep-networks-human-voicejust.html']\n",
      "10\n"
     ]
    }
   ],
   "source": [
    "# sanity check\n",
    "\n",
    "temp_link = \"https://www.google.co.in/search?q=deep+learning&source=lnms&tbm=nws&sa=X&ved=2ahUKEwiClLrjxvvvAhXlGDQIHexmBlQQ_AUoAXoECAEQAw\" # link for news articles\n",
    "# temp_link = \"https://www.google.co.in/search?q=deep+learning&source=lnms&tbm=vid&sa=X&ved=2ahUKEwiClLrjxvvvAhXlGDQIHexmBlQQ_AUoA3oECAEQBQ\" # link for videos\n",
    "\n",
    "temp_result = link_from_category(temp_link, \"News\",2)\n",
    "print(temp_result)\n",
    "print(len(temp_result))\n",
    "\n",
    "del temp_link, temp_result"
   ]
  },
  {
   "cell_type": "code",
   "execution_count": 33,
   "metadata": {
    "id": "8xpXcLh4XCrT"
   },
   "outputs": [],
   "source": [
    "# function for retreiving all the news and videos links for a specified search. It will return a list of list for the specified query.\n",
    "# 0th index will contain links for all news articles and 1st index will contain links for all videos\n",
    "def links_for_search(query, n_pages=10):\n",
    "\n",
    "  # redirecting to google.co.in\n",
    "  driver.get(\"https://www.google.co.in\")\n",
    "\n",
    "  # accessing the search bar and searching the specified query\n",
    "  search_bar = driver.find_element_by_name(\"q\")\n",
    "  search_bar.clear()\n",
    "  search_bar.send_keys(query)\n",
    "  search_bar.send_keys(Keys.RETURN)\n",
    "\n",
    "  # fetching the news and videos links for the specified query\n",
    "  category_list = [\"News\", \"Videos\"]\n",
    "  category_link = []\n",
    "  for i in category_list:\n",
    "    category_link.append(driver.find_element_by_link_text(i).get_attribute('href'))\n",
    "\n",
    "\n",
    "  # list for storing all the links\n",
    "  result_links = []\n",
    "\n",
    "  # fetching all the links for news articles\n",
    "  result_links.append(link_from_category(category_link[0], \"News\",n_pages))\n",
    "\n",
    "  # fetching all the links for videos\n",
    "  result_links.append(link_from_category(category_link[1], \"Videos\",n_pages))\n",
    "\n",
    "  return result_links"
   ]
  },
  {
   "cell_type": "code",
   "execution_count": 34,
   "metadata": {
    "id": "vhcABp3IaTz2"
   },
   "outputs": [],
   "source": [
    "links = links_for_search(\"deep learning\",10) # links_for_search(your_query, no_of_pages)"
   ]
  },
  {
   "cell_type": "code",
   "execution_count": 35,
   "metadata": {
    "colab": {
     "base_uri": "https://localhost:8080/"
    },
    "id": "9xuBvzcLayKX",
    "outputId": "c0e3023d-71e3-44c5-f83b-521c0db81b30"
   },
   "outputs": [
    {
     "name": "stdout",
     "output_type": "stream",
     "text": [
      "['https://techxplore.com/news/2021-04-deeponet-deep-neural-network-based-approximate.html', 'https://www.vfxvoice.com/ai-machine-and-deep-learning-filling-todays-need-for-speed-and-iteration/', 'https://www.efinancialcareers.com/news/2021/04/morgan-stanley-machine-learning', 'https://betakit.com/deeplite-raises-7-5-million-cad-seed-round-to-optimize-deep-neural-networks/', 'https://www.marktechpost.com/2021/04/10/computer-scientists-from-rice-university-display-cpu-algorithm-that-trains-deep-neural-networks-15-times-faster-than-gpu/', 'https://techxplore.com/news/2021-04-rice-intel-optimize-ai-commodity.html', 'https://www.slashgear.com/3d-printed-all-optical-diffractive-deep-neural-network-created-at-ucla-06667284/', 'https://bdtechtalks.com/2021/03/15/machine-learning-causality/', 'https://spectrum.ieee.org/tech-talk/artificial-intelligence/machine-learning/deep-learning-isnt-deep-enough-unless-it-copies-from-the-brain', 'https://techxplore.com/news/2021-04-deep-networks-human-voicejust.html', 'https://techxplore.com/news/2021-04-deeponet-deep-neural-network-based-approximate.html', 'https://www.vfxvoice.com/ai-machine-and-deep-learning-filling-todays-need-for-speed-and-iteration/', 'https://www.efinancialcareers.com/news/2021/04/morgan-stanley-machine-learning', 'https://betakit.com/deeplite-raises-7-5-million-cad-seed-round-to-optimize-deep-neural-networks/', 'https://www.marktechpost.com/2021/04/10/computer-scientists-from-rice-university-display-cpu-algorithm-that-trains-deep-neural-networks-15-times-faster-than-gpu/', 'https://techxplore.com/news/2021-04-rice-intel-optimize-ai-commodity.html', 'https://www.slashgear.com/3d-printed-all-optical-diffractive-deep-neural-network-created-at-ucla-06667284/', 'https://bdtechtalks.com/2021/03/15/machine-learning-causality/', 'https://spectrum.ieee.org/tech-talk/artificial-intelligence/machine-learning/deep-learning-isnt-deep-enough-unless-it-copies-from-the-brain', 'https://techxplore.com/news/2021-04-deep-networks-human-voicejust.html', 'https://techxplore.com/news/2021-04-deeponet-deep-neural-network-based-approximate.html', 'https://www.vfxvoice.com/ai-machine-and-deep-learning-filling-todays-need-for-speed-and-iteration/', 'https://www.efinancialcareers.com/news/2021/04/morgan-stanley-machine-learning', 'https://betakit.com/deeplite-raises-7-5-million-cad-seed-round-to-optimize-deep-neural-networks/', 'https://www.marktechpost.com/2021/04/10/computer-scientists-from-rice-university-display-cpu-algorithm-that-trains-deep-neural-networks-15-times-faster-than-gpu/', 'https://techxplore.com/news/2021-04-rice-intel-optimize-ai-commodity.html', 'https://www.slashgear.com/3d-printed-all-optical-diffractive-deep-neural-network-created-at-ucla-06667284/', 'https://bdtechtalks.com/2021/03/15/machine-learning-causality/', 'https://spectrum.ieee.org/tech-talk/artificial-intelligence/machine-learning/deep-learning-isnt-deep-enough-unless-it-copies-from-the-brain', 'https://techxplore.com/news/2021-04-deep-networks-human-voicejust.html', 'https://techxplore.com/news/2021-04-deeponet-deep-neural-network-based-approximate.html', 'https://www.vfxvoice.com/ai-machine-and-deep-learning-filling-todays-need-for-speed-and-iteration/', 'https://www.efinancialcareers.com/news/2021/04/morgan-stanley-machine-learning', 'https://betakit.com/deeplite-raises-7-5-million-cad-seed-round-to-optimize-deep-neural-networks/', 'https://www.marktechpost.com/2021/04/10/computer-scientists-from-rice-university-display-cpu-algorithm-that-trains-deep-neural-networks-15-times-faster-than-gpu/', 'https://techxplore.com/news/2021-04-rice-intel-optimize-ai-commodity.html', 'https://www.slashgear.com/3d-printed-all-optical-diffractive-deep-neural-network-created-at-ucla-06667284/', 'https://bdtechtalks.com/2021/03/15/machine-learning-causality/', 'https://spectrum.ieee.org/tech-talk/artificial-intelligence/machine-learning/deep-learning-isnt-deep-enough-unless-it-copies-from-the-brain', 'https://techxplore.com/news/2021-04-deep-networks-human-voicejust.html', 'https://techxplore.com/news/2021-04-deeponet-deep-neural-network-based-approximate.html', 'https://www.vfxvoice.com/ai-machine-and-deep-learning-filling-todays-need-for-speed-and-iteration/', 'https://www.efinancialcareers.com/news/2021/04/morgan-stanley-machine-learning', 'https://betakit.com/deeplite-raises-7-5-million-cad-seed-round-to-optimize-deep-neural-networks/', 'https://www.marktechpost.com/2021/04/10/computer-scientists-from-rice-university-display-cpu-algorithm-that-trains-deep-neural-networks-15-times-faster-than-gpu/', 'https://techxplore.com/news/2021-04-rice-intel-optimize-ai-commodity.html', 'https://www.slashgear.com/3d-printed-all-optical-diffractive-deep-neural-network-created-at-ucla-06667284/', 'https://bdtechtalks.com/2021/03/15/machine-learning-causality/', 'https://spectrum.ieee.org/tech-talk/artificial-intelligence/machine-learning/deep-learning-isnt-deep-enough-unless-it-copies-from-the-brain', 'https://techxplore.com/news/2021-04-deep-networks-human-voicejust.html', 'https://techxplore.com/news/2021-04-deeponet-deep-neural-network-based-approximate.html', 'https://www.vfxvoice.com/ai-machine-and-deep-learning-filling-todays-need-for-speed-and-iteration/', 'https://www.efinancialcareers.com/news/2021/04/morgan-stanley-machine-learning', 'https://betakit.com/deeplite-raises-7-5-million-cad-seed-round-to-optimize-deep-neural-networks/', 'https://www.marktechpost.com/2021/04/10/computer-scientists-from-rice-university-display-cpu-algorithm-that-trains-deep-neural-networks-15-times-faster-than-gpu/', 'https://techxplore.com/news/2021-04-rice-intel-optimize-ai-commodity.html', 'https://www.slashgear.com/3d-printed-all-optical-diffractive-deep-neural-network-created-at-ucla-06667284/', 'https://bdtechtalks.com/2021/03/15/machine-learning-causality/', 'https://spectrum.ieee.org/tech-talk/artificial-intelligence/machine-learning/deep-learning-isnt-deep-enough-unless-it-copies-from-the-brain', 'https://techxplore.com/news/2021-04-deep-networks-human-voicejust.html', 'https://techxplore.com/news/2021-04-deeponet-deep-neural-network-based-approximate.html', 'https://www.vfxvoice.com/ai-machine-and-deep-learning-filling-todays-need-for-speed-and-iteration/', 'https://www.efinancialcareers.com/news/2021/04/morgan-stanley-machine-learning', 'https://betakit.com/deeplite-raises-7-5-million-cad-seed-round-to-optimize-deep-neural-networks/', 'https://www.marktechpost.com/2021/04/10/computer-scientists-from-rice-university-display-cpu-algorithm-that-trains-deep-neural-networks-15-times-faster-than-gpu/', 'https://techxplore.com/news/2021-04-rice-intel-optimize-ai-commodity.html', 'https://www.slashgear.com/3d-printed-all-optical-diffractive-deep-neural-network-created-at-ucla-06667284/', 'https://bdtechtalks.com/2021/03/15/machine-learning-causality/', 'https://spectrum.ieee.org/tech-talk/artificial-intelligence/machine-learning/deep-learning-isnt-deep-enough-unless-it-copies-from-the-brain', 'https://techxplore.com/news/2021-04-deep-networks-human-voicejust.html', 'https://techxplore.com/news/2021-04-deeponet-deep-neural-network-based-approximate.html', 'https://www.vfxvoice.com/ai-machine-and-deep-learning-filling-todays-need-for-speed-and-iteration/', 'https://www.efinancialcareers.com/news/2021/04/morgan-stanley-machine-learning', 'https://betakit.com/deeplite-raises-7-5-million-cad-seed-round-to-optimize-deep-neural-networks/', 'https://www.marktechpost.com/2021/04/10/computer-scientists-from-rice-university-display-cpu-algorithm-that-trains-deep-neural-networks-15-times-faster-than-gpu/', 'https://techxplore.com/news/2021-04-rice-intel-optimize-ai-commodity.html', 'https://www.slashgear.com/3d-printed-all-optical-diffractive-deep-neural-network-created-at-ucla-06667284/', 'https://bdtechtalks.com/2021/03/15/machine-learning-causality/', 'https://spectrum.ieee.org/tech-talk/artificial-intelligence/machine-learning/deep-learning-isnt-deep-enough-unless-it-copies-from-the-brain', 'https://techxplore.com/news/2021-04-deep-networks-human-voicejust.html', 'https://techxplore.com/news/2021-04-deeponet-deep-neural-network-based-approximate.html', 'https://www.vfxvoice.com/ai-machine-and-deep-learning-filling-todays-need-for-speed-and-iteration/', 'https://www.efinancialcareers.com/news/2021/04/morgan-stanley-machine-learning', 'https://betakit.com/deeplite-raises-7-5-million-cad-seed-round-to-optimize-deep-neural-networks/', 'https://www.marktechpost.com/2021/04/10/computer-scientists-from-rice-university-display-cpu-algorithm-that-trains-deep-neural-networks-15-times-faster-than-gpu/', 'https://techxplore.com/news/2021-04-rice-intel-optimize-ai-commodity.html', 'https://www.slashgear.com/3d-printed-all-optical-diffractive-deep-neural-network-created-at-ucla-06667284/', 'https://bdtechtalks.com/2021/03/15/machine-learning-causality/', 'https://spectrum.ieee.org/tech-talk/artificial-intelligence/machine-learning/deep-learning-isnt-deep-enough-unless-it-copies-from-the-brain', 'https://techxplore.com/news/2021-04-deep-networks-human-voicejust.html']\n",
      "90\n",
      "['https://www.youtube.com/watch?v=6M5VXKLf4D4', 'https://developer.nvidia.com/deep-learning', 'https://www.deeplearning.ai/program/deep-learning-specialization/', 'https://searchenterpriseai.techtarget.com/definition/deep-learning-deep-neural-network', 'https://bdtechtalks.com/2019/02/15/what-is-deep-learning-neural-networks/', 'https://builtin.com/artificial-intelligence/deep-learning', 'https://www.forbes.com/sites/tomtaulli/2020/03/27/deep-learning-what-you-need-to-know/', 'https://towardsdatascience.com/introducing-deep-learning-and-neural-networks-deep-learning-for-rookies-1-bd68f9cf5883', 'https://serokell.io/blog/deep-learning-and-neural-network-guide', 'https://www.pcmag.com/news/what-is-deep-learning', 'https://www.youtube.com/watch?v=6M5VXKLf4D4', 'https://developer.nvidia.com/deep-learning', 'https://www.deeplearning.ai/program/deep-learning-specialization/', 'https://searchenterpriseai.techtarget.com/definition/deep-learning-deep-neural-network', 'https://bdtechtalks.com/2019/02/15/what-is-deep-learning-neural-networks/', 'https://builtin.com/artificial-intelligence/deep-learning', 'https://www.forbes.com/sites/tomtaulli/2020/03/27/deep-learning-what-you-need-to-know/', 'https://towardsdatascience.com/introducing-deep-learning-and-neural-networks-deep-learning-for-rookies-1-bd68f9cf5883', 'https://serokell.io/blog/deep-learning-and-neural-network-guide', 'https://www.pcmag.com/news/what-is-deep-learning', 'https://www.youtube.com/watch?v=6M5VXKLf4D4', 'https://developer.nvidia.com/deep-learning', 'https://www.deeplearning.ai/program/deep-learning-specialization/', 'https://searchenterpriseai.techtarget.com/definition/deep-learning-deep-neural-network', 'https://bdtechtalks.com/2019/02/15/what-is-deep-learning-neural-networks/', 'https://builtin.com/artificial-intelligence/deep-learning', 'https://www.forbes.com/sites/tomtaulli/2020/03/27/deep-learning-what-you-need-to-know/', 'https://towardsdatascience.com/introducing-deep-learning-and-neural-networks-deep-learning-for-rookies-1-bd68f9cf5883', 'https://serokell.io/blog/deep-learning-and-neural-network-guide', 'https://www.pcmag.com/news/what-is-deep-learning', 'https://www.youtube.com/watch?v=6M5VXKLf4D4', 'https://developer.nvidia.com/deep-learning', 'https://www.deeplearning.ai/program/deep-learning-specialization/', 'https://searchenterpriseai.techtarget.com/definition/deep-learning-deep-neural-network', 'https://bdtechtalks.com/2019/02/15/what-is-deep-learning-neural-networks/', 'https://builtin.com/artificial-intelligence/deep-learning', 'https://www.forbes.com/sites/tomtaulli/2020/03/27/deep-learning-what-you-need-to-know/', 'https://towardsdatascience.com/introducing-deep-learning-and-neural-networks-deep-learning-for-rookies-1-bd68f9cf5883', 'https://serokell.io/blog/deep-learning-and-neural-network-guide', 'https://www.pcmag.com/news/what-is-deep-learning', 'https://www.youtube.com/watch?v=6M5VXKLf4D4', 'https://developer.nvidia.com/deep-learning', 'https://www.deeplearning.ai/program/deep-learning-specialization/', 'https://searchenterpriseai.techtarget.com/definition/deep-learning-deep-neural-network', 'https://bdtechtalks.com/2019/02/15/what-is-deep-learning-neural-networks/', 'https://builtin.com/artificial-intelligence/deep-learning', 'https://www.forbes.com/sites/tomtaulli/2020/03/27/deep-learning-what-you-need-to-know/', 'https://towardsdatascience.com/introducing-deep-learning-and-neural-networks-deep-learning-for-rookies-1-bd68f9cf5883', 'https://serokell.io/blog/deep-learning-and-neural-network-guide', 'https://www.pcmag.com/news/what-is-deep-learning', 'https://www.youtube.com/watch?v=6M5VXKLf4D4', 'https://developer.nvidia.com/deep-learning', 'https://www.deeplearning.ai/program/deep-learning-specialization/', 'https://searchenterpriseai.techtarget.com/definition/deep-learning-deep-neural-network', 'https://bdtechtalks.com/2019/02/15/what-is-deep-learning-neural-networks/', 'https://builtin.com/artificial-intelligence/deep-learning', 'https://www.forbes.com/sites/tomtaulli/2020/03/27/deep-learning-what-you-need-to-know/', 'https://towardsdatascience.com/introducing-deep-learning-and-neural-networks-deep-learning-for-rookies-1-bd68f9cf5883', 'https://serokell.io/blog/deep-learning-and-neural-network-guide', 'https://www.pcmag.com/news/what-is-deep-learning', 'https://www.youtube.com/watch?v=6M5VXKLf4D4', 'https://developer.nvidia.com/deep-learning', 'https://www.deeplearning.ai/program/deep-learning-specialization/', 'https://searchenterpriseai.techtarget.com/definition/deep-learning-deep-neural-network', 'https://bdtechtalks.com/2019/02/15/what-is-deep-learning-neural-networks/', 'https://builtin.com/artificial-intelligence/deep-learning', 'https://www.forbes.com/sites/tomtaulli/2020/03/27/deep-learning-what-you-need-to-know/', 'https://towardsdatascience.com/introducing-deep-learning-and-neural-networks-deep-learning-for-rookies-1-bd68f9cf5883', 'https://serokell.io/blog/deep-learning-and-neural-network-guide', 'https://www.pcmag.com/news/what-is-deep-learning', 'https://www.youtube.com/watch?v=6M5VXKLf4D4', 'https://developer.nvidia.com/deep-learning', 'https://www.deeplearning.ai/program/deep-learning-specialization/', 'https://searchenterpriseai.techtarget.com/definition/deep-learning-deep-neural-network', 'https://bdtechtalks.com/2019/02/15/what-is-deep-learning-neural-networks/', 'https://builtin.com/artificial-intelligence/deep-learning', 'https://www.forbes.com/sites/tomtaulli/2020/03/27/deep-learning-what-you-need-to-know/', 'https://towardsdatascience.com/introducing-deep-learning-and-neural-networks-deep-learning-for-rookies-1-bd68f9cf5883', 'https://serokell.io/blog/deep-learning-and-neural-network-guide', 'https://www.pcmag.com/news/what-is-deep-learning', 'https://www.youtube.com/watch?v=6M5VXKLf4D4', 'https://developer.nvidia.com/deep-learning', 'https://www.deeplearning.ai/program/deep-learning-specialization/', 'https://searchenterpriseai.techtarget.com/definition/deep-learning-deep-neural-network', 'https://bdtechtalks.com/2019/02/15/what-is-deep-learning-neural-networks/', 'https://builtin.com/artificial-intelligence/deep-learning', 'https://www.forbes.com/sites/tomtaulli/2020/03/27/deep-learning-what-you-need-to-know/', 'https://towardsdatascience.com/introducing-deep-learning-and-neural-networks-deep-learning-for-rookies-1-bd68f9cf5883', 'https://serokell.io/blog/deep-learning-and-neural-network-guide', 'https://www.pcmag.com/news/what-is-deep-learning']\n",
      "90\n",
      "2\n"
     ]
    }
   ],
   "source": [
    "print(links[0])\n",
    "print(len(links[0]))\n",
    "print(links[1])\n",
    "print(len(links[1]))\n",
    "print(len(links))"
   ]
  }
 ],
 "metadata": {
  "colab": {
   "collapsed_sections": [],
   "name": "selenium.ipynb",
   "provenance": []
  },
  "kernelspec": {
   "display_name": "Python 3",
   "language": "python",
   "name": "python3"
  },
  "language_info": {
   "codemirror_mode": {
    "name": "ipython",
    "version": 3
   },
   "file_extension": ".py",
   "mimetype": "text/x-python",
   "name": "python",
   "nbconvert_exporter": "python",
   "pygments_lexer": "ipython3",
   "version": "3.7.4"
  }
 },
 "nbformat": 4,
 "nbformat_minor": 1
}

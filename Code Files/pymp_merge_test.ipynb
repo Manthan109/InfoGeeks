{
  "nbformat": 4,
  "nbformat_minor": 0,
  "metadata": {
    "colab": {
      "name": "pymp_merge.ipynb",
      "provenance": [],
      "collapsed_sections": []
    },
    "kernelspec": {
      "name": "python3",
      "display_name": "Python 3"
    },
    "language_info": {
      "name": "python"
    }
  },
  "cells": [
    {
      "cell_type": "code",
      "metadata": {
        "colab": {
          "base_uri": "https://localhost:8080/"
        },
        "id": "Mpl0Vw2JLjy7",
        "outputId": "6229d898-deec-4488-eb91-82b041773291"
      },
      "source": [
        "!pip install pymp-pypi"
      ],
      "execution_count": 1,
      "outputs": [
        {
          "output_type": "stream",
          "text": [
            "Requirement already satisfied: pymp-pypi in /usr/local/lib/python3.7/dist-packages (0.4.3)\n"
          ],
          "name": "stdout"
        }
      ]
    },
    {
      "cell_type": "code",
      "metadata": {
        "id": "arUUThXmNpRt"
      },
      "source": [
        "import pymp"
      ],
      "execution_count": 5,
      "outputs": []
    },
    {
      "cell_type": "code",
      "metadata": {
        "id": "fUJk-FbSL6XT"
      },
      "source": [
        "def add(a, b):\n",
        "  print(a + b)\n",
        "\n",
        "def sub(a, b):\n",
        "  print(a - b)\n",
        "\n",
        "def mult(a, b):\n",
        "  print(a * b)\n",
        "\n",
        "def div(a, b):\n",
        "  print(a / b)"
      ],
      "execution_count": 8,
      "outputs": []
    },
    {
      "cell_type": "code",
      "metadata": {
        "id": "3qqtQ-WDL1h0"
      },
      "source": [
        "functions = [add, sub, mult, div]"
      ],
      "execution_count": 7,
      "outputs": []
    },
    {
      "cell_type": "code",
      "metadata": {
        "id": "-GltO-VyMLOW"
      },
      "source": [
        "a, b = 10, 2"
      ],
      "execution_count": 8,
      "outputs": []
    },
    {
      "cell_type": "code",
      "metadata": {
        "colab": {
          "base_uri": "https://localhost:8080/"
        },
        "id": "H8vgPGjVLnPL",
        "outputId": "df75a356-060f-4ac1-a72d-6e4dd2cb2c1a"
      },
      "source": [
        "import pymp\n",
        "\n",
        "with pymp.Parallel() as p:\n",
        "  for i in p.range(len(functions)):\n",
        "    functions[i](a, b)"
      ],
      "execution_count": 10,
      "outputs": [
        {
          "output_type": "stream",
          "text": [
            "20\n",
            "5.0\n",
            "12\n",
            "8\n"
          ],
          "name": "stdout"
        }
      ]
    },
    {
      "cell_type": "code",
      "metadata": {
        "id": "0EbA9EaWNBVM"
      },
      "source": [
        "result = []\n",
        "\n",
        "def add(a, b):\n",
        "   result.append(a + b)\n",
        "\n",
        "def sub(a, b):\n",
        "  result.append(a - b)\n",
        "\n",
        "def mult(a, b):\n",
        "  result.append(a * b)\n",
        "\n",
        "def div(a, b):\n",
        "  result.append(a / b)"
      ],
      "execution_count": 11,
      "outputs": []
    },
    {
      "cell_type": "code",
      "metadata": {
        "id": "HxDwac6OMQeG"
      },
      "source": [
        "with pymp.Parallel() as p:\n",
        "  for i in p.range(len(functions)):\n",
        "    functions[i](a, b)"
      ],
      "execution_count": 12,
      "outputs": []
    },
    {
      "cell_type": "code",
      "metadata": {
        "id": "FXL3J9vfNHBs"
      },
      "source": [
        "# global shared variable\n",
        "result = pymp.shared.list()"
      ],
      "execution_count": 17,
      "outputs": []
    },
    {
      "cell_type": "code",
      "metadata": {
        "id": "3gCenvQjOH6l"
      },
      "source": [
        "with pymp.Parallel() as p:\n",
        "  for i in p.range(len(functions)):\n",
        "    functions[i](a, b)"
      ],
      "execution_count": 18,
      "outputs": []
    },
    {
      "cell_type": "code",
      "metadata": {
        "colab": {
          "base_uri": "https://localhost:8080/"
        },
        "id": "2rcFRLcOM1Nh",
        "outputId": "fccd173e-f09f-48d5-f60f-1d9fff028799"
      },
      "source": [
        "print(list(result))"
      ],
      "execution_count": 19,
      "outputs": [
        {
          "output_type": "stream",
          "text": [
            "[20, 5.0, 12, 8]\n"
          ],
          "name": "stdout"
        }
      ]
    },
    {
      "cell_type": "code",
      "metadata": {
        "id": "vms_AgIOOT5X"
      },
      "source": [
        "# twittter-> tweets\n",
        "# github -> repo links\n",
        "# news links\n",
        "# summary--> non-parallel\n",
        "# youtube links --> parallel"
      ],
      "execution_count": null,
      "outputs": []
    }
  ]
}
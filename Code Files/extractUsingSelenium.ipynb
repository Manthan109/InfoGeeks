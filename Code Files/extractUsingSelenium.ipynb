{
  "nbformat": 4,
  "nbformat_minor": 0,
  "metadata": {
    "colab": {
      "name": "selenium.ipynb",
      "provenance": [],
      "collapsed_sections": []
    },
    "kernelspec": {
      "name": "python3",
      "display_name": "Python 3"
    },
    "language_info": {
      "name": "python"
    }
  },
  "cells": [
    {
      "cell_type": "markdown",
      "metadata": {
        "id": "Y1PnxCaNZ4tp"
      },
      "source": [
        "## Resources used\n",
        "1. https://www.browserstack.com/guide/python-selenium-to-run-web-automation-test\n",
        "2. https://dev.to/razgandeanu/selenium-cheat-sheet-9lc\n",
        "3. https://medium.com/analytics-vidhya/web-scraping-google-search-results-with-selenium-and-beautifulsoup-4c534817ad88"
      ]
    },
    {
      "cell_type": "markdown",
      "metadata": {
        "id": "H6qJfCfOY1Pi"
      },
      "source": [
        "## Installing drivers to use selenium on colab\n",
        "\n",
        "If you are running on a local system then i've mentioned the relevant steps in the code block of each cell. \n",
        "Only the setup varies, rest is same!!\n"
      ]
    },
    {
      "cell_type": "code",
      "metadata": {
        "colab": {
          "base_uri": "https://localhost:8080/"
        },
        "id": "pH7ial2QM9TQ",
        "outputId": "80df70c8-9b2d-4159-9278-a61856abb9be"
      },
      "source": [
        "# pip install selenium==3.141.0\n",
        "!pip install selenium"
      ],
      "execution_count": 2,
      "outputs": [
        {
          "output_type": "stream",
          "text": [
            "Collecting selenium\n",
            "\u001b[?25l  Downloading https://files.pythonhosted.org/packages/80/d6/4294f0b4bce4de0abf13e17190289f9d0613b0a44e5dd6a7f5ca98459853/selenium-3.141.0-py2.py3-none-any.whl (904kB)\n",
            "\u001b[K     |████████████████████████████████| 911kB 7.8MB/s \n",
            "\u001b[?25hRequirement already satisfied: urllib3 in /usr/local/lib/python3.7/dist-packages (from selenium) (1.24.3)\n",
            "Installing collected packages: selenium\n",
            "Successfully installed selenium-3.141.0\n"
          ],
          "name": "stdout"
        }
      ]
    },
    {
      "cell_type": "code",
      "metadata": {
        "id": "SpwkBvOKO8gs"
      },
      "source": [
        "# Manually install the chrome driver from https://sites.google.com/a/chromium.org/chromedriver/downloads.\n",
        "!apt-get update\n",
        "!apt install chromium-ch romedriver\n",
        "!cp /usr/lib/chromium-browser/chromedriver /usr/bin"
      ],
      "execution_count": null,
      "outputs": []
    },
    {
      "cell_type": "code",
      "metadata": {
        "id": "VAhtw6W3Tkkc"
      },
      "source": [
        "# remains same\n",
        "# In general, Selenium opens a virtual browser and executes all the commands we pass through our script\n",
        "from selenium import webdriver\n",
        "from selenium.webdriver.common.keys import Keys"
      ],
      "execution_count": null,
      "outputs": []
    },
    {
      "cell_type": "code",
      "metadata": {
        "colab": {
          "base_uri": "https://localhost:8080/"
        },
        "id": "lBdMk-lyQB_A",
        "outputId": "32b8d26c-1930-48cc-906e-7a762d75929e"
      },
      "source": [
        "# creating a chrome instance. \n",
        "chrome_options = webdriver.ChromeOptions()\n",
        "chrome_options.add_argument('--headless')\n",
        "chrome_options.add_argument('--no-sandbox')\n",
        "chrome_options.add_argument('--disable-dev-shm-usage')\n",
        "driver = webdriver.Chrome('chromedriver',chrome_options=chrome_options) # repalce the first argument with the path of your driver"
      ],
      "execution_count": 8,
      "outputs": [
        {
          "output_type": "stream",
          "text": [
            "/usr/local/lib/python3.7/dist-packages/ipykernel_launcher.py:5: DeprecationWarning: use options instead of chrome_options\n",
            "  \"\"\"\n"
          ],
          "name": "stderr"
        }
      ]
    },
    {
      "cell_type": "markdown",
      "metadata": {
        "id": "XSTsXY_9a7Tp"
      },
      "source": [
        "# Searching and extracting relevant information"
      ]
    },
    {
      "cell_type": "code",
      "metadata": {
        "id": "finuquKhO_B5"
      },
      "source": [
        "# accessing the webpage\n",
        "driver.get(\"https://www.google.co.in\")"
      ],
      "execution_count": 47,
      "outputs": []
    },
    {
      "cell_type": "code",
      "metadata": {
        "colab": {
          "base_uri": "https://localhost:8080/"
        },
        "id": "EJmMbhxYcYsV",
        "outputId": "55442609-348a-4361-fec7-e1058e1d302f"
      },
      "source": [
        "# checking the current url\n",
        "print(driver.current_url)"
      ],
      "execution_count": 48,
      "outputs": [
        {
          "output_type": "stream",
          "text": [
            "https://www.google.co.in/\n"
          ],
          "name": "stdout"
        }
      ]
    },
    {
      "cell_type": "markdown",
      "metadata": {
        "id": "Yu84j0tvelB3"
      },
      "source": [
        "### Finding the element\n",
        "Ways to find things from a webpage using selenium\n",
        "* find_elements_by_name\n",
        "* find_elements_by_xpath\n",
        "* find_elements_by_link_text\n",
        "* find_elements_by_partial_link_text\n",
        "* find_elements_by_tag_name\n",
        "* find_elements_by_class_name\n",
        "* find_elements_by_css_selector"
      ]
    },
    {
      "cell_type": "code",
      "metadata": {
        "colab": {
          "base_uri": "https://localhost:8080/"
        },
        "id": "VOKORpn3P7UC",
        "outputId": "6398c3e2-378f-439f-ea98-de6bde69d8b9"
      },
      "source": [
        "print(driver.title)"
      ],
      "execution_count": 49,
      "outputs": [
        {
          "output_type": "stream",
          "text": [
            "Google\n"
          ],
          "name": "stdout"
        }
      ]
    },
    {
      "cell_type": "code",
      "metadata": {
        "id": "WMVYlzQrQWZU"
      },
      "source": [
        "# accessing the search bar\n",
        "search_bar = driver.find_element_by_name(\"q\")"
      ],
      "execution_count": 50,
      "outputs": []
    },
    {
      "cell_type": "code",
      "metadata": {
        "id": "_tWJy-4_Qepv"
      },
      "source": [
        "# searching something through the search bar\n",
        "search_bar.clear()\n",
        "search_bar.send_keys(\"deep learning\")\n",
        "search_bar.send_keys(Keys.RETURN)"
      ],
      "execution_count": 51,
      "outputs": []
    },
    {
      "cell_type": "code",
      "metadata": {
        "id": "h8SeYSq423X_"
      },
      "source": [
        "# the_link_text = \"News\"\n",
        "# news = driver.find_element_by_link_text(the_link_text)\n",
        "# news.click()  # to redirect to this page"
      ],
      "execution_count": 44,
      "outputs": []
    },
    {
      "cell_type": "code",
      "metadata": {
        "colab": {
          "base_uri": "https://localhost:8080/"
        },
        "id": "1iM5oNcJ3bBG",
        "outputId": "ae9945bd-1ea7-457c-9376-ced4150954d4"
      },
      "source": [
        "# searching links for news and videos \n",
        "tags_list = [\"News\", \"Videos\"]\n",
        "tags_link = []\n",
        "\n",
        "\n",
        "for i in tags_list:\n",
        "  tags_link.append(driver.find_element_by_link_text(i).get_attribute('href'))\n",
        "\n",
        "\n",
        "# printing the link\n",
        "for i in tags_link:\n",
        "  print(i)"
      ],
      "execution_count": 56,
      "outputs": [
        {
          "output_type": "stream",
          "text": [
            "https://www.google.co.in/search?q=deep+learning&source=lnms&tbm=nws&sa=X&ved=2ahUKEwiClLrjxvvvAhXlGDQIHexmBlQQ_AUoAXoECAEQAw\n",
            "https://www.google.co.in/search?q=deep+learning&source=lnms&tbm=vid&sa=X&ved=2ahUKEwiClLrjxvvvAhXlGDQIHexmBlQQ_AUoA3oECAEQBQ\n"
          ],
          "name": "stdout"
        }
      ]
    },
    {
      "cell_type": "code",
      "metadata": {
        "id": "jafNRT7a4r8S"
      },
      "source": [
        "# extracting all the links from the news and vidoes pages using BeautifulSoup\n",
        "from bs4 import BeautifulSoup\n",
        "n_pages = 2\n",
        "results = list()\n",
        "\n",
        "# creating a list of list for storing all the links from news and videos tag\n",
        "for i in range(len(tags_link)):\n",
        "  results.append(list())\n",
        "  for page in range(1, n_pages):\n",
        "      # url = \"http://www.google.com/search?q=\" + query + \"&start=\" +   str((page - 1) * 10)\n",
        "      url = tags_link[i] +  str((page - 1) * 10)\n",
        "\n",
        "      driver.get(url)\n",
        "      soup = BeautifulSoup(driver.page_source, 'html.parser')\n",
        "      search = soup.find_all('div', class_=\"yuRUbf\" )\n",
        "      for h in search:\n",
        "          results[i].append(h.a.get('href'))"
      ],
      "execution_count": 111,
      "outputs": []
    },
    {
      "cell_type": "code",
      "metadata": {
        "colab": {
          "base_uri": "https://localhost:8080/"
        },
        "id": "svidJgQc9JLb",
        "outputId": "848a2c3a-991d-4cd1-ccc1-721a7aad9db0"
      },
      "source": [
        "for i in results:\n",
        "  print(i)"
      ],
      "execution_count": 80,
      "outputs": [
        {
          "output_type": "stream",
          "text": [
            "[]\n",
            "['https://www.youtube.com/watch?v=6M5VXKLf4D4', 'https://developer.nvidia.com/deep-learning', 'https://www.deeplearning.ai/program/deep-learning-specialization/', 'https://searchenterpriseai.techtarget.com/definition/deep-learning-deep-neural-network', 'https://bdtechtalks.com/2019/02/15/what-is-deep-learning-neural-networks/', 'https://www.forbes.com/sites/tomtaulli/2020/03/27/deep-learning-what-you-need-to-know/', 'https://towardsdatascience.com/introducing-deep-learning-and-neural-networks-deep-learning-for-rookies-1-bd68f9cf5883', 'https://builtin.com/artificial-intelligence/deep-learning', 'https://www.pcmag.com/news/what-is-deep-learning', 'https://serokell.io/blog/deep-learning-and-neural-network-guide']\n"
          ],
          "name": "stdout"
        }
      ]
    },
    {
      "cell_type": "markdown",
      "metadata": {
        "id": "qO5Y3E8jG3Jd"
      },
      "source": [
        "Unable to fetch all the links for news artciles. Some class related error. Will do it tomorrow!!"
      ]
    }
  ]
}
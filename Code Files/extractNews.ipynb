{
  "nbformat": 4,
  "nbformat_minor": 0,
  "metadata": {
    "colab": {
      "name": "News_scraper.ipynb",
      "provenance": [],
      "collapsed_sections": []
    },
    "kernelspec": {
      "name": "python3",
      "display_name": "Python 3"
    },
    "language_info": {
      "name": "python"
    }
  },
  "cells": [
    {
      "cell_type": "markdown",
      "metadata": {
        "id": "trHWmsAJhQKM"
      },
      "source": [
        "Scraping New York Times News Articles <br>\n",
        "Website link: [nytimes.com](https://nytimes.com)\n"
      ]
    },
    {
      "cell_type": "markdown",
      "metadata": {
        "id": "hAc50kBghoMi"
      },
      "source": [
        "Scrape article metadata and comments from NYTimes"
      ]
    },
    {
      "cell_type": "code",
      "metadata": {
        "colab": {
          "base_uri": "https://localhost:8080/"
        },
        "id": "UwkY9SzahA-3",
        "outputId": "71bf970b-e3f8-4a28-aa2d-3796b7b77897"
      },
      "source": [
        "!pip install nytimes-scraper"
      ],
      "execution_count": 1,
      "outputs": [
        {
          "output_type": "stream",
          "text": [
            "Collecting nytimes-scraper\n",
            "  Downloading https://files.pythonhosted.org/packages/ff/f5/30d726ec6e3cb4270d9a8fc0f6493b3ad0b9d2320620665de97c3f8b3f4e/nytimes_scraper-1.1.2-py3-none-any.whl\n",
            "Requirement already satisfied: requests in /usr/local/lib/python3.7/dist-packages (from nytimes-scraper) (2.23.0)\n",
            "Collecting cssselect\n",
            "  Downloading https://files.pythonhosted.org/packages/3b/d4/3b5c17f00cce85b9a1e6f91096e1cc8e8ede2e1be8e96b87ce1ed09e92c5/cssselect-1.1.0-py2.py3-none-any.whl\n",
            "Collecting fire\n",
            "\u001b[?25l  Downloading https://files.pythonhosted.org/packages/11/07/a119a1aa04d37bc819940d95ed7e135a7dcca1c098123a3764a6dcace9e7/fire-0.4.0.tar.gz (87kB)\n",
            "\u001b[K     |████████████████████████████████| 92kB 3.2MB/s \n",
            "\u001b[?25hRequirement already satisfied: lxml in /usr/local/lib/python3.7/dist-packages (from nytimes-scraper) (4.2.6)\n",
            "Requirement already satisfied: tqdm in /usr/local/lib/python3.7/dist-packages (from nytimes-scraper) (4.41.1)\n",
            "Requirement already satisfied: pandas in /usr/local/lib/python3.7/dist-packages (from nytimes-scraper) (1.1.5)\n",
            "Requirement already satisfied: urllib3!=1.25.0,!=1.25.1,<1.26,>=1.21.1 in /usr/local/lib/python3.7/dist-packages (from requests->nytimes-scraper) (1.24.3)\n",
            "Requirement already satisfied: chardet<4,>=3.0.2 in /usr/local/lib/python3.7/dist-packages (from requests->nytimes-scraper) (3.0.4)\n",
            "Requirement already satisfied: certifi>=2017.4.17 in /usr/local/lib/python3.7/dist-packages (from requests->nytimes-scraper) (2020.12.5)\n",
            "Requirement already satisfied: idna<3,>=2.5 in /usr/local/lib/python3.7/dist-packages (from requests->nytimes-scraper) (2.10)\n",
            "Requirement already satisfied: six in /usr/local/lib/python3.7/dist-packages (from fire->nytimes-scraper) (1.15.0)\n",
            "Requirement already satisfied: termcolor in /usr/local/lib/python3.7/dist-packages (from fire->nytimes-scraper) (1.1.0)\n",
            "Requirement already satisfied: numpy>=1.15.4 in /usr/local/lib/python3.7/dist-packages (from pandas->nytimes-scraper) (1.19.5)\n",
            "Requirement already satisfied: pytz>=2017.2 in /usr/local/lib/python3.7/dist-packages (from pandas->nytimes-scraper) (2018.9)\n",
            "Requirement already satisfied: python-dateutil>=2.7.3 in /usr/local/lib/python3.7/dist-packages (from pandas->nytimes-scraper) (2.8.1)\n",
            "Building wheels for collected packages: fire\n",
            "  Building wheel for fire (setup.py) ... \u001b[?25l\u001b[?25hdone\n",
            "  Created wheel for fire: filename=fire-0.4.0-py2.py3-none-any.whl size=115928 sha256=c9fad3f882f76f946c3ecd418f360b0709950894f6d52157d5918d28f81b6764\n",
            "  Stored in directory: /root/.cache/pip/wheels/af/19/30/1ea0cad502dcb4e66ed5a690279628c827aea38bbbab75d5ed\n",
            "Successfully built fire\n",
            "Installing collected packages: cssselect, fire, nytimes-scraper\n",
            "Successfully installed cssselect-1.1.0 fire-0.4.0 nytimes-scraper-1.1.2\n"
          ],
          "name": "stdout"
        }
      ]
    },
    {
      "cell_type": "code",
      "metadata": {
        "colab": {
          "base_uri": "https://localhost:8080/"
        },
        "id": "ps-BZjpOhkwF",
        "outputId": "c8ea8d62-2c25-4f8a-baf7-01235a697689"
      },
      "source": [
        "import datetime as dt\n",
        "from nytimes_scraper.nyt_api import NytApi\n",
        "from nytimes_scraper.articles import fetch_articles_by_month, articles_to_df\n",
        "from nytimes_scraper.comments import fetch_comments, fetch_comments_by_article, comments_to_df\n",
        "\n",
        "api_key = \"4g1zTdzosZ7PSqm7TzSXhPQJuY5IbsJU\"\n",
        "api = NytApi(api_key)\n",
        "\n",
        "comments_b = fetch_comments(api, article_ids_and_urls=[\n",
        "    ('nyt://article/316ef65c-7021-5755-885c-a9e1ef2cfdf2', 'https://www.nytimes.com/2020/01/03/world/middleeast/trump-iran-suleimani.html'),\n",
        "    ('nyt://article/b2d1b802-412e-51f7-8864-efc931e87bb3', 'https://www.nytimes.com/2020/01/04/opinion/impeachment-witnesses.html'),\n",
        "])"
      ],
      "execution_count": 10,
      "outputs": [
        {
          "output_type": "stream",
          "text": [
            "\n",
            "\n",
            "\n",
            "  0%|          | 0/2 [00:00<?, ?Article/s]\u001b[A\u001b[A\u001b[A\n",
            "\n",
            "\n",
            " 50%|█████     | 1/2 [00:57<00:57, 57.76s/Article]\u001b[A\u001b[A\u001b[A\n",
            "\n",
            "\n",
            "100%|██████████| 2/2 [01:39<00:00, 49.88s/Article]\n"
          ],
          "name": "stderr"
        }
      ]
    },
    {
      "cell_type": "code",
      "metadata": {
        "id": "u-v4x3WamfKp"
      },
      "source": [
        "comments_c = comments_to_df(comments_b)"
      ],
      "execution_count": 12,
      "outputs": []
    },
    {
      "cell_type": "code",
      "metadata": {
        "id": "t1oWZAVEoEgl"
      },
      "source": [
        "req_cols = [\"userLocation\", \"commentBody\", \"createDate\", \"recommendations\", \"replyCount\", \"commentType\", \"articleID\"]\n",
        "comments_df = comments_c[req_cols]"
      ],
      "execution_count": 14,
      "outputs": []
    },
    {
      "cell_type": "code",
      "metadata": {
        "colab": {
          "base_uri": "https://localhost:8080/"
        },
        "id": "nhM84HeioS1x",
        "outputId": "3747aced-6fc4-4fbb-9370-4066140a174d"
      },
      "source": [
        "comments_df.size"
      ],
      "execution_count": 15,
      "outputs": [
        {
          "output_type": "execute_result",
          "data": {
            "text/plain": [
              "14567"
            ]
          },
          "metadata": {
            "tags": []
          },
          "execution_count": 15
        }
      ]
    },
    {
      "cell_type": "code",
      "metadata": {
        "colab": {
          "base_uri": "https://localhost:8080/",
          "height": 601
        },
        "id": "C4J5FJqno4w1",
        "outputId": "bc95b20d-82dc-4823-e19d-4bb4767f5ce6"
      },
      "source": [
        "comments_df"
      ],
      "execution_count": 16,
      "outputs": [
        {
          "output_type": "execute_result",
          "data": {
            "text/html": [
              "<div>\n",
              "<style scoped>\n",
              "    .dataframe tbody tr th:only-of-type {\n",
              "        vertical-align: middle;\n",
              "    }\n",
              "\n",
              "    .dataframe tbody tr th {\n",
              "        vertical-align: top;\n",
              "    }\n",
              "\n",
              "    .dataframe thead th {\n",
              "        text-align: right;\n",
              "    }\n",
              "</style>\n",
              "<table border=\"1\" class=\"dataframe\">\n",
              "  <thead>\n",
              "    <tr style=\"text-align: right;\">\n",
              "      <th></th>\n",
              "      <th>userLocation</th>\n",
              "      <th>commentBody</th>\n",
              "      <th>createDate</th>\n",
              "      <th>recommendations</th>\n",
              "      <th>replyCount</th>\n",
              "      <th>commentType</th>\n",
              "      <th>articleID</th>\n",
              "    </tr>\n",
              "    <tr>\n",
              "      <th>commentID</th>\n",
              "      <th></th>\n",
              "      <th></th>\n",
              "      <th></th>\n",
              "      <th></th>\n",
              "      <th></th>\n",
              "      <th></th>\n",
              "      <th></th>\n",
              "    </tr>\n",
              "  </thead>\n",
              "  <tbody>\n",
              "    <tr>\n",
              "      <th>104419446</th>\n",
              "      <td>Cheltenham PA</td>\n",
              "      <td>I don’t think Trump had a choice.  And if Iran...</td>\n",
              "      <td>2020-01-03 14:50:19</td>\n",
              "      <td>17</td>\n",
              "      <td>15</td>\n",
              "      <td>comment</td>\n",
              "      <td>nyt://article/316ef65c-7021-5755-885c-a9e1ef2c...</td>\n",
              "    </tr>\n",
              "    <tr>\n",
              "      <th>104419689</th>\n",
              "      <td>TEJAS</td>\n",
              "      <td>He always has a choice and this time he did no...</td>\n",
              "      <td>2020-01-03 15:02:17</td>\n",
              "      <td>11</td>\n",
              "      <td>0</td>\n",
              "      <td>userReply</td>\n",
              "      <td>nyt://article/316ef65c-7021-5755-885c-a9e1ef2c...</td>\n",
              "    </tr>\n",
              "    <tr>\n",
              "      <th>104419879</th>\n",
              "      <td>Phoenix, AZ</td>\n",
              "      <td>@ Michael Livingston’s you are wrong. There’s ...</td>\n",
              "      <td>2020-01-03 15:11:05</td>\n",
              "      <td>84</td>\n",
              "      <td>0</td>\n",
              "      <td>userReply</td>\n",
              "      <td>nyt://article/316ef65c-7021-5755-885c-a9e1ef2c...</td>\n",
              "    </tr>\n",
              "    <tr>\n",
              "      <th>104419929</th>\n",
              "      <td>NH</td>\n",
              "      <td>@Michael Livingston’s \\nDon't forget how the f...</td>\n",
              "      <td>2020-01-03 15:12:59</td>\n",
              "      <td>117</td>\n",
              "      <td>0</td>\n",
              "      <td>userReply</td>\n",
              "      <td>nyt://article/316ef65c-7021-5755-885c-a9e1ef2c...</td>\n",
              "    </tr>\n",
              "    <tr>\n",
              "      <th>104419839</th>\n",
              "      <td>Takoma Park, MD</td>\n",
              "      <td>@Michael Livingston’s \\n\\nI don't think that T...</td>\n",
              "      <td>2020-01-03 15:09:20</td>\n",
              "      <td>37</td>\n",
              "      <td>0</td>\n",
              "      <td>userReply</td>\n",
              "      <td>nyt://article/316ef65c-7021-5755-885c-a9e1ef2c...</td>\n",
              "    </tr>\n",
              "    <tr>\n",
              "      <th>...</th>\n",
              "      <td>...</td>\n",
              "      <td>...</td>\n",
              "      <td>...</td>\n",
              "      <td>...</td>\n",
              "      <td>...</td>\n",
              "      <td>...</td>\n",
              "      <td>...</td>\n",
              "    </tr>\n",
              "    <tr>\n",
              "      <th>104455126</th>\n",
              "      <td>calgary, alberta</td>\n",
              "      <td>NOBODY CARES!\\n\\nHonestly it's not going to ch...</td>\n",
              "      <td>2020-01-05 21:02:18</td>\n",
              "      <td>5</td>\n",
              "      <td>0</td>\n",
              "      <td>comment</td>\n",
              "      <td>nyt://article/b2d1b802-412e-51f7-8864-efc931e8...</td>\n",
              "    </tr>\n",
              "    <tr>\n",
              "      <th>104455627</th>\n",
              "      <td>Toronto</td>\n",
              "      <td>Trump: “I want them to testify in the Senate w...</td>\n",
              "      <td>2020-01-05 22:12:54</td>\n",
              "      <td>35</td>\n",
              "      <td>0</td>\n",
              "      <td>comment</td>\n",
              "      <td>nyt://article/b2d1b802-412e-51f7-8864-efc931e8...</td>\n",
              "    </tr>\n",
              "    <tr>\n",
              "      <th>104455082</th>\n",
              "      <td>NC</td>\n",
              "      <td>The president can shoot someone on 5th avenue ...</td>\n",
              "      <td>2020-01-05 20:56:47</td>\n",
              "      <td>46</td>\n",
              "      <td>0</td>\n",
              "      <td>comment</td>\n",
              "      <td>nyt://article/b2d1b802-412e-51f7-8864-efc931e8...</td>\n",
              "    </tr>\n",
              "    <tr>\n",
              "      <th>104455081</th>\n",
              "      <td>Brooklyn</td>\n",
              "      <td>McConnell MUST GO! Support Amy McGrath who is ...</td>\n",
              "      <td>2020-01-05 20:56:40</td>\n",
              "      <td>135</td>\n",
              "      <td>0</td>\n",
              "      <td>comment</td>\n",
              "      <td>nyt://article/b2d1b802-412e-51f7-8864-efc931e8...</td>\n",
              "    </tr>\n",
              "    <tr>\n",
              "      <th>104455249</th>\n",
              "      <td>Seattle</td>\n",
              "      <td>Chronic liars persistently dig themselves into...</td>\n",
              "      <td>2020-01-05 21:20:11</td>\n",
              "      <td>60</td>\n",
              "      <td>0</td>\n",
              "      <td>comment</td>\n",
              "      <td>nyt://article/b2d1b802-412e-51f7-8864-efc931e8...</td>\n",
              "    </tr>\n",
              "  </tbody>\n",
              "</table>\n",
              "<p>2081 rows × 7 columns</p>\n",
              "</div>"
            ],
            "text/plain": [
              "               userLocation  ...                                          articleID\n",
              "commentID                    ...                                                   \n",
              "104419446     Cheltenham PA  ...  nyt://article/316ef65c-7021-5755-885c-a9e1ef2c...\n",
              "104419689             TEJAS  ...  nyt://article/316ef65c-7021-5755-885c-a9e1ef2c...\n",
              "104419879       Phoenix, AZ  ...  nyt://article/316ef65c-7021-5755-885c-a9e1ef2c...\n",
              "104419929                NH  ...  nyt://article/316ef65c-7021-5755-885c-a9e1ef2c...\n",
              "104419839   Takoma Park, MD  ...  nyt://article/316ef65c-7021-5755-885c-a9e1ef2c...\n",
              "...                     ...  ...                                                ...\n",
              "104455126  calgary, alberta  ...  nyt://article/b2d1b802-412e-51f7-8864-efc931e8...\n",
              "104455627           Toronto  ...  nyt://article/b2d1b802-412e-51f7-8864-efc931e8...\n",
              "104455082                NC  ...  nyt://article/b2d1b802-412e-51f7-8864-efc931e8...\n",
              "104455081          Brooklyn  ...  nyt://article/b2d1b802-412e-51f7-8864-efc931e8...\n",
              "104455249           Seattle  ...  nyt://article/b2d1b802-412e-51f7-8864-efc931e8...\n",
              "\n",
              "[2081 rows x 7 columns]"
            ]
          },
          "metadata": {
            "tags": []
          },
          "execution_count": 16
        }
      ]
    },
    {
      "cell_type": "markdown",
      "metadata": {
        "id": "0d2s0X3Pp9-x"
      },
      "source": [
        "## NewsAPI"
      ]
    },
    {
      "cell_type": "code",
      "metadata": {
        "id": "KUi6ucexo6du"
      },
      "source": [
        "import requests\n",
        "from bs4 import BeautifulSoup\n",
        "import pprint\n",
        "import pandas as pd\n",
        "import numpy as np"
      ],
      "execution_count": 17,
      "outputs": []
    },
    {
      "cell_type": "code",
      "metadata": {
        "id": "qX-mfM7KqJNm"
      },
      "source": [
        "url = \"https://newsapi.org/v2/everything\"\n",
        "api_key = \"ee93b76bdcf94864a2bb399229216d88\""
      ],
      "execution_count": 18,
      "outputs": []
    },
    {
      "cell_type": "code",
      "metadata": {
        "colab": {
          "base_uri": "https://localhost:8080/"
        },
        "id": "tBSy-yxvrXBW",
        "outputId": "e25edd02-6cbc-4474-e611-96f93cd32c45"
      },
      "source": [
        "search_term = input(\"Enter a search keyword: \")"
      ],
      "execution_count": 54,
      "outputs": [
        {
          "output_type": "stream",
          "text": [
            "Enter a search keyword: data science\n"
          ],
          "name": "stdout"
        }
      ]
    },
    {
      "cell_type": "code",
      "metadata": {
        "id": "Spaxscgnqiuu"
      },
      "source": [
        "params = {\n",
        "    'q': search_term,\n",
        "    'pageSize': 25,\n",
        "    'apiKey': api_key,\n",
        "    'from': '2021-03-15'\n",
        "}\n",
        "\n",
        "response = requests.get(url, params = params)\n",
        "response_json = response.json()"
      ],
      "execution_count": 55,
      "outputs": []
    },
    {
      "cell_type": "code",
      "metadata": {
        "id": "lzZNrPOXq6-6"
      },
      "source": [
        "response_json"
      ],
      "execution_count": null,
      "outputs": []
    },
    {
      "cell_type": "code",
      "metadata": {
        "colab": {
          "base_uri": "https://localhost:8080/"
        },
        "id": "xtdHRhZMq_O2",
        "outputId": "f6d3f868-b7c3-46d7-e4ba-592b799950bd"
      },
      "source": [
        "response_json.keys()"
      ],
      "execution_count": 57,
      "outputs": [
        {
          "output_type": "execute_result",
          "data": {
            "text/plain": [
              "dict_keys(['status', 'totalResults', 'articles'])"
            ]
          },
          "metadata": {
            "tags": []
          },
          "execution_count": 57
        }
      ]
    },
    {
      "cell_type": "code",
      "metadata": {
        "colab": {
          "base_uri": "https://localhost:8080/"
        },
        "id": "365EEi_dru4K",
        "outputId": "ec8b2490-e3eb-467b-aad5-bbc413bd0676"
      },
      "source": [
        "response_json['totalResults']"
      ],
      "execution_count": 45,
      "outputs": [
        {
          "output_type": "execute_result",
          "data": {
            "text/plain": [
              "394395"
            ]
          },
          "metadata": {
            "tags": []
          },
          "execution_count": 45
        }
      ]
    },
    {
      "cell_type": "code",
      "metadata": {
        "id": "wH17tXUrry-2"
      },
      "source": [
        "search_articles = response_json['articles']"
      ],
      "execution_count": 58,
      "outputs": []
    },
    {
      "cell_type": "code",
      "metadata": {
        "id": "yYWVFkfnsm2u"
      },
      "source": [
        "def get_articles(file):\n",
        "  article_results = []\n",
        "\n",
        "  for i in range(len(file)):\n",
        "    article_dict = {}\n",
        "    article_dict['title'] = file[i]['title']\n",
        "    article_dict['author'] = file[i]['author']\n",
        "    article_dict['source'] = file[i]['source']\n",
        "    article_dict['description'] = file[i]['content']\n",
        "    article_dict['pub_date'] = file[i]['publishedAt']\n",
        "    article_dict['url'] = file[i]['url']\n",
        "    article_dict['photo_url'] = file[i]['urlToImage']\n",
        "\n",
        "    article_results.append(article_dict)\n",
        "    \n",
        "  return article_results"
      ],
      "execution_count": 59,
      "outputs": []
    },
    {
      "cell_type": "code",
      "metadata": {
        "id": "Wo6553Pwtp2R"
      },
      "source": [
        "# creating a pandas dataframe\n",
        "search_df = pd.DataFrame(get_articles(search_articles))"
      ],
      "execution_count": 60,
      "outputs": []
    },
    {
      "cell_type": "code",
      "metadata": {
        "colab": {
          "base_uri": "https://localhost:8080/",
          "height": 568
        },
        "id": "GAe-hbhouTk7",
        "outputId": "9bb119fc-fc4a-4a89-a307-a6dc4f399ede"
      },
      "source": [
        "search_df.head()"
      ],
      "execution_count": 62,
      "outputs": [
        {
          "output_type": "execute_result",
          "data": {
            "text/html": [
              "<div>\n",
              "<style scoped>\n",
              "    .dataframe tbody tr th:only-of-type {\n",
              "        vertical-align: middle;\n",
              "    }\n",
              "\n",
              "    .dataframe tbody tr th {\n",
              "        vertical-align: top;\n",
              "    }\n",
              "\n",
              "    .dataframe thead th {\n",
              "        text-align: right;\n",
              "    }\n",
              "</style>\n",
              "<table border=\"1\" class=\"dataframe\">\n",
              "  <thead>\n",
              "    <tr style=\"text-align: right;\">\n",
              "      <th></th>\n",
              "      <th>title</th>\n",
              "      <th>author</th>\n",
              "      <th>source</th>\n",
              "      <th>description</th>\n",
              "      <th>pub_date</th>\n",
              "      <th>url</th>\n",
              "      <th>photo_url</th>\n",
              "    </tr>\n",
              "  </thead>\n",
              "  <tbody>\n",
              "    <tr>\n",
              "      <th>0</th>\n",
              "      <td>How to recruit data scientists without paying ...</td>\n",
              "      <td>Walter Thompson</td>\n",
              "      <td>{'id': 'techcrunch', 'name': 'TechCrunch'}</td>\n",
              "      <td>More posts by this contributor\\r\\nWhen it come...</td>\n",
              "      <td>2021-03-17T20:08:53Z</td>\n",
              "      <td>http://techcrunch.com/2021/03/17/how-to-recrui...</td>\n",
              "      <td>https://techcrunch.com/wp-content/uploads/2021...</td>\n",
              "    </tr>\n",
              "    <tr>\n",
              "      <th>1</th>\n",
              "      <td>Aiming to become the definitive source for loc...</td>\n",
              "      <td>Anthony Ha</td>\n",
              "      <td>{'id': 'techcrunch', 'name': 'TechCrunch'}</td>\n",
              "      <td>While there are plenty of companies selling da...</td>\n",
              "      <td>2021-03-16T16:02:50Z</td>\n",
              "      <td>http://techcrunch.com/2021/03/16/safegraph-ser...</td>\n",
              "      <td>https://techcrunch.com/wp-content/uploads/2020...</td>\n",
              "    </tr>\n",
              "    <tr>\n",
              "      <th>2</th>\n",
              "      <td>This $40 computer science training includes cl...</td>\n",
              "      <td>https://www.engadget.com/about/editors/stack-c...</td>\n",
              "      <td>{'id': 'engadget', 'name': 'Engadget'}</td>\n",
              "      <td>Learning foundational IT, data science or prog...</td>\n",
              "      <td>2021-03-25T14:55:56Z</td>\n",
              "      <td>https://www.engadget.com/2021-complete-compute...</td>\n",
              "      <td>https://s.yimg.com/os/creatr-uploaded-images/2...</td>\n",
              "    </tr>\n",
              "    <tr>\n",
              "      <th>3</th>\n",
              "      <td>Learn the basics of data science with this sta...</td>\n",
              "      <td>Joseph Green</td>\n",
              "      <td>{'id': 'mashable', 'name': 'Mashable'}</td>\n",
              "      <td>TL;DR: The Complete Excel, VBA, and Data Scien...</td>\n",
              "      <td>2021-03-15T05:00:00Z</td>\n",
              "      <td>https://mashable.com/uk/shopping/march-15-data...</td>\n",
              "      <td>https://mondrian.mashable.com/2021%252F03%252F...</td>\n",
              "    </tr>\n",
              "    <tr>\n",
              "      <th>4</th>\n",
              "      <td>Expand your job opportunities with computer sc...</td>\n",
              "      <td>Jae Thomas</td>\n",
              "      <td>{'id': 'mashable', 'name': 'Mashable'}</td>\n",
              "      <td>TL;DR: Brush up on coding, data science, and m...</td>\n",
              "      <td>2021-03-23T09:00:00Z</td>\n",
              "      <td>https://mashable.com/shopping/march-23-2021-co...</td>\n",
              "      <td>https://mondrian.mashable.com/2021%252F03%252F...</td>\n",
              "    </tr>\n",
              "  </tbody>\n",
              "</table>\n",
              "</div>"
            ],
            "text/plain": [
              "                                               title  ...                                          photo_url\n",
              "0  How to recruit data scientists without paying ...  ...  https://techcrunch.com/wp-content/uploads/2021...\n",
              "1  Aiming to become the definitive source for loc...  ...  https://techcrunch.com/wp-content/uploads/2020...\n",
              "2  This $40 computer science training includes cl...  ...  https://s.yimg.com/os/creatr-uploaded-images/2...\n",
              "3  Learn the basics of data science with this sta...  ...  https://mondrian.mashable.com/2021%252F03%252F...\n",
              "4  Expand your job opportunities with computer sc...  ...  https://mondrian.mashable.com/2021%252F03%252F...\n",
              "\n",
              "[5 rows x 7 columns]"
            ]
          },
          "metadata": {
            "tags": []
          },
          "execution_count": 62
        }
      ]
    },
    {
      "cell_type": "code",
      "metadata": {
        "id": "2XoneqdSuUte"
      },
      "source": [
        "# formatting source\n",
        "def source_getter(df):\n",
        "  source = []\n",
        "  for source_dict in df['source']:\n",
        "    source.append(source_dict['name'])\n",
        "  df['source'] = source"
      ],
      "execution_count": 63,
      "outputs": []
    },
    {
      "cell_type": "code",
      "metadata": {
        "id": "ivmkP0kKunVS"
      },
      "source": [
        "source_getter(search_df)"
      ],
      "execution_count": 64,
      "outputs": []
    },
    {
      "cell_type": "code",
      "metadata": {
        "colab": {
          "base_uri": "https://localhost:8080/"
        },
        "id": "y9LvhWl3u0KY",
        "outputId": "9286014c-0d59-4cf1-bec3-69c2f30f704a"
      },
      "source": [
        "search_df.shape"
      ],
      "execution_count": 65,
      "outputs": [
        {
          "output_type": "execute_result",
          "data": {
            "text/plain": [
              "(25, 7)"
            ]
          },
          "metadata": {
            "tags": []
          },
          "execution_count": 65
        }
      ]
    },
    {
      "cell_type": "code",
      "metadata": {
        "colab": {
          "base_uri": "https://localhost:8080/"
        },
        "id": "YbEpi-q9vmiP",
        "outputId": "723c2ff1-e600-41f4-9df9-39751d44eefb"
      },
      "source": [
        "pd.set_option('display.max_colwidth', -1)"
      ],
      "execution_count": 68,
      "outputs": [
        {
          "output_type": "stream",
          "text": [
            "/usr/local/lib/python3.7/dist-packages/ipykernel_launcher.py:1: FutureWarning: Passing a negative integer is deprecated in version 1.0 and will not be supported in future version. Instead, use None to not limit the column width.\n",
            "  \"\"\"Entry point for launching an IPython kernel.\n"
          ],
          "name": "stderr"
        }
      ]
    },
    {
      "cell_type": "code",
      "metadata": {
        "colab": {
          "base_uri": "https://localhost:8080/",
          "height": 1000
        },
        "id": "aNgeYpoAuqDb",
        "outputId": "9679b4ed-ef74-4237-8231-8cd2da740ae2"
      },
      "source": [
        "search_df"
      ],
      "execution_count": 69,
      "outputs": [
        {
          "output_type": "execute_result",
          "data": {
            "text/html": [
              "<div>\n",
              "<style scoped>\n",
              "    .dataframe tbody tr th:only-of-type {\n",
              "        vertical-align: middle;\n",
              "    }\n",
              "\n",
              "    .dataframe tbody tr th {\n",
              "        vertical-align: top;\n",
              "    }\n",
              "\n",
              "    .dataframe thead th {\n",
              "        text-align: right;\n",
              "    }\n",
              "</style>\n",
              "<table border=\"1\" class=\"dataframe\">\n",
              "  <thead>\n",
              "    <tr style=\"text-align: right;\">\n",
              "      <th></th>\n",
              "      <th>title</th>\n",
              "      <th>author</th>\n",
              "      <th>source</th>\n",
              "      <th>description</th>\n",
              "      <th>pub_date</th>\n",
              "      <th>url</th>\n",
              "      <th>photo_url</th>\n",
              "    </tr>\n",
              "  </thead>\n",
              "  <tbody>\n",
              "    <tr>\n",
              "      <th>0</th>\n",
              "      <td>How to recruit data scientists without paying top dollar</td>\n",
              "      <td>Walter Thompson</td>\n",
              "      <td>TechCrunch</td>\n",
              "      <td>More posts by this contributor\\r\\nWhen it comes to building a data science team, many companies fail at the first step creating a job posting. These mistakes have been amplified in the age of COVID-19.… [+3674 chars]</td>\n",
              "      <td>2021-03-17T20:08:53Z</td>\n",
              "      <td>http://techcrunch.com/2021/03/17/how-to-recruit-data-scientists-without-paying-top-dollar/</td>\n",
              "      <td>https://techcrunch.com/wp-content/uploads/2021/03/GettyImages-1213043174.jpg?w=600</td>\n",
              "    </tr>\n",
              "    <tr>\n",
              "      <th>1</th>\n",
              "      <td>Aiming to become the definitive source for location data, SafeGraph raises $45M</td>\n",
              "      <td>Anthony Ha</td>\n",
              "      <td>TechCrunch</td>\n",
              "      <td>While there are plenty of companies selling data about physical locations, SafeGraph CEO Auren Hoffman said his startup is one of the few companies to sell this data to data science teams.\\r\\nFor the m… [+2386 chars]</td>\n",
              "      <td>2021-03-16T16:02:50Z</td>\n",
              "      <td>http://techcrunch.com/2021/03/16/safegraph-series-b/</td>\n",
              "      <td>https://techcrunch.com/wp-content/uploads/2020/02/GettyImages-868376176.jpg?w=600</td>\n",
              "    </tr>\n",
              "    <tr>\n",
              "      <th>2</th>\n",
              "      <td>This $40 computer science training includes classes on Python, Linux and more</td>\n",
              "      <td>https://www.engadget.com/about/editors/stack-commerce</td>\n",
              "      <td>Engadget</td>\n",
              "      <td>Learning foundational IT, data science or programming skills is necessary if you want to work in a technical field, but using them outside of these environments can benefit your productivity and effi… [+2008 chars]</td>\n",
              "      <td>2021-03-25T14:55:56Z</td>\n",
              "      <td>https://www.engadget.com/2021-complete-computer-science-training-bundle-145556015.html</td>\n",
              "      <td>https://s.yimg.com/os/creatr-uploaded-images/2021-03/66df4a10-8bf5-11eb-9efd-1d5d2561882e</td>\n",
              "    </tr>\n",
              "    <tr>\n",
              "      <th>3</th>\n",
              "      <td>Learn the basics of data science with this stacked online training bundle</td>\n",
              "      <td>Joseph Green</td>\n",
              "      <td>Mashable</td>\n",
              "      <td>TL;DR: The Complete Excel, VBA, and Data Science Certification Training Bundle is on sale for £32.27 as of March 15, saving you 98% on list price.\\r\\nAnyone looking to make this promising career change… [+1041 chars]</td>\n",
              "      <td>2021-03-15T05:00:00Z</td>\n",
              "      <td>https://mashable.com/uk/shopping/march-15-data-science-online-couses/</td>\n",
              "      <td>https://mondrian.mashable.com/2021%252F03%252F15%252Fa6%252Fd0ffe2e7098340e5a1a22f6020a53801.a4ecb.jpg%252F1200x630.jpg?signature=Q3ACYeLeQ47qt4TFLd_gv5tZSro=</td>\n",
              "    </tr>\n",
              "    <tr>\n",
              "      <th>4</th>\n",
              "      <td>Expand your job opportunities with computer science courses on sale</td>\n",
              "      <td>Jae Thomas</td>\n",
              "      <td>Mashable</td>\n",
              "      <td>TL;DR: Brush up on coding, data science, and more with the 2021 Complete Computer Science Training Bundle. As of March 23, get the full bundle for only $39.99.\\r\\nComputer science is always evolving. I… [+1811 chars]</td>\n",
              "      <td>2021-03-23T09:00:00Z</td>\n",
              "      <td>https://mashable.com/shopping/march-23-2021-complete-computer-science-training-bundle/</td>\n",
              "      <td>https://mondrian.mashable.com/2021%252F03%252F23%252Fec%252F3042ad8bdb894cd389fc7fd089f370f1.cd3c2.jpg%252F1200x630.jpg?signature=7mEmurHacyjvWuwMH4CkjFL0xEE=</td>\n",
              "    </tr>\n",
              "    <tr>\n",
              "      <th>5</th>\n",
              "      <td>Adjusted AstraZeneca data shows COVID-19 vaccine 76 percent effective</td>\n",
              "      <td>Nicole Wetsman</td>\n",
              "      <td>The Verge</td>\n",
              "      <td>Federal officials publicly rebuked the company earlier this week\\r\\nIllustration by Alex Castro / The Verge\\r\\nAstraZeneca released updated data on its COVID-19 vaccine, saying a more recent analysis sho… [+2413 chars]</td>\n",
              "      <td>2021-03-25T12:35:54Z</td>\n",
              "      <td>https://www.theverge.com/2021/3/25/22346706/covid-vaccine-astrazeneca-data-niaid-effective</td>\n",
              "      <td>https://cdn.vox-cdn.com/thumbor/jfkZWS8mK3qGxWf2P0wPVG6r_hQ=/0x146:2040x1214/fit-in/1200x630/cdn.vox-cdn.com/uploads/chorus_asset/file/22357718/acastro_210309_1777_vaccine_0002.jpg</td>\n",
              "    </tr>\n",
              "    <tr>\n",
              "      <th>6</th>\n",
              "      <td>Aporia raises $5M for its AI observability platform</td>\n",
              "      <td>Frederic Lardinois</td>\n",
              "      <td>TechCrunch</td>\n",
              "      <td>Machine learning (ML) models are only as good as the data you feed them. That’s true during training, but also once a model is put in production. In the real world, the data itself can change as new … [+3341 chars]</td>\n",
              "      <td>2021-04-06T13:00:40Z</td>\n",
              "      <td>http://techcrunch.com/2021/04/06/aporia-raises-5m-for-its-ai-observability-platform/</td>\n",
              "      <td>https://techcrunch.com/wp-content/uploads/2021/04/Aporia-Team.jpg?w=600</td>\n",
              "    </tr>\n",
              "    <tr>\n",
              "      <th>7</th>\n",
              "      <td>Deep science: AI is in the air, water, soil and steel</td>\n",
              "      <td>Devin Coldewey</td>\n",
              "      <td>TechCrunch</td>\n",
              "      <td>Research papers come out far too rapidly for anyone to read them all, especially in the field of machine learning, which now affects (and produces papers in) practically every industry and company. T… [+3571 chars]</td>\n",
              "      <td>2021-03-19T21:48:29Z</td>\n",
              "      <td>http://techcrunch.com/2021/03/19/deep-science-ai-is-in-the-air-water-soil-and-steel/</td>\n",
              "      <td>https://techcrunch.com/wp-content/uploads/2019/05/GettyImages-1072325472.jpg?w=533</td>\n",
              "    </tr>\n",
              "    <tr>\n",
              "      <th>8</th>\n",
              "      <td>Monk’s Hill Ventures and Glints on how Southeast Asian startups can cope with the region’s talent crunch</td>\n",
              "      <td>Catherine Shu</td>\n",
              "      <td>TechCrunch</td>\n",
              "      <td>A lot has changed since Monks Hill Ventures released its first report on tech compensation in Southeast Asia five years ago, with base salaries and competition for top talent jumping dramatically. Bu… [+6139 chars]</td>\n",
              "      <td>2021-03-31T04:43:15Z</td>\n",
              "      <td>http://techcrunch.com/2021/03/30/monks-hill-ventures-and-glints-on-how-southeast-asian-startups-can-cope-with-the-regions-talent-crunch/</td>\n",
              "      <td>https://techcrunch.com/wp-content/uploads/2021/03/GettyImages-1258087389.jpg?w=643</td>\n",
              "    </tr>\n",
              "    <tr>\n",
              "      <th>9</th>\n",
              "      <td>First-Ever Observations From Under Antarctica’s ‘Doomsday Glacier’ Are Bad News</td>\n",
              "      <td>Dharna Noor on Earther, shared by Brian Kahn to Gizmodo</td>\n",
              "      <td>Gizmodo.com</td>\n",
              "      <td>Glaciers all overAntarctica are in trouble as ice there rapidly melts. Theres no Antarctic glacier whose fate is more consequential for our future than the Thwaites Glacier, and new research shows th… [+5749 chars]</td>\n",
              "      <td>2021-04-09T18:04:00Z</td>\n",
              "      <td>https://earther.gizmodo.com/first-ever-observations-from-under-antarctica-s-doomsd-1846650385</td>\n",
              "      <td>https://i.kinja-img.com/gawker-media/image/upload/c_fill,f_auto,fl_progressive,g_center,h_675,pg_1,q_80,w_1200/nz8yqrermugailirya8p.jpg</td>\n",
              "    </tr>\n",
              "    <tr>\n",
              "      <th>10</th>\n",
              "      <td>Bad News Bias</td>\n",
              "      <td>David Leonhardt</td>\n",
              "      <td>New York Times</td>\n",
              "      <td>If were constantly telling a negative story, we are not giving our audience the most accurate portrait of reality. We are shading it. We are doing a good job telling you why Covid cases are rising in… [+2191 chars]</td>\n",
              "      <td>2021-03-24T10:47:56Z</td>\n",
              "      <td>https://www.nytimes.com/2021/03/24/briefing/boulder-shooting-george-segal-astrazeneca.html</td>\n",
              "      <td>https://static01.nyt.com/images/2021/03/24/lens/24ambriefing-promo/24ambriefing-media-facebookJumbo-v2.jpg</td>\n",
              "    </tr>\n",
              "    <tr>\n",
              "      <th>11</th>\n",
              "      <td>Dataiku’s new AI tools reduce dependency on data science teams</td>\n",
              "      <td>Michael Vizard</td>\n",
              "      <td>VentureBeat</td>\n",
              "      <td>Join Transform 2021 for the most important themes in enterprise AI &amp;amp; Data. Learn more.\\r\\nDataiku today expanded its effort to make AI accessible to the average business user with an update that ma… [+4178 chars]</td>\n",
              "      <td>2021-03-31T13:00:14Z</td>\n",
              "      <td>https://venturebeat.com/2021/03/31/dataikus-new-ai-tools-reduce-dependency-on-data-science-teams/</td>\n",
              "      <td>https://venturebeat.com/wp-content/uploads/2021/03/Dataiku.png?w=1200&amp;strip=all</td>\n",
              "    </tr>\n",
              "    <tr>\n",
              "      <th>12</th>\n",
              "      <td>Become a Python programmer with this online course bundle</td>\n",
              "      <td>Joseph Green</td>\n",
              "      <td>Mashable</td>\n",
              "      <td>TL;DR: The Ultimate Python Programmer and Data Certification Bundle is on sale for £27.97 as of March 17, saving you 97% on list price.\\r\\nIf you want to be successful as a programmer, you need to mast… [+1730 chars]</td>\n",
              "      <td>2021-03-17T05:00:00Z</td>\n",
              "      <td>https://mashable.com/uk/shopping/march-17-python-programmer-and-data-certification/</td>\n",
              "      <td>https://mondrian.mashable.com/2021%252F03%252F17%252Fdc%252F857b86423bd042228408a48f9295df3d.562c1.jpg%252F1200x630.jpg?signature=h9Px3_ov5IN2bhXOiywgJuDSUPc=</td>\n",
              "    </tr>\n",
              "    <tr>\n",
              "      <th>13</th>\n",
              "      <td>Why should SMEs think more about data?</td>\n",
              "      <td>Fundación Wadhwani</td>\n",
              "      <td>Entrepreneur</td>\n",
              "      <td>This article was translated from our Spanish edition using AI technologies. Errors may exist due to this process.\\r\\nOpinions expressed by Entrepreneur contributors are their own.\\r\\nBy Nancy Barrueta an… [+5988 chars]</td>\n",
              "      <td>2021-04-08T10:15:00Z</td>\n",
              "      <td>https://www.entrepreneur.com/article/368938</td>\n",
              "      <td>https://assets.entrepreneur.com/content/3x2/2000/1617743838-datos21.jpg</td>\n",
              "    </tr>\n",
              "    <tr>\n",
              "      <th>14</th>\n",
              "      <td>Learn how to analyse and visualise data with this Python training course</td>\n",
              "      <td>Joseph Green</td>\n",
              "      <td>Mashable</td>\n",
              "      <td>TL;DR: The Complete Python eBook and Video Course Bundle is on sale for £21.87 as of March 28, saving you 96% on list price.\\r\\nAs 2020 has clearly shown us, nobody can actually predict the future. But… [+2009 chars]</td>\n",
              "      <td>2021-03-28T04:00:00Z</td>\n",
              "      <td>https://mashable.com/uk/shopping/march-28-complete-python-bundle-sale/</td>\n",
              "      <td>https://mondrian.mashable.com/2021%252F03%252F28%252Faf%252F279bad04aa814b3595a90b6068f3a910.c40ff.jpg%252F1200x630.jpg?signature=mycNHLeOo0m8_yOk2_9rN18mRCU=</td>\n",
              "    </tr>\n",
              "    <tr>\n",
              "      <th>15</th>\n",
              "      <td>Do Processed Meats Cause Dementia?</td>\n",
              "      <td>Elizabeth Yuko on Vitals, shared by Elizabeth Yuko to Lifehacker</td>\n",
              "      <td>Lifehacker.com</td>\n",
              "      <td>At this point, it can be easy to ignore headlines on the latest studies claiming that a particular food is bad for youor, conversely, has been canonized as a superfood. Most articles on research demo… [+3299 chars]</td>\n",
              "      <td>2021-03-22T18:00:00Z</td>\n",
              "      <td>https://vitals.lifehacker.com/do-processed-meats-cause-dementia-1846527414</td>\n",
              "      <td>https://i.kinja-img.com/gawker-media/image/upload/c_fill,f_auto,fl_progressive,g_center,h_675,pg_1,q_80,w_1200/vcdlndyh1obsgpjfbd5p.jpg</td>\n",
              "    </tr>\n",
              "    <tr>\n",
              "      <th>16</th>\n",
              "      <td>Nordetect’s system to monitor soil and water for indoor agriculture raises seed funding</td>\n",
              "      <td>Jonathan Shieber</td>\n",
              "      <td>TechCrunch</td>\n",
              "      <td>As indoor farming expands, a number of new companies are cropping up to provide better data and monitoring tools for the businesses aimed at improving efficiencies and quality of indoor crops. \\r\\nOne … [+3630 chars]</td>\n",
              "      <td>2021-03-19T12:37:27Z</td>\n",
              "      <td>http://techcrunch.com/2021/03/19/nordetects-system-to-monitor-soil-and-water-for-indoor-agriculture-raises-seed-funding/</td>\n",
              "      <td>https://techcrunch.com/wp-content/uploads/2017/02/bowery_indoor_farm_4.jpg?w=600</td>\n",
              "    </tr>\n",
              "    <tr>\n",
              "      <th>17</th>\n",
              "      <td>Data Blaster Is A Hip RPi Cyberdeck</td>\n",
              "      <td>Lewin Day</td>\n",
              "      <td>Hackaday</td>\n",
              "      <td>Cyberdecks were once a science fiction approximation of what computing might look like in the future. In the end, consumer devices took a very different path. No matter, though, because the maker com… [+1333 chars]</td>\n",
              "      <td>2021-03-26T05:00:22Z</td>\n",
              "      <td>https://hackaday.com/2021/03/25/data-blaster-is-a-hip-rpi-cyberdeck/</td>\n",
              "      <td>https://hackaday.com/wp-content/uploads/2021/03/datablaster_feat.jpg</td>\n",
              "    </tr>\n",
              "    <tr>\n",
              "      <th>18</th>\n",
              "      <td>Science Officer…Scan for Elephants!</td>\n",
              "      <td>Al Williams</td>\n",
              "      <td>Hackaday</td>\n",
              "      <td>If you watch many espionage or terrorism movies set in the present day, there’s usually a scene where some government employee enhances a satellite image to show a clear picture of the main villain’s… [+5736 chars]</td>\n",
              "      <td>2021-03-17T17:00:57Z</td>\n",
              "      <td>https://hackaday.com/2021/03/17/science-officer-scan-for-elephants/</td>\n",
              "      <td>https://hackaday.com/wp-content/uploads/2021/03/Elephant.jpg</td>\n",
              "    </tr>\n",
              "    <tr>\n",
              "      <th>19</th>\n",
              "      <td>DataRobot CEO calls for ‘a new era of democratization of AI’</td>\n",
              "      <td>Michael Vizard</td>\n",
              "      <td>VentureBeat</td>\n",
              "      <td>Join Transform 2021 for the most important themes in enterprise AI &amp;amp; Data. Learn more.\\r\\nDan Wright just became CEO of DataRobot, a company valued at more than $2.7 billion that is promising to au… [+11199 chars]</td>\n",
              "      <td>2021-03-25T14:10:52Z</td>\n",
              "      <td>https://venturebeat.com/2021/03/25/datarobot-ceo-calls-for-a-new-era-of-democratization-of-ai/</td>\n",
              "      <td>https://venturebeat.com/wp-content/uploads/2021/03/dan-wright-datarobot.jpg?w=1200&amp;strip=all</td>\n",
              "    </tr>\n",
              "    <tr>\n",
              "      <th>20</th>\n",
              "      <td>Aunalytics unifies siloed bank customer data with AI-driven data mart and NLP</td>\n",
              "      <td>Michael Vizard</td>\n",
              "      <td>VentureBeat</td>\n",
              "      <td>Join Transform 2021 for the most important themes in enterprise AI &amp;amp; Data. Learn more.\\r\\nAunalytics announced an update to its Daybreak for Financial Services platform that employs machine learnin… [+4457 chars]</td>\n",
              "      <td>2021-03-26T14:10:47Z</td>\n",
              "      <td>https://venturebeat.com/2021/03/26/aunalytics-unifies-siloed-bank-customer-data-with-ai-driven-data-mart-and-nlp/</td>\n",
              "      <td>https://venturebeat.com/wp-content/uploads/2021/03/daybreak_slide.jpg?w=1200&amp;strip=all</td>\n",
              "    </tr>\n",
              "    <tr>\n",
              "      <th>21</th>\n",
              "      <td>Matchmaker, Matchmaker Make Me An Algorithm: STEM Contest Winner Pairs Data</td>\n",
              "      <td>Reena Advani</td>\n",
              "      <td>NPR</td>\n",
              "      <td>Yunseo Choi won first place Wednesday in this year's Regeneron Science Talent Search STEM competition.\\r\\nSociety for Science\\r\\nThe world of matchmaking won't have to rely on luck, as much as math, than… [+2578 chars]</td>\n",
              "      <td>2021-03-18T18:11:33Z</td>\n",
              "      <td>https://www.npr.org/2021/03/18/978721494/matchmaker-matchmaker-make-me-an-algorithm-stem-contest-winner-pairs-data</td>\n",
              "      <td>https://media.npr.org/assets/img/2021/03/18/yunseo-choi_wide-277710dfe898934fada69c54d4ae2a1335825105.jpg?s=1400</td>\n",
              "    </tr>\n",
              "    <tr>\n",
              "      <th>22</th>\n",
              "      <td>How to choose and deploy industry-specific AI models</td>\n",
              "      <td>Annie Siebert</td>\n",
              "      <td>TechCrunch</td>\n",
              "      <td>As artificial intelligence becomes more advanced, previously cutting-edge but generic AI models are becoming commonplace, such as Google Clouds Vision AI or Amazon Rekognition.\\r\\nWhile effective in so… [+2773 chars]</td>\n",
              "      <td>2021-04-12T17:55:46Z</td>\n",
              "      <td>http://techcrunch.com/2021/04/12/how-to-choose-and-deploy-industry-specific-ai-models/</td>\n",
              "      <td>https://techcrunch.com/wp-content/uploads/2021/04/GettyImages-854424344.jpg?w=600</td>\n",
              "    </tr>\n",
              "    <tr>\n",
              "      <th>23</th>\n",
              "      <td>NVIDIA's Grace, its first datacenter CPU, is another major threat to Intel</td>\n",
              "      <td>https://www.engadget.com/about/editors/devindra-hardawar</td>\n",
              "      <td>Engadget</td>\n",
              "      <td>Just like Apple did with its M1 chip, NVIDIA is taking on Intel directly with its own ARM-based CPU. But don't expect it in PCs anytime soon. Named after the pioneering computer scientist Grace Hoppe… [+3170 chars]</td>\n",
              "      <td>2021-04-12T16:21:27Z</td>\n",
              "      <td>https://www.engadget.com/nvidia-grace-arm-datacenter-cpu-170038725.html</td>\n",
              "      <td>https://s.yimg.com/os/creatr-uploaded-images/2021-04/99515420-9b13-11eb-af7f-e3695a40a96d</td>\n",
              "    </tr>\n",
              "    <tr>\n",
              "      <th>24</th>\n",
              "      <td>US says hopes WHO report on virus origins is 'based on science' - Reuters</td>\n",
              "      <td>Stephanie Nebehay</td>\n",
              "      <td>Reuters</td>\n",
              "      <td>GENEVA (Reuters) - The United States expects the World Health Organization (WHO) investigation into the origins of the novel coronavirus pandemic to require further study, perhaps including a return … [+1648 chars]</td>\n",
              "      <td>2021-03-24T16:30:00Z</td>\n",
              "      <td>https://www.reuters.com/article/us-health-coronavirus-who-china-usa-idUSKBN2BG2LP</td>\n",
              "      <td>https://static.reuters.com/resources/r/?m=02&amp;d=20210324&amp;t=2&amp;i=1556066252&amp;r=LYNXMPEH2N1MT&amp;w=800</td>\n",
              "    </tr>\n",
              "  </tbody>\n",
              "</table>\n",
              "</div>"
            ],
            "text/plain": [
              "                                                                                                       title  ...                                                                                                                                                                             photo_url\n",
              "0   How to recruit data scientists without paying top dollar                                                  ...  https://techcrunch.com/wp-content/uploads/2021/03/GettyImages-1213043174.jpg?w=600                                                                                                  \n",
              "1   Aiming to become the definitive source for location data, SafeGraph raises $45M                           ...  https://techcrunch.com/wp-content/uploads/2020/02/GettyImages-868376176.jpg?w=600                                                                                                   \n",
              "2   This $40 computer science training includes classes on Python, Linux and more                             ...  https://s.yimg.com/os/creatr-uploaded-images/2021-03/66df4a10-8bf5-11eb-9efd-1d5d2561882e                                                                                           \n",
              "3   Learn the basics of data science with this stacked online training bundle                                 ...  https://mondrian.mashable.com/2021%252F03%252F15%252Fa6%252Fd0ffe2e7098340e5a1a22f6020a53801.a4ecb.jpg%252F1200x630.jpg?signature=Q3ACYeLeQ47qt4TFLd_gv5tZSro=                      \n",
              "4   Expand your job opportunities with computer science courses on sale                                       ...  https://mondrian.mashable.com/2021%252F03%252F23%252Fec%252F3042ad8bdb894cd389fc7fd089f370f1.cd3c2.jpg%252F1200x630.jpg?signature=7mEmurHacyjvWuwMH4CkjFL0xEE=                      \n",
              "5   Adjusted AstraZeneca data shows COVID-19 vaccine 76 percent effective                                     ...  https://cdn.vox-cdn.com/thumbor/jfkZWS8mK3qGxWf2P0wPVG6r_hQ=/0x146:2040x1214/fit-in/1200x630/cdn.vox-cdn.com/uploads/chorus_asset/file/22357718/acastro_210309_1777_vaccine_0002.jpg\n",
              "6   Aporia raises $5M for its AI observability platform                                                       ...  https://techcrunch.com/wp-content/uploads/2021/04/Aporia-Team.jpg?w=600                                                                                                             \n",
              "7   Deep science: AI is in the air, water, soil and steel                                                     ...  https://techcrunch.com/wp-content/uploads/2019/05/GettyImages-1072325472.jpg?w=533                                                                                                  \n",
              "8   Monk’s Hill Ventures and Glints on how Southeast Asian startups can cope with the region’s talent crunch  ...  https://techcrunch.com/wp-content/uploads/2021/03/GettyImages-1258087389.jpg?w=643                                                                                                  \n",
              "9   First-Ever Observations From Under Antarctica’s ‘Doomsday Glacier’ Are Bad News                           ...  https://i.kinja-img.com/gawker-media/image/upload/c_fill,f_auto,fl_progressive,g_center,h_675,pg_1,q_80,w_1200/nz8yqrermugailirya8p.jpg                                             \n",
              "10  Bad News Bias                                                                                             ...  https://static01.nyt.com/images/2021/03/24/lens/24ambriefing-promo/24ambriefing-media-facebookJumbo-v2.jpg                                                                          \n",
              "11  Dataiku’s new AI tools reduce dependency on data science teams                                            ...  https://venturebeat.com/wp-content/uploads/2021/03/Dataiku.png?w=1200&strip=all                                                                                                     \n",
              "12  Become a Python programmer with this online course bundle                                                 ...  https://mondrian.mashable.com/2021%252F03%252F17%252Fdc%252F857b86423bd042228408a48f9295df3d.562c1.jpg%252F1200x630.jpg?signature=h9Px3_ov5IN2bhXOiywgJuDSUPc=                      \n",
              "13  Why should SMEs think more about data?                                                                    ...  https://assets.entrepreneur.com/content/3x2/2000/1617743838-datos21.jpg                                                                                                             \n",
              "14  Learn how to analyse and visualise data with this Python training course                                  ...  https://mondrian.mashable.com/2021%252F03%252F28%252Faf%252F279bad04aa814b3595a90b6068f3a910.c40ff.jpg%252F1200x630.jpg?signature=mycNHLeOo0m8_yOk2_9rN18mRCU=                      \n",
              "15  Do Processed Meats Cause Dementia?                                                                        ...  https://i.kinja-img.com/gawker-media/image/upload/c_fill,f_auto,fl_progressive,g_center,h_675,pg_1,q_80,w_1200/vcdlndyh1obsgpjfbd5p.jpg                                             \n",
              "16  Nordetect’s system to monitor soil and water for indoor agriculture raises seed funding                   ...  https://techcrunch.com/wp-content/uploads/2017/02/bowery_indoor_farm_4.jpg?w=600                                                                                                    \n",
              "17  Data Blaster Is A Hip RPi Cyberdeck                                                                       ...  https://hackaday.com/wp-content/uploads/2021/03/datablaster_feat.jpg                                                                                                                \n",
              "18  Science Officer…Scan for Elephants!                                                                       ...  https://hackaday.com/wp-content/uploads/2021/03/Elephant.jpg                                                                                                                        \n",
              "19  DataRobot CEO calls for ‘a new era of democratization of AI’                                              ...  https://venturebeat.com/wp-content/uploads/2021/03/dan-wright-datarobot.jpg?w=1200&strip=all                                                                                        \n",
              "20  Aunalytics unifies siloed bank customer data with AI-driven data mart and NLP                             ...  https://venturebeat.com/wp-content/uploads/2021/03/daybreak_slide.jpg?w=1200&strip=all                                                                                              \n",
              "21  Matchmaker, Matchmaker Make Me An Algorithm: STEM Contest Winner Pairs Data                               ...  https://media.npr.org/assets/img/2021/03/18/yunseo-choi_wide-277710dfe898934fada69c54d4ae2a1335825105.jpg?s=1400                                                                    \n",
              "22  How to choose and deploy industry-specific AI models                                                      ...  https://techcrunch.com/wp-content/uploads/2021/04/GettyImages-854424344.jpg?w=600                                                                                                   \n",
              "23  NVIDIA's Grace, its first datacenter CPU, is another major threat to Intel                                ...  https://s.yimg.com/os/creatr-uploaded-images/2021-04/99515420-9b13-11eb-af7f-e3695a40a96d                                                                                           \n",
              "24  US says hopes WHO report on virus origins is 'based on science' - Reuters                                 ...  https://static.reuters.com/resources/r/?m=02&d=20210324&t=2&i=1556066252&r=LYNXMPEH2N1MT&w=800                                                                                      \n",
              "\n",
              "[25 rows x 7 columns]"
            ]
          },
          "metadata": {
            "tags": []
          },
          "execution_count": 69
        }
      ]
    },
    {
      "cell_type": "markdown",
      "metadata": {
        "id": "RvQmIAJ_wtdQ"
      },
      "source": [
        "## Building a word cloud"
      ]
    },
    {
      "cell_type": "code",
      "metadata": {
        "id": "UwlibhqRurNj"
      },
      "source": [
        "from wordcloud import WordCloud\n",
        "import matplotlib.pyplot as plt"
      ],
      "execution_count": 71,
      "outputs": []
    },
    {
      "cell_type": "code",
      "metadata": {
        "id": "hHC6fISYwspH"
      },
      "source": [
        "text_combined = ''\n",
        "  \n",
        "for i in response_json['articles']:\n",
        "      \n",
        "    if i['description'] != None:\n",
        "        text_combined += i['description'] + ' '\n",
        "          \n",
        "wordcount={}\n",
        "for word in text_combined.split():\n",
        "    if word not in wordcount:\n",
        "        wordcount[word] = 1\n",
        "    else:\n",
        "        wordcount[word] += 1\n",
        "  \n",
        "for k,v, in sorted(wordcount.items(),\n",
        "                   key=lambda words: words[1], \n",
        "                   reverse = True):\n",
        "    print(k,v)"
      ],
      "execution_count": null,
      "outputs": []
    },
    {
      "cell_type": "code",
      "metadata": {
        "id": "WD9Kr1E-w2Xb"
      },
      "source": [
        "# initializing bad_chars_list \n",
        "stop_words = [\"a\", \"the\" , \"of\", \"in\", \"to\", \"and\", \"on\", \"de\", \"with\", \n",
        "             \"by\", \"at\", \"dans\", \"ont\", \"été\", \"les\", \"des\", \"au\", \"et\", \n",
        "             \"après\", \"avec\", \"qui\", \"par\", \"leurs\", \"ils\", \"a\", \"pour\", \n",
        "             \"les\", \"on\", \"as\", \"france\", \"eux\", \"où\", \"son\", \"le\", \"la\",\n",
        "             \"en\", \"with\", \"is\", \"has\", \"for\", \"that\", \"an\", \"but\", \"be\", \n",
        "             \"are\", \"du\", \"it\", \"à\", \"had\", \"ist\", \"Der\", \"um\", \"zu\", \"den\", \n",
        "             \"der\", \"-\", \"und\", \"für\", \"Die\", \"von\", \"als\",\n",
        "             \"sich\", \"nicht\", \"nach\", \"auch\"  ]"
      ],
      "execution_count": 73,
      "outputs": []
    },
    {
      "cell_type": "code",
      "metadata": {
        "id": "K3KWWhbHw8FT"
      },
      "source": [
        "r = text_combined.replace('\\s+',' ').replace(',', ' ').replace('.',' ')\n",
        "words = r.split()\n",
        "rst = [word for word in words if \n",
        "       ( word.lower() not in stop_words \n",
        "        and len(word) > 3) ]\n",
        "  \n",
        "rst = ' '.join(rst)\n",
        "   \n",
        "wordcount={}\n",
        "  \n",
        "for word in rst.split():\n",
        "      \n",
        "    if word not in wordcount:\n",
        "        wordcount[word] = 1\n",
        "    else:\n",
        "        wordcount[word] += 1\n",
        "   \n",
        "for k,v, in sorted(wordcount.items(),\n",
        "                   key=lambda words: words[1],\n",
        "                   reverse = True):\n",
        "    print(k,v)"
      ],
      "execution_count": null,
      "outputs": []
    },
    {
      "cell_type": "markdown",
      "metadata": {
        "id": "1qp_y-fjxSAD"
      },
      "source": [
        "## plotting the word cloud"
      ]
    },
    {
      "cell_type": "code",
      "metadata": {
        "colab": {
          "base_uri": "https://localhost:8080/",
          "height": 198
        },
        "id": "c7Ph14AuxJj3",
        "outputId": "689bad81-2bf5-474e-d82d-1b7ff7e96753"
      },
      "source": [
        "word = WordCloud(max_font_size = 40).generate(rst)\n",
        "plt.figure()\n",
        "plt.imshow(word, interpolation =\"bilinear\")\n",
        "plt.axis(\"off\")\n",
        "plt.show()"
      ],
      "execution_count": 76,
      "outputs": [
        {
          "output_type": "display_data",
          "data": {
            "image/png": "[encoded data removed]",
            "text/plain": [
              "<Figure size 432x288 with 1 Axes>"
            ]
          },
          "metadata": {
            "tags": [],
            "needs_background": "light"
          }
        }
      ]
    },
    {
      "cell_type": "code",
      "metadata": {
        "colab": {
          "base_uri": "https://localhost:8080/",
          "height": 198
        },
        "id": "dAwAG46qxLCX",
        "outputId": "d5000766-8d64-4ef2-d45c-34fb02d8865f"
      },
      "source": [
        "title_combined = ''\n",
        "  \n",
        "for i in response_json['articles']:\n",
        "    title_combined += i['title'] + ' '\n",
        "      \n",
        "titles = title_combined.replace('\\s+',' ').replace(',',' ').replace('.',' ')\n",
        "words_t = titles.split()\n",
        "result = [word for word in words_t if\n",
        "          ( word.lower() not in stop_words and\n",
        "           len(word) > 3) ]\n",
        "  \n",
        "result = ' '.join(result)\n",
        "   \n",
        "wordcount={}\n",
        "  \n",
        "for word in result.split():\n",
        "      \n",
        "    if word not in wordcount:\n",
        "        wordcount[word] = 1\n",
        "    else:\n",
        "        wordcount[word] += 1\n",
        "  \n",
        "word = WordCloud(max_font_size=40).generate(result)\n",
        "plt.figure()\n",
        "plt.imshow(word, interpolation=\"bilinear\")\n",
        "plt.axis(\"off\")\n",
        "plt.show()"
      ],
      "execution_count": 77,
      "outputs": [
        {
          "output_type": "display_data",
          "data": {
            "image/png": "[encoded data removed]",
            "text/plain": [
              "<Figure size 432x288 with 1 Axes>"
            ]
          },
          "metadata": {
            "tags": [],
            "needs_background": "light"
          }
        }
      ]
    },
    {
      "cell_type": "markdown",
      "metadata": {
        "id": "earwS5-LyBFx"
      },
      "source": [
        "# Newspaper Article summarizer"
      ]
    },
    {
      "cell_type": "code",
      "metadata": {
        "colab": {
          "base_uri": "https://localhost:8080/"
        },
        "id": "hWk9TsKxxcr2",
        "outputId": "c095b904-eab8-402d-a695-66787785ea56"
      },
      "source": [
        "!pip install newspaper3k"
      ],
      "execution_count": 78,
      "outputs": [
        {
          "output_type": "stream",
          "text": [
            "Collecting newspaper3k\n",
            "\u001b[?25l  Downloading https://files.pythonhosted.org/packages/d7/b9/51afecb35bb61b188a4b44868001de348a0e8134b4dfa00ffc191567c4b9/newspaper3k-0.2.8-py3-none-any.whl (211kB)\n",
            "\r\u001b[K     |█▌                              | 10kB 12.2MB/s eta 0:00:01\r\u001b[K     |███                             | 20kB 8.7MB/s eta 0:00:01\r\u001b[K     |████▋                           | 30kB 11.2MB/s eta 0:00:01\r\u001b[K     |██████▏                         | 40kB 8.7MB/s eta 0:00:01\r\u001b[K     |███████▊                        | 51kB 4.4MB/s eta 0:00:01\r\u001b[K     |█████████▎                      | 61kB 5.0MB/s eta 0:00:01\r\u001b[K     |██████████▉                     | 71kB 4.8MB/s eta 0:00:01\r\u001b[K     |████████████▍                   | 81kB 5.0MB/s eta 0:00:01\r\u001b[K     |██████████████                  | 92kB 5.4MB/s eta 0:00:01\r\u001b[K     |███████████████▌                | 102kB 5.6MB/s eta 0:00:01\r\u001b[K     |█████████████████               | 112kB 5.6MB/s eta 0:00:01\r\u001b[K     |██████████████████▋             | 122kB 5.6MB/s eta 0:00:01\r\u001b[K     |████████████████████▏           | 133kB 5.6MB/s eta 0:00:01\r\u001b[K     |█████████████████████▊          | 143kB 5.6MB/s eta 0:00:01\r\u001b[K     |███████████████████████▎        | 153kB 5.6MB/s eta 0:00:01\r\u001b[K     |████████████████████████▉       | 163kB 5.6MB/s eta 0:00:01\r\u001b[K     |██████████████████████████▍     | 174kB 5.6MB/s eta 0:00:01\r\u001b[K     |████████████████████████████    | 184kB 5.6MB/s eta 0:00:01\r\u001b[K     |█████████████████████████████▌  | 194kB 5.6MB/s eta 0:00:01\r\u001b[K     |███████████████████████████████ | 204kB 5.6MB/s eta 0:00:01\r\u001b[K     |████████████████████████████████| 215kB 5.6MB/s \n",
            "\u001b[?25hRequirement already satisfied: Pillow>=3.3.0 in /usr/local/lib/python3.7/dist-packages (from newspaper3k) (7.1.2)\n",
            "Collecting feedparser>=5.2.1\n",
            "\u001b[?25l  Downloading https://files.pythonhosted.org/packages/1c/21/faf1bac028662cc8adb2b5ef7a6f3999a765baa2835331df365289b0ca56/feedparser-6.0.2-py3-none-any.whl (80kB)\n",
            "\u001b[K     |████████████████████████████████| 81kB 6.7MB/s \n",
            "\u001b[?25hRequirement already satisfied: cssselect>=0.9.2 in /usr/local/lib/python3.7/dist-packages (from newspaper3k) (1.1.0)\n",
            "Collecting tldextract>=2.0.1\n",
            "\u001b[?25l  Downloading https://files.pythonhosted.org/packages/7e/62/b6acd3129c5615b9860e670df07fd55b76175b63e6b7f68282c7cad38e9e/tldextract-3.1.0-py2.py3-none-any.whl (87kB)\n",
            "\u001b[K     |████████████████████████████████| 92kB 7.4MB/s \n",
            "\u001b[?25hRequirement already satisfied: PyYAML>=3.11 in /usr/local/lib/python3.7/dist-packages (from newspaper3k) (3.13)\n",
            "Collecting feedfinder2>=0.0.4\n",
            "  Downloading https://files.pythonhosted.org/packages/35/82/1251fefec3bb4b03fd966c7e7f7a41c9fc2bb00d823a34c13f847fd61406/feedfinder2-0.0.4.tar.gz\n",
            "Collecting tinysegmenter==0.3\n",
            "  Downloading https://files.pythonhosted.org/packages/17/82/86982e4b6d16e4febc79c2a1d68ee3b707e8a020c5d2bc4af8052d0f136a/tinysegmenter-0.3.tar.gz\n",
            "Requirement already satisfied: requests>=2.10.0 in /usr/local/lib/python3.7/dist-packages (from newspaper3k) (2.23.0)\n",
            "Requirement already satisfied: lxml>=3.6.0 in /usr/local/lib/python3.7/dist-packages (from newspaper3k) (4.2.6)\n",
            "Requirement already satisfied: python-dateutil>=2.5.3 in /usr/local/lib/python3.7/dist-packages (from newspaper3k) (2.8.1)\n",
            "Requirement already satisfied: nltk>=3.2.1 in /usr/local/lib/python3.7/dist-packages (from newspaper3k) (3.2.5)\n",
            "Requirement already satisfied: beautifulsoup4>=4.4.1 in /usr/local/lib/python3.7/dist-packages (from newspaper3k) (4.6.3)\n",
            "Collecting jieba3k>=0.35.1\n",
            "\u001b[?25l  Downloading https://files.pythonhosted.org/packages/a9/cb/2c8332bcdc14d33b0bedd18ae0a4981a069c3513e445120da3c3f23a8aaa/jieba3k-0.35.1.zip (7.4MB)\n",
            "\u001b[K     |████████████████████████████████| 7.4MB 9.5MB/s \n",
            "\u001b[?25hCollecting sgmllib3k\n",
            "  Downloading https://files.pythonhosted.org/packages/9e/bd/3704a8c3e0942d711c1299ebf7b9091930adae6675d7c8f476a7ce48653c/sgmllib3k-1.0.0.tar.gz\n",
            "Collecting requests-file>=1.4\n",
            "  Downloading https://files.pythonhosted.org/packages/77/86/cdb5e8eaed90796aa83a6d9f75cfbd37af553c47a291cd47bc410ef9bdb2/requests_file-1.5.1-py2.py3-none-any.whl\n",
            "Requirement already satisfied: idna in /usr/local/lib/python3.7/dist-packages (from tldextract>=2.0.1->newspaper3k) (2.10)\n",
            "Requirement already satisfied: filelock>=3.0.8 in /usr/local/lib/python3.7/dist-packages (from tldextract>=2.0.1->newspaper3k) (3.0.12)\n",
            "Requirement already satisfied: six in /usr/local/lib/python3.7/dist-packages (from feedfinder2>=0.0.4->newspaper3k) (1.15.0)\n",
            "Requirement already satisfied: certifi>=2017.4.17 in /usr/local/lib/python3.7/dist-packages (from requests>=2.10.0->newspaper3k) (2020.12.5)\n",
            "Requirement already satisfied: chardet<4,>=3.0.2 in /usr/local/lib/python3.7/dist-packages (from requests>=2.10.0->newspaper3k) (3.0.4)\n",
            "Requirement already satisfied: urllib3!=1.25.0,!=1.25.1,<1.26,>=1.21.1 in /usr/local/lib/python3.7/dist-packages (from requests>=2.10.0->newspaper3k) (1.24.3)\n",
            "Building wheels for collected packages: feedfinder2, tinysegmenter, jieba3k, sgmllib3k\n",
            "  Building wheel for feedfinder2 (setup.py) ... \u001b[?25l\u001b[?25hdone\n",
            "  Created wheel for feedfinder2: filename=feedfinder2-0.0.4-cp37-none-any.whl size=3358 sha256=10b8c7b2c8aeaf7a1b72241017df85d7ab69877fa7b4b2a335ab3e8b53762a33\n",
            "  Stored in directory: /root/.cache/pip/wheels/de/03/ca/778e3a7a627e3d98836cc890e7cb40c7575424cfd3340f40ed\n",
            "  Building wheel for tinysegmenter (setup.py) ... \u001b[?25l\u001b[?25hdone\n",
            "  Created wheel for tinysegmenter: filename=tinysegmenter-0.3-cp37-none-any.whl size=13538 sha256=86c85eebdce4244d6acfca3c117d8975a5ef4a94f89911b7144c3fbf46a8f11c\n",
            "  Stored in directory: /root/.cache/pip/wheels/81/2b/43/a02ede72324dd40cdd7ca53aad718c7710628e91b8b0dc0f02\n",
            "  Building wheel for jieba3k (setup.py) ... \u001b[?25l\u001b[?25hdone\n",
            "  Created wheel for jieba3k: filename=jieba3k-0.35.1-cp37-none-any.whl size=7398406 sha256=241deb96fbb0ad8e1863f32507221e542d45f05cfcad30377885561a3685827d\n",
            "  Stored in directory: /root/.cache/pip/wheels/83/15/9c/a3f1f67e7f7181170ad37d32e503c35da20627c013f438ed34\n",
            "  Building wheel for sgmllib3k (setup.py) ... \u001b[?25l\u001b[?25hdone\n",
            "  Created wheel for sgmllib3k: filename=sgmllib3k-1.0.0-cp37-none-any.whl size=6067 sha256=daca13b8b20b4f6561b401201d65a2adc27089cb0f63a3fa9bd50465fe4c2d3f\n",
            "  Stored in directory: /root/.cache/pip/wheels/f1/80/5a/444ba08a550cdd241bd9baf8bae44be750efe370adb944506a\n",
            "Successfully built feedfinder2 tinysegmenter jieba3k sgmllib3k\n",
            "Installing collected packages: sgmllib3k, feedparser, requests-file, tldextract, feedfinder2, tinysegmenter, jieba3k, newspaper3k\n",
            "Successfully installed feedfinder2-0.0.4 feedparser-6.0.2 jieba3k-0.35.1 newspaper3k-0.2.8 requests-file-1.5.1 sgmllib3k-1.0.0 tinysegmenter-0.3 tldextract-3.1.0\n"
          ],
          "name": "stdout"
        }
      ]
    },
    {
      "cell_type": "code",
      "metadata": {
        "id": "07IH3q60yICC"
      },
      "source": [
        "from newspaper import Article\n",
        "\n",
        "# url = \"https://timesofindia.indiatimes.com/india/were-a-data-science-driven-body-that-deals-in-facts-evidence-says-barc/articleshow/78598046.cms\"\n",
        "url = \"https://vineethm.hashnode.dev/iterative-recursion\"\n",
        "article = Article(url, language = \"en\")\n",
        "# to download the article\n",
        "article.download()"
      ],
      "execution_count": 90,
      "outputs": []
    },
    {
      "cell_type": "code",
      "metadata": {
        "id": "ZSrXjyL5yf7b"
      },
      "source": [
        "# parse the article\n",
        "article.parse()"
      ],
      "execution_count": 91,
      "outputs": []
    },
    {
      "cell_type": "code",
      "metadata": {
        "colab": {
          "base_uri": "https://localhost:8080/"
        },
        "id": "2Zp30vbyyqdZ",
        "outputId": "940a6d57-b57c-4989-afeb-d12f91109b08"
      },
      "source": [
        "import nltk\n",
        "nltk.download('punkt')"
      ],
      "execution_count": 83,
      "outputs": [
        {
          "output_type": "stream",
          "text": [
            "[nltk_data] Downloading package punkt to /root/nltk_data...\n",
            "[nltk_data]   Unzipping tokenizers/punkt.zip.\n"
          ],
          "name": "stdout"
        },
        {
          "output_type": "execute_result",
          "data": {
            "text/plain": [
              "True"
            ]
          },
          "metadata": {
            "tags": []
          },
          "execution_count": 83
        }
      ]
    },
    {
      "cell_type": "code",
      "metadata": {
        "id": "9PVEarzfyomT"
      },
      "source": [
        "# perform natural language processing ie..nlp\n",
        "article.nlp()"
      ],
      "execution_count": 92,
      "outputs": []
    },
    {
      "cell_type": "code",
      "metadata": {
        "colab": {
          "base_uri": "https://localhost:8080/"
        },
        "id": "MQmYAsNByvR0",
        "outputId": "2127ef0e-2341-4ed3-bb43-406ea671c0f2"
      },
      "source": [
        "# extract title\n",
        "print(\"Article's Title:\")\n",
        "print(article.title)"
      ],
      "execution_count": 93,
      "outputs": [
        {
          "output_type": "stream",
          "text": [
            "Article's Title:\n",
            "Understanding Iterative vs Recursive Implementation\n"
          ],
          "name": "stdout"
        }
      ]
    },
    {
      "cell_type": "code",
      "metadata": {
        "colab": {
          "base_uri": "https://localhost:8080/"
        },
        "id": "9oiVeDjEyzas",
        "outputId": "8ea5e14d-cc18-4426-d9c8-010edf360dd8"
      },
      "source": [
        "# extract text\n",
        "print(\"Article's Text:\")\n",
        "print(article.text)"
      ],
      "execution_count": 94,
      "outputs": [
        {
          "output_type": "stream",
          "text": [
            "Article's Text:\n",
            "In this article, we are going to understand the various implementations of the Bubble Sort Algorithm and primarily comprehend the subtle difference between implementing recursively and recursive implementation.\n",
            "\n",
            "Bubble Sort is a classic sorting algorithm which focusses on making the largest element in the array, settle at the right most correct position at the end of each iteration. Within n-1 iterations, all the elements are moved to their right positions via successive adjacent swaps.\n",
            "\n",
            "1. Naive Iterative Implementation\n",
            "\n",
            "void bubbleSort ( int *arr, int n) { for ( int i = 0 ; i < n - 1 ; i++) { for ( int j = 0 ; j < n - i - 1 ; j++) { if (arr[j] > arr[j + 1 ]) swap(arr[j], arr[j + 1 ]); } } }\n",
            "\n",
            "We simply use 2 for loops, the outer for loop is used to indicate the size of the array to be considered.\n",
            "\n",
            "At the end of each iteration, we decrease the size of the array by 1 since the largest element is settled at the right most position. The inner for loop is used for successive adjacent swaps and is used to make the largest element settle down at its correct position.\n",
            "\n",
            "However, there is a huge drawback, especially considering the case where the input array is already sorted.\n",
            "\n",
            "Our algorithm will continue to check the condition for swapping elements for all the n-1 iterations.\n",
            "\n",
            "\n",
            "\n",
            "2. Enhanced Iterative Implementation\n",
            "\n",
            "We can clearly observe, if no swaps take place in a particular iteration, it indicates that all the elements in the array are placed at their correct positions.\n",
            "\n",
            "When such a situation is encountered, we could break the outer for loop.\n",
            "\n",
            "void bubbleSort_iter ( int *arr, int n) { for ( int i = 0 ; i < n - 1 ; i++) { bool flag = true ; for ( int j = 0 ; j < n - i - 1 ; j++) { if (arr[j] > arr[j + 1 ]) { flag = false ; swap(arr[j], arr[j + 1 ]); } } if (flag) break ; } }\n",
            "\n",
            "Using 2 for loops, we were successfully able to write an algorithm for Bubble sort using iterative implementation.\n",
            "\n",
            "\n",
            "\n",
            "Let's now look at the recursive implementation and understand the subtle difference between implementing recursively and recursive implementation as stated in the beginning of this article.\n",
            "\n",
            "3. Implementing Recursively\n",
            "\n",
            "void bubbleSort (int *arr, int n) { if (n == 1 ) return ; for (int j = 0 ; j < n - 1 ; j++) { if (arr[j] > arr[j + 1 ]) swap (arr[j], arr[j + 1 ]); } bubbleSort (arr, n - 1 ); }\n",
            "\n",
            "This is the most common solution that strikes the mind when we are asked to implement recursively.\n",
            "\n",
            "In the above code, we are implementing the outer for loop recursively, by making a recursive call to the function with reduced array size.\n",
            "\n",
            "However, the inner for loop stays the same, following the iterative approach.\n",
            "\n",
            "Well this is the most easiest way to come up with a hybrid implementation of both recursion and iteration.\n",
            "\n",
            "Coming up with a pure recursive solution, would require the removal of the inner for loop's iterative implementation and accommodating it in the recursive function calls.\n",
            "\n",
            "\n",
            "\n",
            "4. Recursive Implementation 💯\n",
            "\n",
            "void bubbleSort_rec (int *arr, int j, int n) { if (n == 1 ) return ; if (j == n - 1 ) return bubbleSort_rec (arr, 0 , n - 1 ); if (arr[j] > arr[j + 1 ]) swap (arr[j], arr[j + 1 ]); bubbleSort_rec (arr, j + 1 , n); }\n",
            "\n",
            "The variable j controls the inner for loop for successive adjacent swaps whereas variable n controls the size of the array or we could rather say, the iterations.\n",
            "\n",
            "\n",
            "\n",
            "Here, we have 2 base cases, n == 1 , indicating 1 element and hence demands no sorting, j == n - 1 which marks the end of the current iteration.\n",
            "\n",
            "\n",
            "\n",
            "We can closely observe, there are 2 recursive calls with slight variation in the parameter updations.\n",
            "\n",
            "\n",
            "\n",
            "bubbleSort_rec(arr, 0, n - 1) makes a function call for the next iteration of the algorithm, indicating the largest element is settled at its correct position in the current iteration. Hence, the variable j is initialized back to 0 and the size of the problem is decreased by 1.\n",
            "\n",
            "\n",
            "\n",
            "bubbleSort_rec(arr, j + 1, n) actually makes a function call for the next element in the current iteration. Hence the value of the variable j is increased by 1 and the problem size says the same.\n",
            "\n",
            "\n",
            "\n",
            "Coming up with the above solution, at the first attempt would be less intuitive for beginners. With consistent efforts and regular practice, you can master these concepts efficiently.\n",
            "\n",
            "\n",
            "\n",
            "Following is the full code of the implementation in C++\n",
            "\n",
            "using namespace std ; void bubbleSort_iter ( int *arr, int n) { for ( int i = 0 ; i < n - 1 ; i++) { bool flag = true ; for ( int j = 0 ; j < n - i - 1 ; j++) { if (arr[j] > arr[j + 1 ]) { flag = false ; swap(arr[j], arr[j + 1 ]); } } if (flag) break ; } } void bubbleSort ( int *arr, int n) { if (n == 1 ) return ; for ( int j = 0 ; j < n - 1 ; j++) { if (arr[j] > arr[j + 1 ]) swap(arr[j], arr[j + 1 ]); } bubbleSort(arr, n - 1 ); } void bubbleSort_rec ( int *arr, int j, int n) { if (n == 1 ) return ; if (j == n - 1 ) return bubbleSort_rec(arr, 0 , n - 1 ); if (arr[j] > arr[j + 1 ]) swap(arr[j], arr[j + 1 ]); bubbleSort_rec(arr, j + 1 , n); } int main () { int n; cin >> n; int arr[n]; for ( int i = 0 ; i < n; i++) cin >> arr[i]; bubbleSort_rec(arr, 0 , n); for ( int i = 0 ; i < n; i++) cout << arr[i] << \" \" ; return 0 ; }\n",
            "\n",
            "Hope you enjoyed this article and feel free to connect with me on LinkedIn and github.\n",
            "\n",
            "\n",
            "\n",
            "To have a much better understanding of recursion, try to implement the enhanced iterative approach using recursion !\n"
          ],
          "name": "stdout"
        }
      ]
    },
    {
      "cell_type": "code",
      "metadata": {
        "colab": {
          "base_uri": "https://localhost:8080/"
        },
        "id": "GnPS_DVzy2hH",
        "outputId": "dbb002aa-f542-41b7-f283-b3d3db76dc0d"
      },
      "source": [
        "# extract summary\n",
        "print(\"Article's Summary:\")\n",
        "print(article.summary)"
      ],
      "execution_count": 95,
      "outputs": [
        {
          "output_type": "stream",
          "text": [
            "Article's Summary:\n",
            "void bubbleSort_iter ( int *arr, int n) { for ( int i = 0 ; i < n - 1 ; i++) { bool flag = true ; for ( int j = 0 ; j < n - i - 1 ; j++) { if (arr[j] > arr[j + 1 ]) { flag = false ; swap(arr[j], arr[j + 1 ]); } } if (flag) break ; } }Using 2 for loops, we were successfully able to write an algorithm for Bubble sort using iterative implementation.\n",
            "Let's now look at the recursive implementation and understand the subtle difference between implementing recursively and recursive implementation as stated in the beginning of this article.\n",
            "Implementing Recursivelyvoid bubbleSort (int *arr, int n) { if (n == 1 ) return ; for (int j = 0 ; j < n - 1 ; j++) { if (arr[j] > arr[j + 1 ]) swap (arr[j], arr[j + 1 ]); } bubbleSort (arr, n - 1 ); }This is the most common solution that strikes the mind when we are asked to implement recursively.\n",
            "Coming up with a pure recursive solution, would require the removal of the inner for loop's iterative implementation and accommodating it in the recursive function calls.\n",
            "To have a much better understanding of recursion, try to implement the enhanced iterative approach using recursion !\n"
          ],
          "name": "stdout"
        }
      ]
    },
    {
      "cell_type": "code",
      "metadata": {
        "colab": {
          "base_uri": "https://localhost:8080/"
        },
        "id": "AWsfbPyay4Uz",
        "outputId": "8fb8cf02-f161-4e04-c6fa-d33c83c21ece"
      },
      "source": [
        "# extract keywords\n",
        "print(\"Article's Keywords:\")\n",
        "print(article.keywords)"
      ],
      "execution_count": 96,
      "outputs": [
        {
          "output_type": "stream",
          "text": [
            "Article's Keywords:\n",
            "['arrj', 'vs', 'iterative', 'array', 'iteration', 'arr', 'return', 'implementation', 'n', 'understanding', 'j', 'int', 'recursive']\n"
          ],
          "name": "stdout"
        }
      ]
    },
    {
      "cell_type": "code",
      "metadata": {
        "colab": {
          "base_uri": "https://localhost:8080/",
          "height": 52
        },
        "id": "8lgozzAEy51L",
        "outputId": "d82fcf89-57bf-4eab-f5c0-529fd9e4d262"
      },
      "source": [
        "# header top image\n",
        "article.top_image"
      ],
      "execution_count": 99,
      "outputs": [
        {
          "output_type": "execute_result",
          "data": {
            "application/vnd.google.colaboratory.intrinsic+json": {
              "type": "string"
            },
            "text/plain": [
              "'https://hashnode.com/utility/r?url=https%3A%2F%2Fcdn.hashnode.com%2Fres%2Fhashnode%2Fimage%2Fupload%2Fv1614455570381%2Fz4gRGbr2K.jpeg%3Fw%3D1200%26h%3D630%26fit%3Dcrop%26crop%3Dentropy%26auto%3Dcompress%26fm%3Dpng'"
            ]
          },
          "metadata": {
            "tags": []
          },
          "execution_count": 99
        }
      ]
    },
    {
      "cell_type": "markdown",
      "metadata": {
        "id": "74k2kBoW0o2_"
      },
      "source": [
        "Links for multi-threaded download: https://newspaper.readthedocs.io/en/latest/user_guide/advanced.html#multi-threading-article-downloads"
      ]
    }
  ]
}
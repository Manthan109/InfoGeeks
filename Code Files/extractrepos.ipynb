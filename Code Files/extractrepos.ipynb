{
 "cells": [
  {
   "cell_type": "markdown",
   "metadata": {},
   "source": [
    "## Installing PyGithub"
   ]
  },
  {
   "cell_type": "code",
   "execution_count": null,
   "metadata": {},
   "outputs": [],
   "source": [
    "%pip install PyGithub"
   ]
  },
  {
   "cell_type": "markdown",
   "metadata": {},
   "source": [
    "## Defining Function"
   ]
  },
  {
   "cell_type": "code",
   "execution_count": 37,
   "metadata": {},
   "outputs": [],
   "source": [
    "from github import Github \n",
    "\n",
    "g = Github()\n",
    "\n",
    "\n",
    "def extract_repos(userquery, count):\n",
    "    \n",
    "    repositories = g.search_repositories(query=userquery)\n",
    "    for i in range(count):\n",
    "        print('https://github.com/{}'.format(repositories[i].full_name))\n",
    "        stars_count=repositories[i].stargazers_count\n",
    "        print('Number of Stars on the repo=', stars_count)\n",
    "        \n"
   ]
  },
  {
   "cell_type": "markdown",
   "metadata": {},
   "source": [
    "### Calling the function"
   ]
  },
  {
   "cell_type": "code",
   "execution_count": 41,
   "metadata": {},
   "outputs": [
    {
     "name": "stdout",
     "output_type": "stream",
     "text": [
      "https://github.com/CSSEGISandData/COVID-19\n",
      "Number of Stars on the repo= 26078\n",
      "https://github.com/tokyo-metropolitan-gov/covid19\n",
      "Number of Stars on the repo= 6116\n",
      "https://github.com/covid19india/covid19india-react\n",
      "Number of Stars on the repo= 5269\n",
      "https://github.com/pcm-dpc/COVID-19\n",
      "Number of Stars on the repo= 3814\n",
      "https://github.com/nytimes/covid-19-data\n",
      "Number of Stars on the repo= 6299\n",
      "https://github.com/someshkar/covid19india-cluster\n",
      "Number of Stars on the repo= 1016\n",
      "https://github.com/owid/covid-19-data\n",
      "Number of Stars on the repo= 3252\n"
     ]
    }
   ],
   "source": [
    "extract_repos('covid', 7)"
   ]
  },
  {
   "cell_type": "code",
   "execution_count": null,
   "metadata": {},
   "outputs": [],
   "source": []
  }
 ],
 "metadata": {
  "kernelspec": {
   "display_name": "Python 3",
   "language": "python",
   "name": "python3"
  },
  "language_info": {
   "codemirror_mode": {
    "name": "ipython",
    "version": 3
   },
   "file_extension": ".py",
   "mimetype": "text/x-python",
   "name": "python",
   "nbconvert_exporter": "python",
   "pygments_lexer": "ipython3",
   "version": "3.8.3"
  }
 },
 "nbformat": 4,
 "nbformat_minor": 4
}
